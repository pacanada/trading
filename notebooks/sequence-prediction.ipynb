{
 "cells": [
  {
   "cell_type": "markdown",
   "metadata": {},
   "source": [
    "# Description\n",
    "The idea is to use previous observation to identify trends, patterns (maybe shape of indicators) when users want to sell or buy"
   ]
  },
  {
   "cell_type": "code",
   "execution_count": 1,
   "metadata": {},
   "outputs": [],
   "source": [
    "import pandas as pd\n",
    "#import seaborn as sns\n",
    "import numpy as np\n",
    "import matplotlib.pyplot as plt\n",
    "import torch\n",
    "from sklearn.model_selection import train_test_split\n",
    "import random"
   ]
  },
  {
   "cell_type": "code",
   "execution_count": 229,
   "metadata": {},
   "outputs": [],
   "source": [
    "sequence = 50\n",
    "target_name = \"target_2_m\""
   ]
  },
  {
   "cell_type": "code",
   "execution_count": 230,
   "metadata": {},
   "outputs": [],
   "source": [
    "\n",
    "\n",
    "df_all = pd.read_feather(\"../data/training/training_all_crypto_14_12_2021.feather\")\n",
    "df_xlm = df_all[df_all.pair_name==\"xlmeur\"].copy()\n",
    "df_xlm[target_name] = df_xlm[\"target_2\"]*1000"
   ]
  },
  {
   "cell_type": "code",
   "execution_count": 231,
   "metadata": {},
   "outputs": [
    {
     "name": "stdout",
     "output_type": "stream",
     "text": [
      "features length 38\n",
      "target length 9\n"
     ]
    }
   ],
   "source": [
    "df = df_xlm.copy()\n",
    "features = [col for col in df.columns if col.startswith(\"feature_domain\")]\n",
    "targets = [col for col in df.columns if col.startswith(\"target\")]\n",
    "print(\"features length\", len(features))\n",
    "print(\"target length\", len(targets))\n",
    "df[features] = (df[features]-df[features].mean())/ df[features].std()"
   ]
  },
  {
   "cell_type": "markdown",
   "metadata": {},
   "source": [
    "The idea is to create a datframe with sequences that can be converted into image"
   ]
  },
  {
   "cell_type": "code",
   "execution_count": null,
   "metadata": {},
   "outputs": [],
   "source": []
  },
  {
   "cell_type": "code",
   "execution_count": 190,
   "metadata": {},
   "outputs": [
    {
     "name": "stdout",
     "output_type": "stream",
     "text": [
      "(117948, 144)\n"
     ]
    }
   ],
   "source": [
    "print(df.shape)"
   ]
  },
  {
   "cell_type": "code",
   "execution_count": 232,
   "metadata": {},
   "outputs": [],
   "source": [
    "df_val = df.loc[100000:].copy()\n",
    "df_train = df.loc[:100000].copy()"
   ]
  },
  {
   "cell_type": "code",
   "execution_count": 233,
   "metadata": {},
   "outputs": [],
   "source": [
    "X_train, X_test, y_train, y_test = train_test_split(df_train[features], df_train[target_name])"
   ]
  },
  {
   "cell_type": "code",
   "execution_count": 234,
   "metadata": {},
   "outputs": [],
   "source": [
    "def create_sequence(X, y, sequence_length=10):\n",
    "    m, n = X.shape\n",
    "    \n",
    "    #y_shape = 1 f len(y.shape) ==1 else y.shape[1]\n",
    "    #targets = np.zeros((m-sequence_length, y.shape[1]))\n",
    "    targets = np.zeros((m-sequence_length,))\n",
    "    out = np.zeros((m-sequence_length, sequence_length, n))\n",
    "    for i in range(m-sequence_length):        \n",
    "        out[i, :,:] = X[i:i+sequence_length, : ] \n",
    "        #targets[i, :] = y[i+sequence_length,:]\n",
    "        targets[i] = y[i+sequence_length]\n",
    "        \n",
    "        \n",
    "    return out, targets"
   ]
  },
  {
   "cell_type": "code",
   "execution_count": 235,
   "metadata": {},
   "outputs": [
    {
     "data": {
      "text/plain": [
       "(74900,)"
      ]
     },
     "execution_count": 235,
     "metadata": {},
     "output_type": "execute_result"
    }
   ],
   "source": [
    "target.shape"
   ]
  },
  {
   "cell_type": "code",
   "execution_count": 236,
   "metadata": {},
   "outputs": [],
   "source": [
    "# we have to use std-scalar!!\n",
    "X_out, target = create_sequence(X=X_train.values, y=y_train.values, sequence_length=sequence)"
   ]
  },
  {
   "cell_type": "code",
   "execution_count": 237,
   "metadata": {},
   "outputs": [],
   "source": [
    "X_out_test, target_test = create_sequence(X=X_test.values, y=y_test.values, sequence_length=sequence)"
   ]
  },
  {
   "cell_type": "code",
   "execution_count": 251,
   "metadata": {},
   "outputs": [
    {
     "name": "stdout",
     "output_type": "stream",
     "text": [
      "0.0\n"
     ]
    },
    {
     "data": {
      "text/plain": [
       "<matplotlib.colorbar.Colorbar at 0x7fb74a627a60>"
      ]
     },
     "execution_count": 251,
     "metadata": {},
     "output_type": "execute_result"
    },
    {
     "data": {
      "image/png": "[encoded data removed]",
      "text/plain": [
       "<Figure size 432x288 with 2 Axes>"
      ]
     },
     "metadata": {
      "needs_background": "light"
     },
     "output_type": "display_data"
    }
   ],
   "source": [
    "print(target[3])\n",
    "plt.imshow(X_out[1,:,:])\n",
    "plt.colorbar()"
   ]
  },
  {
   "cell_type": "code",
   "execution_count": 239,
   "metadata": {},
   "outputs": [],
   "source": [
    "class NN(torch.nn.Module):\n",
    "    def __init__(self, dim_in, dim_out):\n",
    "        super(NN, self).__init__()\n",
    "        self.l1 = torch.nn.Linear(dim_in,50)\n",
    "        self.l2 = torch.nn.Linear(50, dim_out)\n",
    "    def forward(self, x):\n",
    "        x = torch.nn.functional.relu(self.l1(x))\n",
    "        x = self.l2(x)\n",
    "        return x   \n",
    "        "
   ]
  },
  {
   "cell_type": "code",
   "execution_count": 240,
   "metadata": {},
   "outputs": [],
   "source": [
    "batch_size = 24\n",
    "epochs = 10\n",
    "model = NN(dim_in=sequence*38, dim_out=1)"
   ]
  },
  {
   "cell_type": "code",
   "execution_count": 241,
   "metadata": {},
   "outputs": [],
   "source": [
    "optim = torch.optim.Adam(params=model.parameters(), lr=0.001)\n",
    "criterion = torch.nn.MSELoss()"
   ]
  },
  {
   "cell_type": "code",
   "execution_count": 242,
   "metadata": {},
   "outputs": [],
   "source": [
    "X_out_val, target_val = create_sequence(X=df_val[features].values, y=df_val[target_name].values, sequence_length=sequence)\n",
    "X_val_torch = torch.Tensor(X_out_val[:batch_size].reshape(-1,38*sequence))\n",
    "y_val_torch = torch.Tensor(target_val[:batch_size])"
   ]
  },
  {
   "cell_type": "code",
   "execution_count": 243,
   "metadata": {},
   "outputs": [],
   "source": [
    "loss_train_list = []\n",
    "loss_test_list = []"
   ]
  },
  {
   "cell_type": "code",
   "execution_count": 244,
   "metadata": {},
   "outputs": [
    {
     "name": "stdout",
     "output_type": "stream",
     "text": [
      "0 tensor(4.1348, grad_fn=<MeanBackward0>) tensor(2.9413, grad_fn=<MeanBackward0>)\n",
      "1 tensor(1.3210, grad_fn=<MeanBackward0>) tensor(2.7513, grad_fn=<MeanBackward0>)\n",
      "2 tensor(3.7569, grad_fn=<MeanBackward0>) tensor(2.8685, grad_fn=<MeanBackward0>)\n",
      "3 tensor(1.8152, grad_fn=<MeanBackward0>) tensor(3.4193, grad_fn=<MeanBackward0>)\n",
      "4 tensor(3.8122, grad_fn=<MeanBackward0>) tensor(3.5449, grad_fn=<MeanBackward0>)\n",
      "5 tensor(2.8675, grad_fn=<MeanBackward0>) tensor(3.2350, grad_fn=<MeanBackward0>)\n",
      "6 tensor(1.3320, grad_fn=<MeanBackward0>) tensor(3.6158, grad_fn=<MeanBackward0>)\n",
      "7 tensor(2.6794, grad_fn=<MeanBackward0>) tensor(3.7931, grad_fn=<MeanBackward0>)\n",
      "8 tensor(1.6026, grad_fn=<MeanBackward0>) tensor(3.2637, grad_fn=<MeanBackward0>)\n",
      "9 tensor(1.6429, grad_fn=<MeanBackward0>) tensor(4.1102, grad_fn=<MeanBackward0>)\n"
     ]
    }
   ],
   "source": [
    "\n",
    "y_test_torch = torch.Tensor(target_test[:batch_size].reshape(-1,1))\n",
    "X_test_torch= torch.Tensor(X_out_test[:batch_size].reshape(-1,38*sequence))\n",
    "for epoch in range(epochs):\n",
    "    \n",
    "    for n in range(round(100000/(batch_size+1))):\n",
    "        sampl = np.random.randint(0,len(X_out), size=batch_size)\n",
    "        X = torch.Tensor(X_out[sampl].reshape(batch_size, -1))\n",
    "        y = torch.Tensor(target[sampl].reshape(-1,1))\n",
    "        optim.zero_grad()\n",
    "        output = model(X)\n",
    "        #print(output.shape)\n",
    "        #print(y.shape)\n",
    "        loss = criterion(output, y)\n",
    "        loss.backward()\n",
    "        optim.step()\n",
    "        loss_train_list.append(loss.detach().numpy())\n",
    "        loss_test = criterion(model(X_test_torch), y_test_torch)\n",
    "        loss_test_list.append(loss_test.detach().numpy())\n",
    "    \n",
    "    print(epoch, loss.mean(), loss_test.mean())\n",
    "    # validation\n",
    "\n",
    "\n",
    "    #plt.plot(model(X_val_torch).detach().numpy(), label=\"preds\")\n",
    "    #plt.plot(y_val_torch, label=\"true\")\n",
    "    #plt.legend()\n",
    "    #plt.show()"
   ]
  },
  {
   "cell_type": "code",
   "execution_count": 248,
   "metadata": {},
   "outputs": [
    {
     "data": {
      "text/plain": [
       "<matplotlib.legend.Legend at 0x7fb73b9e49d0>"
      ]
     },
     "execution_count": 248,
     "metadata": {},
     "output_type": "execute_result"
    },
    {
     "data": {
      "image/png": "[encoded data removed]",
      "text/plain": [
       "<Figure size 432x288 with 1 Axes>"
      ]
     },
     "metadata": {
      "needs_background": "light"
     },
     "output_type": "display_data"
    }
   ],
   "source": [
    "plt.plot(loss_train_list, label=\"train\")\n",
    "plt.plot(loss_test_list, label=\"test\")\n",
    "plt.legend()"
   ]
  },
  {
   "cell_type": "code",
   "execution_count": 249,
   "metadata": {},
   "outputs": [
    {
     "name": "stdout",
     "output_type": "stream",
     "text": [
      "Corr: 0.009947243385788616\n"
     ]
    },
    {
     "data": {
      "text/plain": [
       "<matplotlib.legend.Legend at 0x7fb72a9572b0>"
      ]
     },
     "execution_count": 249,
     "metadata": {},
     "output_type": "execute_result"
    },
    {
     "data": {
      "image/png": "[encoded data removed]",
      "text/plain": [
       "<Figure size 432x288 with 1 Axes>"
      ]
     },
     "metadata": {
      "needs_background": "light"
     },
     "output_type": "display_data"
    }
   ],
   "source": [
    "print(\"Corr:\", pd.DataFrame({\"preds\": model(X_test_torch).detach().numpy().reshape(-1), \"true\":y_test_torch.detach().numpy().reshape(-1)}).corr()[\"preds\"][\"true\"])\n",
    "plt.plot(model(X_test_torch).detach().numpy(), label=\"preds\")\n",
    "plt.plot(y_test_torch, label=\"true\")\n",
    "plt.legend()"
   ]
  },
  {
   "cell_type": "code",
   "execution_count": 250,
   "metadata": {},
   "outputs": [
    {
     "name": "stdout",
     "output_type": "stream",
     "text": [
      "Corr: 0.10835037370556004\n"
     ]
    },
    {
     "data": {
      "image/png": "[encoded data removed]",
      "text/plain": [
       "<Figure size 432x288 with 1 Axes>"
      ]
     },
     "metadata": {
      "needs_background": "light"
     },
     "output_type": "display_data"
    }
   ],
   "source": [
    "# validation\n",
    "X_out_val, target_val = create_sequence(X=df_val[features].values, y=df_val[target_name].values, sequence_length=sequence)\n",
    "X_val_torch = torch.Tensor(X_out_val[:batch_size].reshape(-1,38*sequence))\n",
    "y_val_torch = torch.Tensor(target_val[:batch_size])\n",
    "\n",
    "y_preds = model(X_val_torch).detach().numpy().reshape(-1)\n",
    "y_true = y_val_torch.detach().numpy().reshape(-1)\n",
    "plt.plot(y_preds, label=\"preds\")\n",
    "plt.plot(y_true, label=\"true\")\n",
    "plt.legend()\n",
    "print(\"Corr:\", pd.DataFrame({\"preds\": y_preds, \"true\":y_true}).corr()[\"preds\"][\"true\"])"
   ]
  },
  {
   "cell_type": "code",
   "execution_count": 179,
   "metadata": {},
   "outputs": [
    {
     "name": "stderr",
     "output_type": "stream",
     "text": [
      "/Users/pablocanadapereira/opt/anaconda3/envs/datascience/lib/python3.10/site-packages/torch/nn/modules/loss.py:529: UserWarning: Using a target size (torch.Size([500])) that is different to the input size (torch.Size([500, 1])). This will likely lead to incorrect results due to broadcasting. Please ensure they have the same size.\n",
      "  return F.mse_loss(input, target, reduction=self.reduction)\n"
     ]
    },
    {
     "ename": "RuntimeError",
     "evalue": "mat1 and mat2 shapes cannot be multiplied (500x1710 and 1900x100)",
     "output_type": "error",
     "traceback": [
      "\u001b[0;31m---------------------------------------------------------------------------\u001b[0m",
      "\u001b[0;31mRuntimeError\u001b[0m                              Traceback (most recent call last)",
      "Input \u001b[0;32mIn [179]\u001b[0m, in \u001b[0;36m<cell line: 1>\u001b[0;34m()\u001b[0m\n\u001b[1;32m      7\u001b[0m \u001b[38;5;66;03m#X = torch.Tensor(X_out[n*batch_size:(n+1)*batch_size, :,:])\u001b[39;00m\n\u001b[1;32m      8\u001b[0m \u001b[38;5;66;03m#y = torch.Tensor(target[n*batch_size:(n+1)*batch_size,:]) \u001b[39;00m\n\u001b[1;32m      9\u001b[0m optim\u001b[38;5;241m.\u001b[39mzero_grad()\n\u001b[0;32m---> 10\u001b[0m output \u001b[38;5;241m=\u001b[39m \u001b[43mmodel\u001b[49m\u001b[43m(\u001b[49m\u001b[43mX\u001b[49m\u001b[43m)\u001b[49m\n\u001b[1;32m     11\u001b[0m loss \u001b[38;5;241m=\u001b[39m criterion(output, y)\n\u001b[1;32m     12\u001b[0m \u001b[38;5;66;03m#print(output.shape, y.shape)\u001b[39;00m\n",
      "File \u001b[0;32m~/opt/anaconda3/envs/datascience/lib/python3.10/site-packages/torch/nn/modules/module.py:1110\u001b[0m, in \u001b[0;36mModule._call_impl\u001b[0;34m(self, *input, **kwargs)\u001b[0m\n\u001b[1;32m   1106\u001b[0m \u001b[38;5;66;03m# If we don't have any hooks, we want to skip the rest of the logic in\u001b[39;00m\n\u001b[1;32m   1107\u001b[0m \u001b[38;5;66;03m# this function, and just call forward.\u001b[39;00m\n\u001b[1;32m   1108\u001b[0m \u001b[38;5;28;01mif\u001b[39;00m \u001b[38;5;129;01mnot\u001b[39;00m (\u001b[38;5;28mself\u001b[39m\u001b[38;5;241m.\u001b[39m_backward_hooks \u001b[38;5;129;01mor\u001b[39;00m \u001b[38;5;28mself\u001b[39m\u001b[38;5;241m.\u001b[39m_forward_hooks \u001b[38;5;129;01mor\u001b[39;00m \u001b[38;5;28mself\u001b[39m\u001b[38;5;241m.\u001b[39m_forward_pre_hooks \u001b[38;5;129;01mor\u001b[39;00m _global_backward_hooks\n\u001b[1;32m   1109\u001b[0m         \u001b[38;5;129;01mor\u001b[39;00m _global_forward_hooks \u001b[38;5;129;01mor\u001b[39;00m _global_forward_pre_hooks):\n\u001b[0;32m-> 1110\u001b[0m     \u001b[38;5;28;01mreturn\u001b[39;00m \u001b[43mforward_call\u001b[49m\u001b[43m(\u001b[49m\u001b[38;5;241;43m*\u001b[39;49m\u001b[38;5;28;43minput\u001b[39;49m\u001b[43m,\u001b[49m\u001b[43m \u001b[49m\u001b[38;5;241;43m*\u001b[39;49m\u001b[38;5;241;43m*\u001b[39;49m\u001b[43mkwargs\u001b[49m\u001b[43m)\u001b[49m\n\u001b[1;32m   1111\u001b[0m \u001b[38;5;66;03m# Do not call functions when jit is used\u001b[39;00m\n\u001b[1;32m   1112\u001b[0m full_backward_hooks, non_full_backward_hooks \u001b[38;5;241m=\u001b[39m [], []\n",
      "Input \u001b[0;32mIn [155]\u001b[0m, in \u001b[0;36mNN.forward\u001b[0;34m(self, x)\u001b[0m\n\u001b[1;32m      6\u001b[0m \u001b[38;5;28;01mdef\u001b[39;00m \u001b[38;5;21mforward\u001b[39m(\u001b[38;5;28mself\u001b[39m, x):\n\u001b[0;32m----> 7\u001b[0m     x \u001b[38;5;241m=\u001b[39m torch\u001b[38;5;241m.\u001b[39mnn\u001b[38;5;241m.\u001b[39mfunctional\u001b[38;5;241m.\u001b[39mrelu(\u001b[38;5;28;43mself\u001b[39;49m\u001b[38;5;241;43m.\u001b[39;49m\u001b[43ml1\u001b[49m\u001b[43m(\u001b[49m\u001b[43mx\u001b[49m\u001b[43m)\u001b[49m)\n\u001b[1;32m      8\u001b[0m     x \u001b[38;5;241m=\u001b[39m \u001b[38;5;28mself\u001b[39m\u001b[38;5;241m.\u001b[39ml2(x)\n\u001b[1;32m      9\u001b[0m     \u001b[38;5;28;01mreturn\u001b[39;00m x\n",
      "File \u001b[0;32m~/opt/anaconda3/envs/datascience/lib/python3.10/site-packages/torch/nn/modules/module.py:1110\u001b[0m, in \u001b[0;36mModule._call_impl\u001b[0;34m(self, *input, **kwargs)\u001b[0m\n\u001b[1;32m   1106\u001b[0m \u001b[38;5;66;03m# If we don't have any hooks, we want to skip the rest of the logic in\u001b[39;00m\n\u001b[1;32m   1107\u001b[0m \u001b[38;5;66;03m# this function, and just call forward.\u001b[39;00m\n\u001b[1;32m   1108\u001b[0m \u001b[38;5;28;01mif\u001b[39;00m \u001b[38;5;129;01mnot\u001b[39;00m (\u001b[38;5;28mself\u001b[39m\u001b[38;5;241m.\u001b[39m_backward_hooks \u001b[38;5;129;01mor\u001b[39;00m \u001b[38;5;28mself\u001b[39m\u001b[38;5;241m.\u001b[39m_forward_hooks \u001b[38;5;129;01mor\u001b[39;00m \u001b[38;5;28mself\u001b[39m\u001b[38;5;241m.\u001b[39m_forward_pre_hooks \u001b[38;5;129;01mor\u001b[39;00m _global_backward_hooks\n\u001b[1;32m   1109\u001b[0m         \u001b[38;5;129;01mor\u001b[39;00m _global_forward_hooks \u001b[38;5;129;01mor\u001b[39;00m _global_forward_pre_hooks):\n\u001b[0;32m-> 1110\u001b[0m     \u001b[38;5;28;01mreturn\u001b[39;00m \u001b[43mforward_call\u001b[49m\u001b[43m(\u001b[49m\u001b[38;5;241;43m*\u001b[39;49m\u001b[38;5;28;43minput\u001b[39;49m\u001b[43m,\u001b[49m\u001b[43m \u001b[49m\u001b[38;5;241;43m*\u001b[39;49m\u001b[38;5;241;43m*\u001b[39;49m\u001b[43mkwargs\u001b[49m\u001b[43m)\u001b[49m\n\u001b[1;32m   1111\u001b[0m \u001b[38;5;66;03m# Do not call functions when jit is used\u001b[39;00m\n\u001b[1;32m   1112\u001b[0m full_backward_hooks, non_full_backward_hooks \u001b[38;5;241m=\u001b[39m [], []\n",
      "File \u001b[0;32m~/opt/anaconda3/envs/datascience/lib/python3.10/site-packages/torch/nn/modules/linear.py:103\u001b[0m, in \u001b[0;36mLinear.forward\u001b[0;34m(self, input)\u001b[0m\n\u001b[1;32m    102\u001b[0m \u001b[38;5;28;01mdef\u001b[39;00m \u001b[38;5;21mforward\u001b[39m(\u001b[38;5;28mself\u001b[39m, \u001b[38;5;28minput\u001b[39m: Tensor) \u001b[38;5;241m-\u001b[39m\u001b[38;5;241m>\u001b[39m Tensor:\n\u001b[0;32m--> 103\u001b[0m     \u001b[38;5;28;01mreturn\u001b[39;00m \u001b[43mF\u001b[49m\u001b[38;5;241;43m.\u001b[39;49m\u001b[43mlinear\u001b[49m\u001b[43m(\u001b[49m\u001b[38;5;28;43minput\u001b[39;49m\u001b[43m,\u001b[49m\u001b[43m \u001b[49m\u001b[38;5;28;43mself\u001b[39;49m\u001b[38;5;241;43m.\u001b[39;49m\u001b[43mweight\u001b[49m\u001b[43m,\u001b[49m\u001b[43m \u001b[49m\u001b[38;5;28;43mself\u001b[39;49m\u001b[38;5;241;43m.\u001b[39;49m\u001b[43mbias\u001b[49m\u001b[43m)\u001b[49m\n",
      "\u001b[0;31mRuntimeError\u001b[0m: mat1 and mat2 shapes cannot be multiplied (500x1710 and 1900x100)"
     ]
    }
   ],
   "source": [
    "for epoch in range(epochs):\n",
    "    \n",
    "    for n in range(round(100000/(batch_size+1))):\n",
    "        #try:\n",
    "        X = torch.Tensor(X_out[n*batch_size:(n+1)*batch_size, :,:].reshape(batch_size, -1))\n",
    "        y = torch.Tensor(target[n*batch_size:(n+1)*batch_size])#.reshape(batch_size))\n",
    "        #X = torch.Tensor(X_out[n*batch_size:(n+1)*batch_size, :,:])\n",
    "        #y = torch.Tensor(target[n*batch_size:(n+1)*batch_size,:]) \n",
    "        optim.zero_grad()\n",
    "        output = model(X)\n",
    "        loss = criterion(output, y)\n",
    "        #print(output.shape, y.shape)\n",
    "        loss.backward()\n",
    "        optim.step()\n",
    "        #except ValueError:\n",
    "        #    print(n)\n",
    "        #    break\n",
    "    \n",
    "    print(epoch, loss.mean())\n",
    "    \n",
    "    \n",
    "    "
   ]
  },
  {
   "cell_type": "code",
   "execution_count": 72,
   "metadata": {},
   "outputs": [
    {
     "data": {
      "text/plain": [
       "tensor([[-0.0180,  0.0032,  0.0055,  0.0070,  0.0035,  0.0151, -0.0060, -0.0015]],\n",
       "       grad_fn=<AddmmBackward0>)"
      ]
     },
     "execution_count": 72,
     "metadata": {},
     "output_type": "execute_result"
    }
   ],
   "source": [
    "model(torch.Tensor(X_out_test[0, :,:].reshape(1,-1)))"
   ]
  },
  {
   "cell_type": "code",
   "execution_count": 73,
   "metadata": {},
   "outputs": [
    {
     "data": {
      "text/plain": [
       "array([ 0.00013795,  0.00013795,  0.00396958,  0.00243199, -0.00084806,\n",
       "       -0.01078218, -0.01284392, -0.01082717])"
      ]
     },
     "execution_count": 73,
     "metadata": {},
     "output_type": "execute_result"
    }
   ],
   "source": [
    "target_test[0,:]"
   ]
  },
  {
   "cell_type": "code",
   "execution_count": null,
   "metadata": {},
   "outputs": [],
   "source": [
    "df[features].values[]"
   ]
  },
  {
   "cell_type": "code",
   "execution_count": null,
   "metadata": {},
   "outputs": [],
   "source": [
    "model(torch.Tensor(X_out[0, :,:].reshape(1,-1)))"
   ]
  },
  {
   "cell_type": "code",
   "execution_count": null,
   "metadata": {},
   "outputs": [],
   "source": [
    "target[0,:]"
   ]
  },
  {
   "cell_type": "code",
   "execution_count": null,
   "metadata": {},
   "outputs": [],
   "source": []
  },
  {
   "cell_type": "code",
   "execution_count": null,
   "metadata": {},
   "outputs": [],
   "source": []
  },
  {
   "cell_type": "code",
   "execution_count": null,
   "metadata": {},
   "outputs": [],
   "source": []
  },
  {
   "cell_type": "code",
   "execution_count": 21,
   "metadata": {},
   "outputs": [
    {
     "data": {
      "text/plain": [
       "Index(['index', 'Unnamed: 0', 'date', 'time', 'open', 'high', 'low', 'close',\n",
       "       'vwap', 'volume',\n",
       "       ...\n",
       "       'feature_domain_30', 'feature_domain_31', 'feature_domain_32',\n",
       "       'feature_domain_33', 'feature_domain_34', 'feature_domain_35',\n",
       "       'feature_domain_36', 'feature_domain_37', 'type', 'pair_name'],\n",
       "      dtype='object', length=143)"
      ]
     },
     "execution_count": 21,
     "metadata": {},
     "output_type": "execute_result"
    }
   ],
   "source": [
    "df.columns"
   ]
  },
  {
   "cell_type": "code",
   "execution_count": 26,
   "metadata": {},
   "outputs": [
    {
     "data": {
      "text/plain": [
       "<AxesSubplot:xlabel='feature_domain_13', ylabel='Count'>"
      ]
     },
     "execution_count": 26,
     "metadata": {},
     "output_type": "execute_result"
    },
    {
     "data": {
      "image/png": "[encoded data removed]",
      "text/plain": [
       "<Figure size 432x288 with 1 Axes>"
      ]
     },
     "metadata": {
      "needs_background": "light"
     },
     "output_type": "display_data"
    }
   ],
   "source": [
    "sns.histplot(data=df, x=\"feature_domain_13\", hue=\"pair_name\")"
   ]
  },
  {
   "cell_type": "code",
   "execution_count": 32,
   "metadata": {},
   "outputs": [
    {
     "data": {
      "text/plain": [
       "array([0.00073525])"
      ]
     },
     "execution_count": 32,
     "metadata": {},
     "output_type": "execute_result"
    }
   ],
   "source": []
  },
  {
   "cell_type": "code",
   "execution_count": 34,
   "metadata": {},
   "outputs": [
    {
     "name": "stdout",
     "output_type": "stream",
     "text": [
      "feature_domain_0    0.000735\n",
      "dtype: float64\n",
      "feature_domain_1    0.001044\n",
      "dtype: float64\n",
      "feature_domain_2    0.001262\n",
      "dtype: float64\n",
      "feature_domain_3    0.00144\n",
      "dtype: float64\n",
      "feature_domain_4    0.001964\n",
      "dtype: float64\n",
      "feature_domain_5    0.002357\n",
      "dtype: float64\n",
      "feature_domain_6    0.002695\n",
      "dtype: float64\n",
      "feature_domain_7    0.003001\n",
      "dtype: float64\n",
      "feature_domain_8    0.003285\n",
      "dtype: float64\n",
      "feature_domain_9    0.00355\n",
      "dtype: float64\n",
      "feature_domain_10    0.00425\n",
      "dtype: float64\n",
      "feature_domain_11    0.004741\n",
      "dtype: float64\n",
      "feature_domain_12    0.005166\n",
      "dtype: float64\n",
      "feature_domain_13    6.842973\n",
      "dtype: float64\n",
      "           feature_domain_13\n",
      "pair_name                   \n",
      "adaeur             17.074042\n",
      "algoeur            22.214237\n",
      "bateur             29.227444\n",
      "bcheur             23.662634\n",
      "compeur            37.143334\n",
      "etheur             16.844191\n",
      "xdgeur             18.773776\n",
      "xlmeur             21.478258\n",
      "xrpeur             16.405344\n",
      "feature_domain_14    6.18821\n",
      "dtype: float64\n",
      "           feature_domain_14\n",
      "pair_name                   \n",
      "adaeur             13.874314\n",
      "algoeur            17.962152\n",
      "bateur             24.484065\n",
      "bcheur             19.246124\n",
      "compeur            32.055453\n",
      "etheur             13.564597\n",
      "xdgeur             15.128865\n",
      "xlmeur             17.519791\n",
      "xrpeur             13.217983\n",
      "feature_domain_15    5.096946\n",
      "dtype: float64\n",
      "           feature_domain_15\n",
      "pair_name                   \n",
      "adaeur             10.570330\n",
      "algoeur            13.498945\n",
      "bateur             19.112751\n",
      "bcheur             14.525646\n",
      "compeur            25.526210\n",
      "etheur             10.390444\n",
      "xdgeur             11.201910\n",
      "xlmeur             13.373663\n",
      "xrpeur             10.019553\n",
      "feature_domain_16    4.324543\n",
      "dtype: float64\n",
      "           feature_domain_16\n",
      "pair_name                   \n",
      "adaeur              8.796618\n",
      "algoeur            11.131405\n",
      "bateur             15.894645\n",
      "bcheur             12.041899\n",
      "compeur            21.493012\n",
      "etheur              8.675542\n",
      "xdgeur              9.141383\n",
      "xlmeur             11.133667\n",
      "xrpeur              8.319661\n",
      "feature_domain_17    3.549067\n",
      "dtype: float64\n",
      "           feature_domain_17\n",
      "pair_name                   \n",
      "adaeur              7.217710\n",
      "algoeur             9.075155\n",
      "bateur             13.068706\n",
      "bcheur              9.973228\n",
      "compeur            17.656745\n",
      "etheur              7.243788\n",
      "xdgeur              7.454450\n",
      "xlmeur              9.159708\n",
      "xrpeur              6.848262\n",
      "feature_domain_18    2.197756\n",
      "dtype: float64\n",
      "           feature_domain_18\n",
      "pair_name                   \n",
      "adaeur              4.984237\n",
      "algoeur             6.246707\n",
      "bateur              8.911329\n",
      "bcheur              6.991109\n",
      "compeur            11.331469\n",
      "etheur              5.148688\n",
      "xdgeur              5.033477\n",
      "xlmeur              6.383514\n",
      "xrpeur              4.747366\n",
      "feature_domain_19    1.730646\n",
      "dtype: float64\n",
      "           feature_domain_19\n",
      "pair_name                   \n",
      "adaeur              4.086747\n",
      "algoeur             4.971924\n",
      "bateur              7.176038\n",
      "bcheur              5.690325\n",
      "compeur             9.032704\n",
      "etheur              4.290715\n",
      "xdgeur              4.002755\n",
      "xlmeur              5.225979\n",
      "xrpeur              3.846462\n",
      "feature_domain_20    1.459235\n",
      "dtype: float64\n",
      "           feature_domain_20\n",
      "pair_name                   \n",
      "adaeur              3.538498\n",
      "algoeur             4.237106\n",
      "bateur              6.064557\n",
      "bcheur              4.842148\n",
      "compeur             7.713197\n",
      "etheur              3.747833\n",
      "xdgeur              3.371330\n",
      "xlmeur              4.550726\n",
      "xrpeur              3.318332\n",
      "feature_domain_21    2.037384\n",
      "dtype: float64\n",
      "           feature_domain_21\n",
      "pair_name                   \n",
      "adaeur              0.003375\n",
      "algoeur             0.005134\n",
      "bateur              0.003988\n",
      "bcheur              0.981765\n",
      "compeur             0.700821\n",
      "etheur              6.222858\n",
      "xdgeur              0.000595\n",
      "xlmeur              0.000631\n",
      "xrpeur              0.001941\n",
      "feature_domain_22    2.900053\n",
      "dtype: float64\n",
      "           feature_domain_22\n",
      "pair_name                   \n",
      "adaeur              0.004641\n",
      "algoeur             0.006764\n",
      "bateur              0.005558\n",
      "bcheur              1.363040\n",
      "compeur             0.931259\n",
      "etheur              8.855737\n",
      "xdgeur              0.000809\n",
      "xlmeur              0.000913\n",
      "xrpeur              0.002741\n",
      "feature_domain_23    1.442692\n",
      "dtype: float64\n",
      "           feature_domain_23\n",
      "pair_name                   \n",
      "adaeur              0.002495\n",
      "algoeur             0.003909\n",
      "bateur              0.002908\n",
      "bcheur              0.709063\n",
      "compeur             0.531143\n",
      "etheur              4.407307\n",
      "xdgeur              0.000430\n",
      "xlmeur              0.000454\n",
      "xrpeur              0.001393\n",
      "feature_domain_24    2.457741\n",
      "dtype: float64\n",
      "           feature_domain_24\n",
      "pair_name                   \n",
      "adaeur              0.003907\n",
      "algoeur             0.005585\n",
      "bateur              0.004719\n",
      "bcheur              1.143949\n",
      "compeur             0.772979\n",
      "etheur              7.504537\n",
      "xdgeur              0.000668\n",
      "xlmeur              0.000784\n",
      "xrpeur              0.002316\n",
      "feature_domain_25    1.064883\n",
      "dtype: float64\n",
      "           feature_domain_25\n",
      "pair_name                   \n",
      "adaeur              0.001875\n",
      "algoeur             0.003118\n",
      "bateur              0.002167\n",
      "bcheur              0.527091\n",
      "compeur             0.403876\n",
      "etheur              3.253386\n",
      "xdgeur              0.000323\n",
      "xlmeur              0.000341\n",
      "xrpeur              0.001044\n",
      "feature_domain_26    0.000419\n",
      "dtype: float64\n",
      "feature_domain_27    0.000619\n",
      "dtype: float64\n",
      "feature_domain_28    0.00077\n",
      "dtype: float64\n",
      "feature_domain_29    0.001027\n",
      "dtype: float64\n",
      "feature_domain_30    0.001516\n",
      "dtype: float64\n",
      "feature_domain_31    0.002125\n",
      "dtype: float64\n",
      "feature_domain_32    0.002725\n",
      "dtype: float64\n",
      "feature_domain_33    0.003289\n",
      "dtype: float64\n",
      "feature_domain_34    0.004141\n",
      "dtype: float64\n",
      "feature_domain_35    0.005703\n",
      "dtype: float64\n",
      "feature_domain_36    0.007009\n",
      "dtype: float64\n",
      "feature_domain_37    0.008326\n",
      "dtype: float64\n"
     ]
    }
   ],
   "source": [
    "for feature in features:\n",
    "    std = df[[feature, \"pair_name\"]].groupby(\"pair_name\").std().std()\n",
    "    print(std )\n",
    "    if std.values[0]>1:\n",
    "        print(df[[feature, \"pair_name\"]].groupby(\"pair_name\").std())"
   ]
  }
 ],
 "metadata": {
  "kernelspec": {
   "display_name": "Python 3",
   "language": "python",
   "name": "python3"
  },
  "language_info": {
   "codemirror_mode": {
    "name": "ipython",
    "version": 3
   },
   "file_extension": ".py",
   "mimetype": "text/x-python",
   "name": "python",
   "nbconvert_exporter": "python",
   "pygments_lexer": "ipython3",
   "version": "3.8.5"
  }
 },
 "nbformat": 4,
 "nbformat_minor": 4
}
