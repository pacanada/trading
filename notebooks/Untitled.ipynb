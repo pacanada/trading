{
 "cells": [
  {
   "cell_type": "code",
   "execution_count": null,
   "metadata": {},
   "outputs": [],
   "source": [
    "import requests\n",
    "\n",
    "resp = requests.get('https://api.kraken.com/0/public/OHLC?pair=XBTUSD')\n",
    "\n",
    "print(resp.json())"
   ]
  },
  {
   "cell_type": "code",
   "execution_count": 7,
   "metadata": {},
   "outputs": [
    {
     "data": {
      "text/plain": [
       "1637780400"
      ]
     },
     "execution_count": 7,
     "metadata": {},
     "output_type": "execute_result"
    }
   ],
   "source": [
    "resp.json()[\"result\"][\"last\"]"
   ]
  },
  {
   "cell_type": "code",
   "execution_count": 51,
   "metadata": {},
   "outputs": [],
   "source": [
    "def get_best_limit_price(pair_name, order_type):\n",
    "    order_book = get_order_book_response(pair_name)\n",
    "    if order_type==\"buy\":\n",
    "        # {'error': [],\n",
    "        #'result': {'XXLMZEUR': {'asks': [['0.28805700', '3104.111', 1637781170],\n",
    "        output = order_book[\"result\"][list(order_book[\"result\"].keys())[0]][\"asks\"][0][0]\n",
    "    elif order_type==\"sell\":\n",
    "        output = order_book[\"result\"][list(order_book[\"result\"].keys())[0]][\"bids\"][0][0]\n",
    "    return float(output)\n",
    "def get_order_book_response(pair_name, since=None, count=10):\n",
    "    resp = requests.get(f\"https://api.kraken.com/0/public/Depth?pair={pair_name}&since={since}&count={count}\")\n",
    "    return resp.json()"
   ]
  },
  {
   "cell_type": "code",
   "execution_count": 54,
   "metadata": {},
   "outputs": [
    {
     "name": "stdout",
     "output_type": "stream",
     "text": [
      "0.288665\n",
      "0.288509\n"
     ]
    },
    {
     "data": {
      "text/plain": [
       "{'error': [],\n",
       " 'result': {'XXLMZEUR': {'asks': [['0.28866500', '3675.000', 1637781715],\n",
       "    ['0.28867700', '1901.829', 1637781715],\n",
       "    ['0.28867800', '4903.003', 1637781715],\n",
       "    ['0.28867900', '4823.994', 1637781715],\n",
       "    ['0.28868000', '3675.000', 1637781714],\n",
       "    ['0.28869300', '1731.216', 1637781715],\n",
       "    ['0.28869400', '2455.359', 1637781714],\n",
       "    ['0.28874100', '1428.373', 1637781714],\n",
       "    ['0.28876500', '2589.573', 1637781714],\n",
       "    ['0.28876600', '1720.481', 1637781714]],\n",
       "   'bids': [['0.28850900', '1732.759', 1637781715],\n",
       "    ['0.28837900', '1426.685', 1637781715],\n",
       "    ['0.28837300', '1737.180', 1637781715],\n",
       "    ['0.28837200', '15483.797', 1637781715],\n",
       "    ['0.28836700', '3000.000', 1637781715],\n",
       "    ['0.28836600', '270.334', 1637781693],\n",
       "    ['0.28836200', '453.529', 1637781692],\n",
       "    ['0.28835800', '1264.713', 1637781714],\n",
       "    ['0.28835700', '23218.913', 1637781704],\n",
       "    ['0.28832200', '490.190', 1637781703]]}}}"
      ]
     },
     "execution_count": 54,
     "metadata": {},
     "output_type": "execute_result"
    }
   ],
   "source": [
    "buy_price=get_best_limit_price(\"xlmeur\", \"buy\")\n",
    "sell_price=get_best_limit_price(\"xlmeur\", \"sell\")\n",
    "print(buy_price)\n",
    "print(sell_price)\n",
    "get_order_book_response(\"xlmeur\")"
   ]
  },
  {
   "cell_type": "code",
   "execution_count": 49,
   "metadata": {},
   "outputs": [
    {
     "data": {
      "text/plain": [
       "0.28833"
      ]
     },
     "execution_count": 49,
     "metadata": {},
     "output_type": "execute_result"
    }
   ],
   "source": [
    "a"
   ]
  },
  {
   "cell_type": "code",
   "execution_count": 29,
   "metadata": {},
   "outputs": [
    {
     "data": {
      "text/plain": [
       "Timestamp('2021-11-24 19:10:14')"
      ]
     },
     "execution_count": 29,
     "metadata": {},
     "output_type": "execute_result"
    }
   ],
   "source": [
    " pd.to_datetime(1637781014, unit='s')"
   ]
  },
  {
   "cell_type": "code",
   "execution_count": 43,
   "metadata": {},
   "outputs": [
    {
     "data": {
      "text/plain": [
       "'XXLMZEUR'"
      ]
     },
     "execution_count": 43,
     "metadata": {},
     "output_type": "execute_result"
    }
   ],
   "source": [
    "list(a[\"result\"].keys())[0]"
   ]
  },
  {
   "cell_type": "code",
   "execution_count": 8,
   "metadata": {},
   "outputs": [],
   "source": [
    "import requests\n",
    "import pandas as pd\n",
    "import matplotlib.pyplot as plt\n",
    "class OrderBookRecorder():\n",
    "    def __init__(self, pair: str):\n",
    "        self.pair = pair\n",
    "        self.history_df = {\n",
    "            \"asks\": pd.DataFrame(),\n",
    "            \"bids\": pd.DataFrame(),\n",
    "            \"trades\": pd.DataFrame()\n",
    "                          }\n",
    "        self.trade_columns = [\n",
    "            \"price\",\n",
    "            \"volume\",\n",
    "            \"timestamp\",\n",
    "            \"sell_buy\",\n",
    "            \"market_limit\",\n",
    "            \"misc\"\n",
    "        ]\n",
    "        self.order_book_columns = [\n",
    "            \"price\",\n",
    "            \"volume\",\n",
    "            \"timestamp\",\n",
    "        ]\n",
    "        \n",
    "    def get_trades_response(self, since=None):\n",
    "        resp = requests.get(f\"https://api.kraken.com/0/public/Trades?pair={self.pair}&since={since}\")\n",
    "        return resp.json()\n",
    "    \n",
    "    def get_order_book_response(self, since=None, count=500):\n",
    "        resp = requests.get(f\"https://api.kraken.com/0/public/Depth?pair={self.pair}&since={since}&count={count}\")\n",
    "        return resp.json()\n",
    "    \n",
    "    def from_json_to_df(self, resp_json):\n",
    "        z_pair_name=list(resp_json[\"result\"].keys())[0] #\"XXLMZEUR\"\n",
    "        df = pd.DataFrame(data=resp_json[\"result\"][z_pair_name], columns = self.trade_columns)\n",
    "        return df\n",
    "    def from_json_to_df_order_book(self, resp_json, ask_or_bid):\n",
    "        z_pair_name=list(resp_json[\"result\"].keys())[0] #\"XXLMZEUR\"\n",
    "        df = pd.DataFrame(data=resp_json[\"result\"][z_pair_name][ask_or_bid], columns = self.order_book_columns)\n",
    "        return df\n",
    "        \n",
    "    \n",
    "    def update_data(self, current_data: pd.DataFrame, data_type: str):\n",
    "        self.history_df[data_type] = pd.concat([self.history_df[data_type], current_data]).drop_duplicates().copy()\n",
    "        #print(f\"Data history updated of {data_type}, last trade history with shape:\" , self.history_df[data_type].shape[0])\n",
    "        \n",
    "    def process_df(self,df: pd.DataFrame):\n",
    "        \"\"\"Process dataframe for ask, bids and also trades\"\"\"\n",
    "        # Converting to regular date format\n",
    "        df[\"date\"] = pd.to_datetime(df['timestamp'], unit='s')\n",
    "        # Setting date as index\n",
    "        df = df.set_index(pd.DatetimeIndex(df[\"date\"]))\n",
    "\n",
    "        # Removing date from columns (already in index)\n",
    "        df = df.drop(\"date\", axis=1).copy()\n",
    "        # sort values\n",
    "        df = df.sort_values(by=\"date\")\n",
    "        # Right format\n",
    "        df[[\"timestamp\", \"price\", \"volume\"]] = df[[\"timestamp\", \"price\", \"volume\"]].astype(float)\n",
    "        return df\n",
    "    def record_trades(self,):\n",
    "        resp_json = self.get_trades_response()\n",
    "        current_trade_history_df = self.from_json_to_df(resp_json)\n",
    "        current_trade_history_df = self.process_df(current_trade_history_df)\n",
    "        self.update_data(current_trade_history_df, \"trades\")\n",
    "        \n",
    "    def record_order_book(self,):\n",
    "        resp_json = self.get_order_book_response()\n",
    "        for ask_or_bid in [\"asks\", \"bids\"]:\n",
    "            current_order_book_history_df = self.from_json_to_df_order_book(resp_json, ask_or_bid)\n",
    "            current_order_book_history_df = self.process_df(current_order_book_history_df)\n",
    "            self.update_data(current_order_book_history_df, ask_or_bid)\n",
    "            #self.update_metrics()\n"
   ]
  },
  {
   "cell_type": "code",
   "execution_count": 9,
   "metadata": {},
   "outputs": [],
   "source": [
    "o = OrderBookRecorder(pair=\"xlmeur\")"
   ]
  },
  {
   "cell_type": "code",
   "execution_count": 10,
   "metadata": {},
   "outputs": [],
   "source": [
    "o.record_order_book()"
   ]
  },
  {
   "cell_type": "code",
   "execution_count": 12,
   "metadata": {},
   "outputs": [
    {
     "data": {
      "text/html": [
       "<div>\n",
       "<style scoped>\n",
       "    .dataframe tbody tr th:only-of-type {\n",
       "        vertical-align: middle;\n",
       "    }\n",
       "\n",
       "    .dataframe tbody tr th {\n",
       "        vertical-align: top;\n",
       "    }\n",
       "\n",
       "    .dataframe thead th {\n",
       "        text-align: right;\n",
       "    }\n",
       "</style>\n",
       "<table border=\"1\" class=\"dataframe\">\n",
       "  <thead>\n",
       "    <tr style=\"text-align: right;\">\n",
       "      <th></th>\n",
       "      <th>price</th>\n",
       "      <th>volume</th>\n",
       "      <th>timestamp</th>\n",
       "    </tr>\n",
       "    <tr>\n",
       "      <th>date</th>\n",
       "      <th></th>\n",
       "      <th></th>\n",
       "      <th></th>\n",
       "    </tr>\n",
       "  </thead>\n",
       "  <tbody>\n",
       "    <tr>\n",
       "      <th>2021-11-11 22:09:27</th>\n",
       "      <td>0.348559</td>\n",
       "      <td>48.585</td>\n",
       "      <td>1.636669e+09</td>\n",
       "    </tr>\n",
       "    <tr>\n",
       "      <th>2021-11-11 22:09:42</th>\n",
       "      <td>0.347794</td>\n",
       "      <td>22.868</td>\n",
       "      <td>1.636669e+09</td>\n",
       "    </tr>\n",
       "    <tr>\n",
       "      <th>2021-11-11 22:31:04</th>\n",
       "      <td>0.347380</td>\n",
       "      <td>36.325</td>\n",
       "      <td>1.636670e+09</td>\n",
       "    </tr>\n",
       "    <tr>\n",
       "      <th>2021-11-12 09:30:42</th>\n",
       "      <td>0.347510</td>\n",
       "      <td>194.000</td>\n",
       "      <td>1.636709e+09</td>\n",
       "    </tr>\n",
       "    <tr>\n",
       "      <th>2021-11-12 10:09:10</th>\n",
       "      <td>0.344996</td>\n",
       "      <td>174.428</td>\n",
       "      <td>1.636712e+09</td>\n",
       "    </tr>\n",
       "    <tr>\n",
       "      <th>...</th>\n",
       "      <td>...</td>\n",
       "      <td>...</td>\n",
       "      <td>...</td>\n",
       "    </tr>\n",
       "    <tr>\n",
       "      <th>2021-11-24 19:04:15</th>\n",
       "      <td>0.290950</td>\n",
       "      <td>4039.150</td>\n",
       "      <td>1.637781e+09</td>\n",
       "    </tr>\n",
       "    <tr>\n",
       "      <th>2021-11-24 19:04:15</th>\n",
       "      <td>0.291838</td>\n",
       "      <td>105055.542</td>\n",
       "      <td>1.637781e+09</td>\n",
       "    </tr>\n",
       "    <tr>\n",
       "      <th>2021-11-24 19:04:15</th>\n",
       "      <td>0.290052</td>\n",
       "      <td>1245.603</td>\n",
       "      <td>1.637781e+09</td>\n",
       "    </tr>\n",
       "    <tr>\n",
       "      <th>2021-11-24 19:04:15</th>\n",
       "      <td>0.290035</td>\n",
       "      <td>10001.000</td>\n",
       "      <td>1.637781e+09</td>\n",
       "    </tr>\n",
       "    <tr>\n",
       "      <th>2021-11-24 19:04:15</th>\n",
       "      <td>0.290001</td>\n",
       "      <td>47785.242</td>\n",
       "      <td>1.637781e+09</td>\n",
       "    </tr>\n",
       "  </tbody>\n",
       "</table>\n",
       "<p>500 rows × 3 columns</p>\n",
       "</div>"
      ],
      "text/plain": [
       "                        price      volume     timestamp\n",
       "date                                                   \n",
       "2021-11-11 22:09:27  0.348559      48.585  1.636669e+09\n",
       "2021-11-11 22:09:42  0.347794      22.868  1.636669e+09\n",
       "2021-11-11 22:31:04  0.347380      36.325  1.636670e+09\n",
       "2021-11-12 09:30:42  0.347510     194.000  1.636709e+09\n",
       "2021-11-12 10:09:10  0.344996     174.428  1.636712e+09\n",
       "...                       ...         ...           ...\n",
       "2021-11-24 19:04:15  0.290950    4039.150  1.637781e+09\n",
       "2021-11-24 19:04:15  0.291838  105055.542  1.637781e+09\n",
       "2021-11-24 19:04:15  0.290052    1245.603  1.637781e+09\n",
       "2021-11-24 19:04:15  0.290035   10001.000  1.637781e+09\n",
       "2021-11-24 19:04:15  0.290001   47785.242  1.637781e+09\n",
       "\n",
       "[500 rows x 3 columns]"
      ]
     },
     "execution_count": 12,
     "metadata": {},
     "output_type": "execute_result"
    }
   ],
   "source": [
    "o.history_df[\"asks\"]"
   ]
  },
  {
   "cell_type": "code",
   "execution_count": 14,
   "metadata": {},
   "outputs": [
    {
     "data": {
      "text/html": [
       "<div>\n",
       "<style scoped>\n",
       "    .dataframe tbody tr th:only-of-type {\n",
       "        vertical-align: middle;\n",
       "    }\n",
       "\n",
       "    .dataframe tbody tr th {\n",
       "        vertical-align: top;\n",
       "    }\n",
       "\n",
       "    .dataframe thead th {\n",
       "        text-align: right;\n",
       "    }\n",
       "</style>\n",
       "<table border=\"1\" class=\"dataframe\">\n",
       "  <thead>\n",
       "    <tr style=\"text-align: right;\">\n",
       "      <th></th>\n",
       "      <th>price</th>\n",
       "      <th>volume</th>\n",
       "      <th>timestamp</th>\n",
       "    </tr>\n",
       "    <tr>\n",
       "      <th>date</th>\n",
       "      <th></th>\n",
       "      <th></th>\n",
       "      <th></th>\n",
       "    </tr>\n",
       "  </thead>\n",
       "  <tbody>\n",
       "    <tr>\n",
       "      <th>2021-07-22 04:30:11</th>\n",
       "      <td>0.191000</td>\n",
       "      <td>145.418</td>\n",
       "      <td>1.626928e+09</td>\n",
       "    </tr>\n",
       "    <tr>\n",
       "      <th>2021-07-22 05:02:08</th>\n",
       "      <td>0.192000</td>\n",
       "      <td>157.445</td>\n",
       "      <td>1.626930e+09</td>\n",
       "    </tr>\n",
       "    <tr>\n",
       "      <th>2021-07-22 06:04:07</th>\n",
       "      <td>0.193000</td>\n",
       "      <td>145.418</td>\n",
       "      <td>1.626934e+09</td>\n",
       "    </tr>\n",
       "    <tr>\n",
       "      <th>2021-07-22 06:04:24</th>\n",
       "      <td>0.193244</td>\n",
       "      <td>200.000</td>\n",
       "      <td>1.626934e+09</td>\n",
       "    </tr>\n",
       "    <tr>\n",
       "      <th>2021-07-22 06:12:08</th>\n",
       "      <td>0.194000</td>\n",
       "      <td>157.445</td>\n",
       "      <td>1.626934e+09</td>\n",
       "    </tr>\n",
       "    <tr>\n",
       "      <th>...</th>\n",
       "      <td>...</td>\n",
       "      <td>...</td>\n",
       "      <td>...</td>\n",
       "    </tr>\n",
       "    <tr>\n",
       "      <th>2021-11-24 19:04:13</th>\n",
       "      <td>0.289072</td>\n",
       "      <td>6437.977</td>\n",
       "      <td>1.637781e+09</td>\n",
       "    </tr>\n",
       "    <tr>\n",
       "      <th>2021-11-24 19:04:14</th>\n",
       "      <td>0.289436</td>\n",
       "      <td>5918.155</td>\n",
       "      <td>1.637781e+09</td>\n",
       "    </tr>\n",
       "    <tr>\n",
       "      <th>2021-11-24 19:04:15</th>\n",
       "      <td>0.289481</td>\n",
       "      <td>10001.000</td>\n",
       "      <td>1.637781e+09</td>\n",
       "    </tr>\n",
       "    <tr>\n",
       "      <th>2021-11-24 19:04:15</th>\n",
       "      <td>0.288390</td>\n",
       "      <td>4051.920</td>\n",
       "      <td>1.637781e+09</td>\n",
       "    </tr>\n",
       "    <tr>\n",
       "      <th>2021-11-24 19:04:15</th>\n",
       "      <td>0.289527</td>\n",
       "      <td>3000.000</td>\n",
       "      <td>1.637781e+09</td>\n",
       "    </tr>\n",
       "  </tbody>\n",
       "</table>\n",
       "<p>500 rows × 3 columns</p>\n",
       "</div>"
      ],
      "text/plain": [
       "                        price     volume     timestamp\n",
       "date                                                  \n",
       "2021-07-22 04:30:11  0.191000    145.418  1.626928e+09\n",
       "2021-07-22 05:02:08  0.192000    157.445  1.626930e+09\n",
       "2021-07-22 06:04:07  0.193000    145.418  1.626934e+09\n",
       "2021-07-22 06:04:24  0.193244    200.000  1.626934e+09\n",
       "2021-07-22 06:12:08  0.194000    157.445  1.626934e+09\n",
       "...                       ...        ...           ...\n",
       "2021-11-24 19:04:13  0.289072   6437.977  1.637781e+09\n",
       "2021-11-24 19:04:14  0.289436   5918.155  1.637781e+09\n",
       "2021-11-24 19:04:15  0.289481  10001.000  1.637781e+09\n",
       "2021-11-24 19:04:15  0.288390   4051.920  1.637781e+09\n",
       "2021-11-24 19:04:15  0.289527   3000.000  1.637781e+09\n",
       "\n",
       "[500 rows x 3 columns]"
      ]
     },
     "execution_count": 14,
     "metadata": {},
     "output_type": "execute_result"
    }
   ],
   "source": [
    "o.history_df[\"bids\"]"
   ]
  }
 ],
 "metadata": {
  "kernelspec": {
   "display_name": "trading-bot",
   "language": "python",
   "name": "trading-bot"
  },
  "language_info": {
   "codemirror_mode": {
    "name": "ipython",
    "version": 3
   },
   "file_extension": ".py",
   "mimetype": "text/x-python",
   "name": "python",
   "nbconvert_exporter": "python",
   "pygments_lexer": "ipython3",
   "version": "3.8.5"
  }
 },
 "nbformat": 4,
 "nbformat_minor": 4
}
