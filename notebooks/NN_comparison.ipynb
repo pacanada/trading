{
 "cells": [
  {
   "cell_type": "markdown",
   "metadata": {
    "id": "m5TUJK4Ch5hM"
   },
   "source": [
    "In this notebook we are going to compare a normal scikit NN regressor with its implementation on pytorch. Something is off so lets figure it out\n",
    "\n",
    "Important, in scikit lern there is a extra for loop for batches!!!"
   ]
  },
  {
   "cell_type": "code",
   "execution_count": 2,
   "metadata": {
    "id": "eBqX6gKwh5hO"
   },
   "outputs": [],
   "source": [
    "import pandas as pd\n",
    "import numpy as np\n",
    "from sklearn.neural_network import MLPRegressor\n",
    "from torch.optim import Adam\n",
    "import matplotlib.pyplot as plt\n",
    "import cProfile"
   ]
  },
  {
   "cell_type": "code",
   "execution_count": 155,
   "metadata": {
    "id": "cvLmpDiHh5hP"
   },
   "outputs": [],
   "source": [
    "from __future__ import print_function\n",
    "import argparse\n",
    "import torch\n",
    "import torch.nn as nn\n",
    "import torch.nn.functional as F\n",
    "import torch.optim as optim\n",
    "from torchvision import datasets, transforms\n",
    "from torch.optim.lr_scheduler import StepLR\n",
    "import numpy as np\n",
    "from torch.utils.data import Dataset\n",
    "\n",
    "\n",
    "\n",
    "class Net2layers(nn.Module):\n",
    "    def __init__(self, input_size, l1_size, l2_size):\n",
    "        super(Net2layers, self).__init__()\n",
    "        self.fc1 = nn.Linear(input_size, l1_size)\n",
    "        self.fc2 = nn.Linear(l1_size, l2_size)\n",
    "        self.fc3 = nn.Linear(l2_size, 1)\n",
    "\n",
    "    def forward(self, x):\n",
    "        x = self.fc1(x)\n",
    "        x = F.relu(x)\n",
    "        x = self.fc2(x)\n",
    "        x = F.relu(x)\n",
    "        x = self.fc3(x)\n",
    "        return x\n",
    "    \n",
    "    def predict(self, df, feature_columns, device):\n",
    "        m, n = df[feature_columns].shape\n",
    "        x = torch.Tensor(df[feature_columns].values).to(device)\n",
    "        output = self.forward(x)\n",
    "        return output.detach().cpu().numpy()\n",
    "    \n",
    "def get_tensors(df, feature_columns, target_name, batch_size, device, shuffle):\n",
    "    if shuffle:\n",
    "        df = df.sample(frac=1).copy()\n",
    "    m, n = df[feature_columns].shape\n",
    "    x_all = torch.Tensor(df[feature_columns].values).to(device)\n",
    "    y_all = torch.Tensor(df[target_name].values).to(device)\n",
    "    x = x_all.reshape([-1, batch_size, n] )\n",
    "    y = y_all.reshape([-1, batch_size, 1] )\n",
    "    return x, y\n",
    "    \n",
    "def train_scikit(\n",
    "    df_train,\n",
    "    learning_rate,\n",
    "    batch_size,\n",
    "    n_iter,\n",
    "    l1_size,\n",
    "    l2_size,\n",
    "    input_size,\n",
    "    alpha,\n",
    "    shuffle,\n",
    "):\n",
    "    model = MLPRegressor(\n",
    "    hidden_layer_sizes=(l1_size,l2_size),\n",
    "    random_state=1,\n",
    "    verbose=False,\n",
    "    shuffle=shuffle,\n",
    "    max_iter=n_iter,\n",
    "    tol=1e-14,\n",
    "    alpha=alpha,\n",
    "    learning_rate_init=learning_rate,\n",
    "    batch_size=batch_size,\n",
    "    n_iter_no_change=n_iter # we do not want early stop\n",
    "    )\n",
    "    \n",
    "    model.fit(X=df_train[[\"x\",\"y\"]], y=df_train[\"target\"])\n",
    "    return model\n",
    "    #return model.predict(df_train[[\"x\", \"y\"]]), model\n",
    "    \n",
    "\n",
    "def train_pytorch(\n",
    "    df_train,\n",
    "    learning_rate,\n",
    "    batch_size,\n",
    "    n_iter,\n",
    "    l1_size,\n",
    "    l2_size,\n",
    "    input_size,\n",
    "    alpha,\n",
    "    device,\n",
    "    shuffle\n",
    "):\n",
    "    model = Net2layers(input_size=input_size, l1_size = l1_size, l2_size=l2_size).to(device)\n",
    "    criterion = nn.MSELoss()\n",
    "    optm = Adam(model.parameters(), lr = learning_rate, weight_decay=alpha)\n",
    "\n",
    "    x, y = get_tensors(df_train,[\"x\", \"y\"], \"target\", batch_size, device, shuffle=shuffle)\n",
    "\n",
    "    for i in range(n_iter):\n",
    "        for batch_id in range(x.size()[0]):\n",
    "\n",
    "            optm.zero_grad()\n",
    "            output = model(x[batch_id])\n",
    "            loss = criterion(output,y[batch_id])\n",
    "            loss.backward()\n",
    "            optm.step()\n",
    "    return model\n",
    "    #return model.predict(df_train, [\"x\", \"y\"], device), model"
   ]
  },
  {
   "cell_type": "code",
   "execution_count": 104,
   "metadata": {
    "colab": {
     "base_uri": "https://localhost:8080/"
    },
    "id": "lwlyZ8eeilUs",
    "outputId": "8d0eda6d-c3a0-49a5-9d30-26d9a02b0188"
   },
   "outputs": [
    {
     "name": "stdout",
     "output_type": "stream",
     "text": [
      "0\n"
     ]
    }
   ],
   "source": [
    "print(torch.cuda.device_count())\n",
    "#print(torch.cuda.get_device_name(0))"
   ]
  },
  {
   "cell_type": "code",
   "execution_count": 180,
   "metadata": {
    "id": "jgf3Xe0Ah5hQ"
   },
   "outputs": [],
   "source": [
    "# params\n",
    "learning_rate=0.01\n",
    "batch_size = 5000\n",
    "n_iter = 100\n",
    "sample_size = 5000\n",
    "l1_size = 1000\n",
    "l2_size = 100\n",
    "input_size = 2\n",
    "alpha = 0.0001\n",
    "shuffle=True\n",
    "cpu_dev = torch.device(\"cpu\")\n",
    "gpu_dev = torch.device('cuda:0')"
   ]
  },
  {
   "cell_type": "code",
   "execution_count": 181,
   "metadata": {
    "id": "O0ylNs8qh5hQ"
   },
   "outputs": [],
   "source": [
    "df_train = pd.DataFrame(\n",
    "    data={\"x\": np.linspace(1,10,sample_size),\n",
    "          \"y\": np.linspace(1,10,sample_size), \"target\": np.linspace(1,10,sample_size)**3\n",
    "         }).astype(\"float32\")"
   ]
  },
  {
   "cell_type": "code",
   "execution_count": 172,
   "metadata": {
    "id": "-YgW-1SfA1WJ"
   },
   "outputs": [],
   "source": [
    "\n",
    "#dataset = Dataset(df_train[[\"x\", \"y\"]], df_train[\"target\"])"
   ]
  },
  {
   "cell_type": "code",
   "execution_count": 182,
   "metadata": {
    "colab": {
     "base_uri": "https://localhost:8080/"
    },
    "id": "8-HkfGkeh5hR",
    "outputId": "a88b9304-276c-4146-e21a-9fcf544f74fa"
   },
   "outputs": [
    {
     "name": "stdout",
     "output_type": "stream",
     "text": [
      "CPU times: user 17 s, sys: 38.6 ms, total: 17 s\n",
      "Wall time: 17 s\n"
     ]
    },
    {
     "name": "stderr",
     "output_type": "stream",
     "text": [
      "/Users/pablocanadapereira/opt/anaconda3/envs/trading-bot/lib/python3.8/site-packages/sklearn/neural_network/_multilayer_perceptron.py:582: ConvergenceWarning: Stochastic Optimizer: Maximum iterations (100) reached and the optimization hasn't converged yet.\n",
      "  warnings.warn(\n"
     ]
    }
   ],
   "source": [
    "%time  model_sklearn = train_scikit(df_train,learning_rate, batch_size,n_iter,l1_size,l2_size,input_size, alpha, shuffle)"
   ]
  },
  {
   "cell_type": "code",
   "execution_count": 183,
   "metadata": {
    "colab": {
     "base_uri": "https://localhost:8080/"
    },
    "id": "2xS5gwqSh5hS",
    "outputId": "87fe2025-3e51-4c58-c48e-8ff8bb6cbaf7"
   },
   "outputs": [
    {
     "name": "stdout",
     "output_type": "stream",
     "text": [
      "CPU times: user 11.4 s, sys: 38.8 ms, total: 11.4 s\n",
      "Wall time: 10.4 s\n"
     ]
    }
   ],
   "source": [
    "%time model_pytorch_cpu = train_pytorch(df_train,learning_rate, batch_size,n_iter,l1_size,l2_size,input_size, alpha, cpu_dev, shuffle)"
   ]
  },
  {
   "cell_type": "code",
   "execution_count": 14,
   "metadata": {
    "colab": {
     "base_uri": "https://localhost:8080/"
    },
    "id": "zb2ywP3sjUa1",
    "outputId": "7d6026db-de0e-4616-a807-60a90882d097"
   },
   "outputs": [],
   "source": [
    "#%time model_pytorch_gpu= train_pytorch(df_train,learning_rate, batch_size,n_iter,l1_size,l2_size,input_size,alpha, gpu_dev)"
   ]
  },
  {
   "cell_type": "code",
   "execution_count": 304,
   "metadata": {
    "id": "Kw0MTYHa4P0b"
   },
   "outputs": [],
   "source": [
    "#%time model_pytorch_tpu= train_pytorch(df_train,learning_rate, batch_size,n_iter,l1_size,l2_size,input_size,alpha, tpu_dev)"
   ]
  },
  {
   "cell_type": "code",
   "execution_count": 126,
   "metadata": {
    "id": "GSEGvG8cwIb3"
   },
   "outputs": [],
   "source": [
    "#x, y =get_tensors(df_train, [\"x\", \"y\"], \"target\", 100, device=\"cpu\")\n",
    "\n"
   ]
  },
  {
   "cell_type": "code",
   "execution_count": null,
   "metadata": {
    "colab": {
     "base_uri": "https://localhost:8080/"
    },
    "id": "ZMByv7-FolYa",
    "outputId": "57102d04-856a-4180-b9a3-fe06e9a3fe79"
   },
   "outputs": [],
   "source": [
    "model_sklearn"
   ]
  },
  {
   "cell_type": "code",
   "execution_count": 184,
   "metadata": {
    "colab": {
     "base_uri": "https://localhost:8080/",
     "height": 592
    },
    "id": "Et8W-he7mSMs",
    "outputId": "d985802a-8bbb-4d34-d539-883070bdedb4"
   },
   "outputs": [
    {
     "data": {
      "image/png": "[encoded data removed]",
      "text/plain": [
       "<Figure size 1440x720 with 1 Axes>"
      ]
     },
     "metadata": {
      "needs_background": "light"
     },
     "output_type": "display_data"
    }
   ],
   "source": [
    "plt.figure(figsize=(20,10))\n",
    "plt.plot(model_sklearn.predict(df_train[[\"x\", \"y\"]]), label=\"sk\")\n",
    "plt.plot(model_pytorch_cpu(torch.Tensor(df_train[[\"x\", \"y\"]].values).to(cpu_dev)).detach().cpu().numpy(), label=\"pytorch cpu\")\n",
    "#plt.plot(model_pytorch_gpu(torch.Tensor(df_train[[\"x\", \"y\"]].values).to(gpu_dev)).detach().cpu().numpy(), label=\"pytorch gpu\")\n",
    "#plt.plot(out_pytorch_tpu, label=\"pytorch tpu\")\n",
    "plt.plot(df_train[\"target\"],\"k--\",  label=\"target\")\n",
    "plt.legend()\n",
    "plt.show()"
   ]
  },
  {
   "cell_type": "code",
   "execution_count": 52,
   "metadata": {
    "id": "3PIxEe9Zh5hS"
   },
   "outputs": [],
   "source": [
    "model = MLPRegressor(\n",
    "    hidden_layer_sizes=(l1_size,l2_size),\n",
    "    random_state=1,\n",
    "    verbose=False,\n",
    "    max_iter=n_iter,\n",
    "    tol=1e-10,\n",
    "    learning_rate_init=learning_rate,\n",
    "    batch_size=batch_size)"
   ]
  },
  {
   "cell_type": "code",
   "execution_count": null,
   "metadata": {
    "id": "m00MpBH6h5hS",
    "outputId": "a97de11f-2796-4cb9-8b0e-d864f4841cea"
   },
   "outputs": [
    {
     "data": {
      "text/plain": [
       "MLPRegressor(batch_size=1, hidden_layer_sizes=(10, 5), learning_rate_init=0.01,\n",
       "             max_iter=1000, random_state=1, tol=1e-10)"
      ]
     },
     "execution_count": 163,
     "metadata": {},
     "output_type": "execute_result"
    }
   ],
   "source": [
    "model.fit(X=df_train[[\"x\",\"y\"]], y=df_train[\"target\"])"
   ]
  },
  {
   "cell_type": "code",
   "execution_count": null,
   "metadata": {
    "id": "DEeW5uCTh5hT",
    "outputId": "0c072526-ccef-4f9b-aec8-35d6ddf0df15"
   },
   "outputs": [
    {
     "data": {
      "text/plain": [
       "array([-0.47960814, -0.47960814,  4.57565213, 16.40694518, 28.23823823,\n",
       "       41.11501509, 55.0584445 , 69.00187391, 82.94530332, 96.88873273])"
      ]
     },
     "execution_count": 164,
     "metadata": {},
     "output_type": "execute_result"
    }
   ],
   "source": [
    "model.predict(df_train[[\"x\", \"y\"]])"
   ]
  },
  {
   "cell_type": "code",
   "execution_count": null,
   "metadata": {
    "id": "VIEZFek_h5hT"
   },
   "outputs": [],
   "source": [
    "# pytorch\n",
    "from __future__ import print_function\n",
    "import argparse\n",
    "import torch\n",
    "import torch.nn as nn\n",
    "import torch.nn.functional as F\n",
    "import torch.optim as optim\n",
    "from torchvision import datasets, transforms\n",
    "from torch.optim.lr_scheduler import StepLR\n",
    "import numpy as np\n",
    "\n",
    "\n",
    "class Net2layers(nn.Module):\n",
    "    def __init__(self, input_size, l1_size, l2_size):\n",
    "        super(Net2layers, self).__init__()\n",
    "        self.fc1 = nn.Linear(input_size, l1_size)\n",
    "        self.fc2 = nn.Linear(l1_size, l2_size)\n",
    "        self.fc3 = nn.Linear(l2_size, 1)\n",
    "\n",
    "    def forward(self, x):\n",
    "        x = self.fc1(x)\n",
    "        x = F.relu(x)\n",
    "        x = self.fc2(x)\n",
    "        x = F.relu(x)\n",
    "        x = self.fc3(x)\n",
    "        return x\n",
    "    \n",
    "    def predict(self, df, feature_columns):\n",
    "        m, n = df[feature_columns].shape\n",
    "        x = torch.Tensor(df[feature_columns].values)\n",
    "        output = self.forward(x)\n",
    "        return output.detach().numpy()\n",
    "    \n",
    "def get_tensors(df, feature_columns, target_name, BS, device=\"cpu\"):\n",
    "    m, n = df[feature_columns].shape\n",
    "    x_all = torch.Tensor(df[feature_columns].values).to(device)\n",
    "    y_all = torch.Tensor(df[target_name].values).to(device)\n",
    "    x = x_all.reshape([-1, BS, n] )\n",
    "    y = y_all.reshape([-1, BS, 1] )\n",
    "    return x, y\n",
    "    "
   ]
  },
  {
   "cell_type": "code",
   "execution_count": null,
   "metadata": {
    "id": "4Du4ogJNh5hT",
    "outputId": "c623db9e-3a6c-40eb-d3f3-9e992a395922"
   },
   "outputs": [
    {
     "name": "stdout",
     "output_type": "stream",
     "text": [
      "-1\n"
     ]
    }
   ],
   "source": [
    "model = Net2layers(input_size=input_size, l1_size = l1_size, l2_size=l2_size).to(device)\n",
    "criterion = nn.MSELoss()\n",
    "EPOCHS = n_iter\n",
    "optm = Adam(model.parameters(), lr = learning_rate)\n",
    "\n",
    "x, y = get_tensors(df_train,[\"x\", \"y\"], \"target\", batch_size, device )\n",
    "print(x.get_device())\n",
    "\n",
    "for i in range(EPOCHS):\n",
    "    \n",
    "    optm.zero_grad()\n",
    "    output = model(x)\n",
    "    loss = criterion(output,y)\n",
    "    loss.backward()\n",
    "    optm.step()\n"
   ]
  },
  {
   "cell_type": "code",
   "execution_count": null,
   "metadata": {
    "id": "mtkRWRmyh5hU",
    "outputId": "9c63deff-9b75-4794-b6d1-c6f186473669"
   },
   "outputs": [
    {
     "data": {
      "text/plain": [
       "array([[-0.5300847],\n",
       "       [-0.5300847],\n",
       "       [ 2.0356202],\n",
       "       [15.027582 ],\n",
       "       [28.019545 ],\n",
       "       [41.011505 ],\n",
       "       [54.003468 ],\n",
       "       [66.99543  ],\n",
       "       [79.9874   ],\n",
       "       [92.97936  ]], dtype=float32)"
      ]
     },
     "execution_count": 169,
     "metadata": {},
     "output_type": "execute_result"
    }
   ],
   "source": [
    "model.predict(df_train, [\"x\", \"y\"])"
   ]
  },
  {
   "cell_type": "code",
   "execution_count": null,
   "metadata": {
    "id": "k4Kp74O2h5hU",
    "outputId": "281279b5-f9f9-4132-d9f4-b4204d4f89d9"
   },
   "outputs": [
    {
     "name": "stdout",
     "output_type": "stream",
     "text": [
      "Object `model.predict()` not found.\n"
     ]
    }
   ],
   "source": [
    "?model.predict()"
   ]
  },
  {
   "cell_type": "code",
   "execution_count": null,
   "metadata": {
    "id": "9XkrKif-h5hU",
    "outputId": "1e3d4da2-9a35-43c5-c577-a87e2a491d0b"
   },
   "outputs": [
    {
     "data": {
      "text/plain": [
       "0      1.0\n",
       "1      4.0\n",
       "2      9.0\n",
       "3     16.0\n",
       "4     25.0\n",
       "5     36.0\n",
       "6     49.0\n",
       "7     64.0\n",
       "8     81.0\n",
       "9    100.0\n",
       "Name: target, dtype: float64"
      ]
     },
     "execution_count": 125,
     "metadata": {},
     "output_type": "execute_result"
    }
   ],
   "source": [
    "df_train[\"target\"]"
   ]
  }
 ],
 "metadata": {
  "accelerator": "GPU",
  "colab": {
   "collapsed_sections": [],
   "name": "NN_comparison.ipynb",
   "provenance": []
  },
  "kernelspec": {
   "display_name": "Python 3",
   "language": "python",
   "name": "python3"
  },
  "language_info": {
   "codemirror_mode": {
    "name": "ipython",
    "version": 3
   },
   "file_extension": ".py",
   "mimetype": "text/x-python",
   "name": "python",
   "nbconvert_exporter": "python",
   "pygments_lexer": "ipython3",
   "version": "3.8.5"
  }
 },
 "nbformat": 4,
 "nbformat_minor": 4
}
