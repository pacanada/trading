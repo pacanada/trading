{
 "cells": [
  {
   "cell_type": "markdown",
   "metadata": {},
   "source": [
    "The idea of this notebooks is to explore the feasability of training a transformer model for classification\n",
    "\n",
    "- Lets assume that we use only 700 last record and there is no data leakage when performing. For xgboost (no sequence) it was enough to have the ewm, rsi column value for the most recent interval, no need to consider sequences (and possibly null values if we are not fetching enough samples (less than the intervals used for the domain markers)) as in the transformer approach \n",
    "- Lets agree for now in target 20 min"
   ]
  },
  {
   "cell_type": "code",
   "execution_count": 1,
   "metadata": {},
   "outputs": [],
   "source": [
    "# x is BS, block size\n",
    "# after embedding we have BS, Block size, embedding_dim\n",
    "# y is BS, block size"
   ]
  },
  {
   "cell_type": "code",
   "execution_count": 161,
   "metadata": {},
   "outputs": [],
   "source": [
    "# Load data\n",
    "from src.modules.paths import get_project_root\n",
    "import pandas as pd\n",
    "from dataclasses import dataclass\n",
    "import torch\n",
    "import numpy as np\n",
    "import matplotlib.pyplot as plt\n",
    "\n"
   ]
  },
  {
   "cell_type": "code",
   "execution_count": 110,
   "metadata": {},
   "outputs": [],
   "source": [
    "import torch.nn as nn\n",
    "import torch\n",
    "\n",
    "\n",
    "class Head(nn.Module):\n",
    "    def __init__(self, config) -> None:\n",
    "        super().__init__()\n",
    "        head_size = config.embedding_dim//config.n_head\n",
    "        self.key = nn.Linear(config.embedding_dim, head_size, bias=False)\n",
    "        self.query = nn.Linear(config.embedding_dim, head_size, bias=False)\n",
    "        self.value = nn.Linear(config.embedding_dim, head_size, bias=False)\n",
    "        self.register_buffer(\"tril\", torch.tril(torch.ones(config.block_size, config.block_size)))\n",
    "        self.dropout = nn.Dropout(config.dropout)\n",
    "    def forward(self, x):\n",
    "        B,T,C = x.shape\n",
    "        k = self.key(x)\n",
    "        q = self.query(x)\n",
    "        v = self.value(x)\n",
    "        att = (q @ k.transpose(-2, -1)) *  C**-0.5\n",
    "        att = att.masked_fill(self.tril[:T,:T] == 0, float('-inf'))\n",
    "        att = torch.functional.F.softmax(att, dim=-1)\n",
    "        att =self.dropout(att)\n",
    "        #att = self.attn_dropout(att)\n",
    "        y = att @ v \n",
    "        return y\n",
    "    \n",
    "class LayerNorm(nn.Module):\n",
    "    \"\"\" LayerNorm but with an optional bias. PyTorch doesn't support simply bias=False \"\"\"\n",
    "\n",
    "    def __init__(self, ndim, bias=None):\n",
    "        super().__init__()\n",
    "        self.weight = nn.Parameter(torch.ones(ndim))\n",
    "        self.bias = nn.Parameter(torch.zeros(ndim)) if bias else None\n",
    "\n",
    "    def forward(self, input):\n",
    "        return torch.functional.F.layer_norm(input, self.weight.shape, self.weight, self.bias, 1e-5)\n",
    "    \n",
    "class MultiHeadAttention(nn.Module):\n",
    "    def __init__(self, config) -> None:\n",
    "        super().__init__()\n",
    "        self.heads = nn.ModuleList([Head(config) for _ in  range(config.n_head)])\n",
    "        self.proj = nn.Linear(config.embedding_dim, config.embedding_dim)\n",
    "        self.dropout = nn.Dropout(config.dropout)\n",
    "    def forward(self, x):\n",
    "        x = torch.cat([h(x) for h in self.heads], dim=-1)\n",
    "        return self.dropout(self.proj(x))\n",
    "    \n",
    "class FeedForward(nn.Module):\n",
    "    def __init__(self, embedding_dim) -> None:\n",
    "        super().__init__()\n",
    "        self.l1 = nn.Linear(embedding_dim, 4*embedding_dim, bias=True)\n",
    "        self.l2 = nn.Linear(4*embedding_dim, embedding_dim, bias=True)\n",
    "        self.dropout=nn.Dropout(0.1)\n",
    "    def forward(self, x):\n",
    "        x = self.l2(torch.functional.F.relu(self.l1(x)))\n",
    "        return self.dropout(x)\n",
    "    \n",
    "class Block(nn.Module):\n",
    "    def __init__(self, config):\n",
    "        super().__init__()\n",
    "        self.sa = MultiHeadAttention(config)\n",
    "        self.ffw = FeedForward(embedding_dim=config.embedding_dim)\n",
    "        self.ln_1 = LayerNorm(config.embedding_dim)\n",
    "        self.ln_2 = LayerNorm(config.embedding_dim)\n",
    "    def forward(self, x):\n",
    "        x = x + self.sa(self.ln_1(x))\n",
    "        x = x + self.ffw(self.ln_2(x))\n",
    "        return x\n",
    "\n",
    "class Transformer(nn.Module):\n",
    "    \"\"\"Only considers last token to make predictions\"\"\"\n",
    "    def __init__(self, config) -> None:\n",
    "        super().__init__()\n",
    "        self.config=config\n",
    "        self.token_embedding = nn.Linear(config.block_size, config.embedding_dim*config.block_size, bias=False)\n",
    "        self.positional_encoding = nn.Embedding(num_embeddings=config.block_size, embedding_dim=config.embedding_dim)\n",
    "        self.blocks = nn.Sequential(*[Block(config) for _ in range(config.n_blocks)],\n",
    "            LayerNorm(ndim=config.embedding_dim),\n",
    "        )\n",
    "        self.lm_head = nn.Linear(config.embedding_dim, config.vocab_size, bias=False)\n",
    "    def forward(self, x):\n",
    "        #TODO: Add conv or just linear?\n",
    "        #x = self.token_embedding(x).view(-1,self.config.block_size, self.config.embedding_dim) + self.positional_encoding(torch.arange(self.config.block_size, device=x.device))\n",
    "        x = x+ self.positional_encoding(torch.arange(self.config.block_size, device=x.device))\n",
    "\n",
    "        x = self.blocks(x)\n",
    "        x = self.lm_head(x)\n",
    "        # Cross entropy already have softmax\n",
    "        return x\n"
   ]
  },
  {
   "cell_type": "code",
   "execution_count": 66,
   "metadata": {},
   "outputs": [],
   "source": [
    "df = pd.read_feather(get_project_root() / \"data\" / \"training\" / \"training_all_crypto_14_12_2021.feather\")"
   ]
  },
  {
   "cell_type": "code",
   "execution_count": 166,
   "metadata": {},
   "outputs": [],
   "source": [
    "@dataclass\n",
    "class Config:\n",
    "    block_size = 50\n",
    "    n_blocks = 5\n",
    "    epochs = int(1e4)\n",
    "    vocab_size = 1\n",
    "    embedding_dim = 10 # must be equal to head_size in this model but not in example\n",
    "    batch_size=128\n",
    "    evaluation_steps=100\n",
    "    n_head=5\n",
    "    learning_rate=0.001\n",
    "    dropout=0.1\n",
    "    load_model = True\n",
    "    path_model = get_project_root() / \"data/weights/transformer_v1.pt\"\n",
    "    def __post_init__(self):\n",
    "        if self.embedding_dim%self.n_head!=0:\n",
    "            raise ValueError(f\"Embedding dimension {self.embedding_dim} should be a multiple of n_head={self.n_head}\")\n",
    "config = Config()"
   ]
  },
  {
   "cell_type": "code",
   "execution_count": 167,
   "metadata": {},
   "outputs": [
    {
     "name": "stdout",
     "output_type": "stream",
     "text": [
      "10 8\n"
     ]
    }
   ],
   "source": [
    "features = [col for col in df.columns if col.startswith(\"feature\")][:config.embedding_dim]\n",
    "targets = [col for col in df.columns if col.startswith(\"target\")]\n",
    "print(len(features), len(targets))"
   ]
  },
  {
   "cell_type": "code",
   "execution_count": 168,
   "metadata": {},
   "outputs": [],
   "source": [
    "def create_sequence(t, block_size):\n",
    "    n, f = t.shape\n",
    "    X_all = t[:block_size]\n",
    "    #y_all = t[1:block_size+1]\n",
    "    for i in range(1, n-block_size):\n",
    "        X_all = np.vstack((X_all, t[i:i+block_size]))\n",
    "        #y_all = np.vstack((y_all, t[i+1:i+block_size+1]))\n",
    "\n",
    "    return torch.tensor(X_all, dtype=torch.float32).view(-1, block_size, f) #, torch.tensor(y_all, dtype=torch.float32)\n",
    "\n",
    "def create_sequence_target(t, block_size):\n",
    "    n = len(t)\n",
    "    X_all = t[:block_size]\n",
    "    #y_all = t[1:block_size+1]\n",
    "    for i in range(1, n-block_size):\n",
    "        X_all = np.vstack((X_all, t[i:i+block_size]))\n",
    "        #y_all = np.vstack((y_all, t[i+1:i+block_size+1]))\n",
    "\n",
    "    return torch.tensor(X_all, dtype=torch.float32) #, torch.tensor(y_all, dtype=torch.float32)"
   ]
  },
  {
   "cell_type": "code",
   "execution_count": 170,
   "metadata": {},
   "outputs": [],
   "source": [
    "df_sample = df[df.type==\"training\"].sample(30000)\n",
    "X = create_sequence(df_sample[features].values, config.block_size)\n",
    "y = create_sequence_target(df_sample[\"target_20\"].values*100, config.block_size)"
   ]
  },
  {
   "cell_type": "code",
   "execution_count": null,
   "metadata": {},
   "outputs": [],
   "source": [
    "m = Transformer(config)\n",
    "m=m.train()"
   ]
  },
  {
   "cell_type": "code",
   "execution_count": null,
   "metadata": {},
   "outputs": [],
   "source": [
    "EPOCHS = 1000\n",
    "#BS = 10\n",
    "optimizer = torch.optim.AdamW(m.parameters(), lr=0.001)\n",
    "loss_fn = nn.MSELoss()"
   ]
  },
  {
   "cell_type": "code",
   "execution_count": null,
   "metadata": {},
   "outputs": [
    {
     "name": "stdout",
     "output_type": "stream",
     "text": [
      "i 0 Loss tensor(0.1251, grad_fn=<MseLossBackward0>)\n",
      "i 10 Loss tensor(0.0394, grad_fn=<MseLossBackward0>)\n",
      "i 20 Loss tensor(0.0215, grad_fn=<MseLossBackward0>)\n",
      "i 30 Loss tensor(0.0146, grad_fn=<MseLossBackward0>)\n",
      "i 40 Loss tensor(0.0112, grad_fn=<MseLossBackward0>)\n",
      "i 50 Loss tensor(0.0110, grad_fn=<MseLossBackward0>)\n",
      "i 60 Loss tensor(0.0092, grad_fn=<MseLossBackward0>)\n",
      "i 70 Loss tensor(0.0090, grad_fn=<MseLossBackward0>)\n",
      "i 80 Loss tensor(0.0126, grad_fn=<MseLossBackward0>)\n",
      "i 90 Loss tensor(0.0087, grad_fn=<MseLossBackward0>)\n",
      "i 100 Loss tensor(0.0085, grad_fn=<MseLossBackward0>)\n",
      "i 110 Loss tensor(0.0097, grad_fn=<MseLossBackward0>)\n",
      "i 120 Loss tensor(0.0085, grad_fn=<MseLossBackward0>)\n",
      "i 130 Loss tensor(0.0067, grad_fn=<MseLossBackward0>)\n",
      "i 140 Loss tensor(0.0081, grad_fn=<MseLossBackward0>)\n",
      "i 150 Loss tensor(0.0062, grad_fn=<MseLossBackward0>)\n",
      "i 160 Loss tensor(0.0072, grad_fn=<MseLossBackward0>)\n",
      "i 170 Loss tensor(0.0061, grad_fn=<MseLossBackward0>)\n",
      "i 180 Loss tensor(0.0060, grad_fn=<MseLossBackward0>)\n",
      "i 190 Loss tensor(0.0074, grad_fn=<MseLossBackward0>)\n",
      "i 200 Loss tensor(0.0063, grad_fn=<MseLossBackward0>)\n",
      "i 210 Loss tensor(0.0062, grad_fn=<MseLossBackward0>)\n",
      "i 220 Loss tensor(0.0058, grad_fn=<MseLossBackward0>)\n",
      "i 230 Loss tensor(0.0056, grad_fn=<MseLossBackward0>)\n",
      "i 240 Loss tensor(0.0057, grad_fn=<MseLossBackward0>)\n",
      "i 250 Loss tensor(0.0056, grad_fn=<MseLossBackward0>)\n",
      "i 260 Loss tensor(0.0060, grad_fn=<MseLossBackward0>)\n",
      "i 270 Loss tensor(0.0073, grad_fn=<MseLossBackward0>)\n",
      "i 280 Loss tensor(0.0050, grad_fn=<MseLossBackward0>)\n",
      "i 290 Loss tensor(0.0057, grad_fn=<MseLossBackward0>)\n",
      "i 300 Loss tensor(0.0047, grad_fn=<MseLossBackward0>)\n",
      "i 310 Loss tensor(0.0049, grad_fn=<MseLossBackward0>)\n",
      "i 320 Loss tensor(0.0046, grad_fn=<MseLossBackward0>)\n",
      "i 330 Loss tensor(0.0055, grad_fn=<MseLossBackward0>)\n",
      "i 340 Loss tensor(0.0053, grad_fn=<MseLossBackward0>)\n",
      "i 350 Loss tensor(0.0049, grad_fn=<MseLossBackward0>)\n",
      "i 360 Loss tensor(0.0052, grad_fn=<MseLossBackward0>)\n",
      "i 370 Loss tensor(0.0050, grad_fn=<MseLossBackward0>)\n",
      "i 380 Loss tensor(0.0045, grad_fn=<MseLossBackward0>)\n",
      "i 390 Loss tensor(0.0051, grad_fn=<MseLossBackward0>)\n",
      "i 400 Loss tensor(0.0055, grad_fn=<MseLossBackward0>)\n",
      "i 410 Loss tensor(0.0058, grad_fn=<MseLossBackward0>)\n",
      "i 420 Loss tensor(0.0077, grad_fn=<MseLossBackward0>)\n",
      "i 430 Loss tensor(0.0058, grad_fn=<MseLossBackward0>)\n",
      "i 440 Loss tensor(0.0046, grad_fn=<MseLossBackward0>)\n",
      "i 450 Loss tensor(0.0047, grad_fn=<MseLossBackward0>)\n",
      "i 460 Loss tensor(0.0048, grad_fn=<MseLossBackward0>)\n",
      "i 470 Loss tensor(0.0053, grad_fn=<MseLossBackward0>)\n",
      "i 480 Loss tensor(0.0057, grad_fn=<MseLossBackward0>)\n",
      "i 490 Loss tensor(0.0050, grad_fn=<MseLossBackward0>)\n",
      "i 500 Loss tensor(0.0044, grad_fn=<MseLossBackward0>)\n",
      "i 510 Loss tensor(0.0055, grad_fn=<MseLossBackward0>)\n",
      "i 520 Loss tensor(0.0046, grad_fn=<MseLossBackward0>)\n",
      "i 530 Loss tensor(0.0073, grad_fn=<MseLossBackward0>)\n",
      "i 540 Loss tensor(0.0043, grad_fn=<MseLossBackward0>)\n",
      "i 550 Loss tensor(0.0056, grad_fn=<MseLossBackward0>)\n",
      "i 560 Loss tensor(0.0051, grad_fn=<MseLossBackward0>)\n",
      "i 570 Loss tensor(0.0049, grad_fn=<MseLossBackward0>)\n",
      "i 580 Loss tensor(0.0042, grad_fn=<MseLossBackward0>)\n",
      "i 590 Loss tensor(0.0061, grad_fn=<MseLossBackward0>)\n",
      "i 600 Loss tensor(0.0057, grad_fn=<MseLossBackward0>)\n",
      "i 610 Loss tensor(0.0048, grad_fn=<MseLossBackward0>)\n",
      "i 620 Loss tensor(0.0056, grad_fn=<MseLossBackward0>)\n",
      "i 630 Loss tensor(0.0049, grad_fn=<MseLossBackward0>)\n",
      "i 640 Loss tensor(0.0051, grad_fn=<MseLossBackward0>)\n",
      "i 650 Loss tensor(0.0073, grad_fn=<MseLossBackward0>)\n",
      "i 660 Loss tensor(0.0052, grad_fn=<MseLossBackward0>)\n",
      "i 670 Loss tensor(0.0043, grad_fn=<MseLossBackward0>)\n",
      "i 680 Loss tensor(0.0048, grad_fn=<MseLossBackward0>)\n",
      "i 690 Loss tensor(0.0048, grad_fn=<MseLossBackward0>)\n",
      "i 700 Loss tensor(0.0061, grad_fn=<MseLossBackward0>)\n",
      "i 710 Loss tensor(0.0048, grad_fn=<MseLossBackward0>)\n",
      "i 720 Loss tensor(0.0067, grad_fn=<MseLossBackward0>)\n",
      "i 730 Loss tensor(0.0056, grad_fn=<MseLossBackward0>)\n",
      "i 740 Loss tensor(0.0044, grad_fn=<MseLossBackward0>)\n",
      "i 750 Loss tensor(0.0044, grad_fn=<MseLossBackward0>)\n",
      "i 760 Loss tensor(0.0056, grad_fn=<MseLossBackward0>)\n",
      "i 770 Loss tensor(0.0048, grad_fn=<MseLossBackward0>)\n",
      "i 780 Loss tensor(0.0067, grad_fn=<MseLossBackward0>)\n",
      "i 790 Loss tensor(0.0046, grad_fn=<MseLossBackward0>)\n",
      "i 800 Loss tensor(0.0049, grad_fn=<MseLossBackward0>)\n",
      "i 810 Loss tensor(0.0045, grad_fn=<MseLossBackward0>)\n",
      "i 820 Loss tensor(0.0055, grad_fn=<MseLossBackward0>)\n",
      "i 830 Loss tensor(0.0043, grad_fn=<MseLossBackward0>)\n",
      "i 840 Loss tensor(0.0071, grad_fn=<MseLossBackward0>)\n",
      "i 850 Loss tensor(0.0044, grad_fn=<MseLossBackward0>)\n",
      "i 860 Loss tensor(0.0052, grad_fn=<MseLossBackward0>)\n",
      "i 870 Loss tensor(0.0051, grad_fn=<MseLossBackward0>)\n",
      "i 880 Loss tensor(0.0061, grad_fn=<MseLossBackward0>)\n",
      "i 890 Loss tensor(0.0048, grad_fn=<MseLossBackward0>)\n",
      "i 900 Loss tensor(0.0078, grad_fn=<MseLossBackward0>)\n",
      "i 910 Loss tensor(0.0053, grad_fn=<MseLossBackward0>)\n",
      "i 920 Loss tensor(0.0048, grad_fn=<MseLossBackward0>)\n",
      "i 930 Loss tensor(0.0044, grad_fn=<MseLossBackward0>)\n",
      "i 940 Loss tensor(0.0042, grad_fn=<MseLossBackward0>)\n",
      "i 950 Loss tensor(0.0043, grad_fn=<MseLossBackward0>)\n",
      "i 960 Loss tensor(0.0045, grad_fn=<MseLossBackward0>)\n",
      "i 970 Loss tensor(0.0054, grad_fn=<MseLossBackward0>)\n",
      "i 980 Loss tensor(0.0057, grad_fn=<MseLossBackward0>)\n",
      "i 990 Loss tensor(0.0047, grad_fn=<MseLossBackward0>)\n"
     ]
    }
   ],
   "source": [
    "loss_l = []\n",
    "for i in range(EPOCHS):\n",
    "    idx=torch.randint(0, X.size()[0], (config.batch_size,))\n",
    "    #m.zero_grad()\n",
    "    optimizer.zero_grad()\n",
    "    out = m(X[idx])\n",
    "    #out = m(src=X[idx].view(src_length, -1,1), tgt=y[idx].view(target_length, -1,1))\n",
    "    #break\n",
    "    loss = loss_fn(out.squeeze(),y[idx])\n",
    "    #print(\"Loss\", loss)\n",
    "    loss.backward()\n",
    "    optimizer.step()\n",
    "    if i % 10==0:\n",
    "        print(\"i\", i, \"Loss\", loss)\n",
    "        loss_l.append(loss.detach().numpy())"
   ]
  },
  {
   "cell_type": "code",
   "execution_count": 153,
   "metadata": {},
   "outputs": [
    {
     "data": {
      "text/plain": [
       "tensor([[-0.0161, -0.0231, -0.0379,  0.0063, -0.0049,  0.0482, -0.0539, -0.0159,\n",
       "         -0.0208, -0.0069, -0.0364,  0.0059, -0.0499,  0.0016,  0.0064, -0.0140,\n",
       "         -0.0646, -0.0648,  0.0325, -0.0638]])"
      ]
     },
     "execution_count": 153,
     "metadata": {},
     "output_type": "execute_result"
    }
   ],
   "source": [
    "y[0:1]"
   ]
  },
  {
   "cell_type": "code",
   "execution_count": 81,
   "metadata": {},
   "outputs": [
    {
     "data": {
      "text/plain": [
       "tensor([[[ 2.0000e+00,  0.0000e+00,  1.0000e+00,  1.0000e+00,  2.0000e+00],\n",
       "         [ 2.0000e+00,  0.0000e+00,  1.0000e+00,  1.0000e+00,  2.0000e+00],\n",
       "         [ 2.0000e+00,  0.0000e+00,  1.0000e+00,  1.0000e+00,  2.0000e+00],\n",
       "         [ 2.0000e+00,  0.0000e+00,  1.0000e+00,  1.0000e+00,  2.0000e+00],\n",
       "         [ 2.0000e+00,  0.0000e+00,  1.0000e+00,  1.0000e+00,  2.0000e+00],\n",
       "         [ 2.0000e+00,  0.0000e+00,  1.0000e+00,  1.0000e+00,  2.0000e+00],\n",
       "         [ 2.0000e+00,  0.0000e+00,  1.0000e+00,  1.0000e+00,  2.0000e+00],\n",
       "         [ 2.0000e+00,  0.0000e+00,  1.0000e+00,  1.0000e+00,  2.0000e+00],\n",
       "         [ 2.0000e+00,  0.0000e+00,  1.0000e+00,  1.0000e+00,  2.0000e+00],\n",
       "         [ 2.0000e+00,  0.0000e+00,  1.0000e+00,  1.0000e+00,  2.0000e+00],\n",
       "         [ 2.0000e+00,  0.0000e+00,  1.0000e+00,  1.0000e+00,  2.0000e+00],\n",
       "         [ 1.9987e+00,  1.3360e-03,  1.0013e+00,  9.9866e-01,  2.0000e+00],\n",
       "         [ 2.0017e+00, -1.6507e-03,  9.9835e-01,  1.0017e+00,  2.0017e+00],\n",
       "         [ 2.0008e+00, -8.3629e-04,  9.9916e-01,  1.0008e+00,  2.0008e+00],\n",
       "         [ 2.0030e+00, -2.9928e-03,  9.9702e-01,  1.0030e+00,  2.0030e+00],\n",
       "         [ 1.9950e+00,  4.9850e-03,  1.0050e+00,  9.9502e-01,  2.0000e+00],\n",
       "         [ 2.0000e+00,  0.0000e+00,  1.0000e+00,  1.0000e+00,  2.0000e+00],\n",
       "         [ 2.0000e+00,  0.0000e+00,  1.0000e+00,  1.0000e+00,  2.0000e+00],\n",
       "         [ 1.9999e+00,  9.4840e-05,  1.0001e+00,  9.9991e-01,  2.0004e+00],\n",
       "         [ 1.9996e+00,  3.6635e-04,  1.0004e+00,  9.9963e-01,  2.0000e+00]]])"
      ]
     },
     "execution_count": 81,
     "metadata": {},
     "output_type": "execute_result"
    }
   ],
   "source": [
    "X[0:1]"
   ]
  },
  {
   "cell_type": "code",
   "execution_count": null,
   "metadata": {},
   "outputs": [],
   "source": [
    "m=m.eval()"
   ]
  },
  {
   "cell_type": "code",
   "execution_count": 165,
   "metadata": {},
   "outputs": [
    {
     "data": {
      "text/plain": [
       "<matplotlib.legend.Legend at 0x7fabc5c0de50>"
      ]
     },
     "execution_count": 165,
     "metadata": {},
     "output_type": "execute_result"
    },
    {
     "data": {
      "image/png": "[encoded data removed]",
      "text/plain": [
       "<Figure size 640x480 with 1 Axes>"
      ]
     },
     "metadata": {},
     "output_type": "display_data"
    }
   ],
   "source": [
    "plt.plot(m(X[0:1]).squeeze().detach().numpy(), label=\"pred\")\n",
    "plt.plot(y[0:1].squeeze().detach().numpy(), label=\"target\")\n",
    "plt.title(\"Prediction vs target: training\")\n",
    "plt.legend()"
   ]
  },
  {
   "cell_type": "code",
   "execution_count": null,
   "metadata": {},
   "outputs": [],
   "source": [
    "df_sample_test = df[df.type==\"validation\"].sample(3000)\n",
    "X_test = create_sequence(df_sample_test[features].values, config.block_size)\n",
    "y_test = create_sequence_target(df_sample_test[\"target_20\"].values*100, config.block_size)"
   ]
  },
  {
   "cell_type": "code",
   "execution_count": 142,
   "metadata": {},
   "outputs": [
    {
     "name": "stdout",
     "output_type": "stream",
     "text": [
      "tensor([[[-3.1943e-03],\n",
      "         [-5.3176e-04],\n",
      "         [ 3.4228e-03],\n",
      "         [-4.4274e-03],\n",
      "         [-1.3779e-03],\n",
      "         [-3.5078e-03],\n",
      "         [-1.8376e-03],\n",
      "         [-1.7132e-03],\n",
      "         [ 3.8879e-03],\n",
      "         [-9.5292e-04],\n",
      "         [ 1.8940e-03],\n",
      "         [-2.6382e-03],\n",
      "         [-4.1526e-03],\n",
      "         [-8.1616e-04],\n",
      "         [-3.8100e-03],\n",
      "         [ 2.1800e-05],\n",
      "         [-5.8857e-03],\n",
      "         [-6.4929e-03],\n",
      "         [-2.1056e-03],\n",
      "         [ 2.9082e-03]]])\n"
     ]
    }
   ],
   "source": [
    "with torch.no_grad():\n",
    "    m=m.eval()\n",
    "    print(m(X_test[0:1]))"
   ]
  },
  {
   "cell_type": "code",
   "execution_count": 148,
   "metadata": {},
   "outputs": [
    {
     "data": {
      "text/plain": [
       "tensor([[[-3.1943e-03],\n",
       "         [-5.3176e-04],\n",
       "         [ 3.4228e-03],\n",
       "         [-4.4274e-03],\n",
       "         [-1.3779e-03],\n",
       "         [-3.5078e-03],\n",
       "         [-1.8376e-03],\n",
       "         [-1.7132e-03],\n",
       "         [ 3.8879e-03],\n",
       "         [-9.5292e-04],\n",
       "         [ 1.8940e-03],\n",
       "         [-2.6382e-03],\n",
       "         [-4.1526e-03],\n",
       "         [-8.1616e-04],\n",
       "         [-3.8100e-03],\n",
       "         [ 2.1800e-05],\n",
       "         [-5.8857e-03],\n",
       "         [-6.4929e-03],\n",
       "         [-2.1056e-03],\n",
       "         [ 2.9082e-03]]], grad_fn=<UnsafeViewBackward0>)"
      ]
     },
     "execution_count": 148,
     "metadata": {},
     "output_type": "execute_result"
    }
   ],
   "source": [
    "m(X[0:1])"
   ]
  },
  {
   "cell_type": "code",
   "execution_count": 56,
   "metadata": {},
   "outputs": [
    {
     "data": {
      "text/html": [
       "<div>\n",
       "<style scoped>\n",
       "    .dataframe tbody tr th:only-of-type {\n",
       "        vertical-align: middle;\n",
       "    }\n",
       "\n",
       "    .dataframe tbody tr th {\n",
       "        vertical-align: top;\n",
       "    }\n",
       "\n",
       "    .dataframe thead th {\n",
       "        text-align: right;\n",
       "    }\n",
       "</style>\n",
       "<table border=\"1\" class=\"dataframe\">\n",
       "  <thead>\n",
       "    <tr style=\"text-align: right;\">\n",
       "      <th></th>\n",
       "      <th>feature_0</th>\n",
       "      <th>feature_1</th>\n",
       "      <th>feature_2</th>\n",
       "      <th>feature_3</th>\n",
       "      <th>feature_4</th>\n",
       "      <th>feature_5</th>\n",
       "      <th>feature_6</th>\n",
       "      <th>feature_7</th>\n",
       "      <th>feature_8</th>\n",
       "      <th>feature_9</th>\n",
       "    </tr>\n",
       "  </thead>\n",
       "  <tbody>\n",
       "    <tr>\n",
       "      <th>0</th>\n",
       "      <td>2.001081</td>\n",
       "      <td>-0.001081</td>\n",
       "      <td>0.998920</td>\n",
       "      <td>1.001081</td>\n",
       "      <td>2.001081</td>\n",
       "      <td>-0.001081</td>\n",
       "      <td>0.998920</td>\n",
       "      <td>1.001081</td>\n",
       "      <td>1.999988</td>\n",
       "      <td>0.000012</td>\n",
       "    </tr>\n",
       "    <tr>\n",
       "      <th>1</th>\n",
       "      <td>2.000000</td>\n",
       "      <td>0.000000</td>\n",
       "      <td>1.000000</td>\n",
       "      <td>1.000000</td>\n",
       "      <td>2.000000</td>\n",
       "      <td>0.000000</td>\n",
       "      <td>1.000000</td>\n",
       "      <td>1.000000</td>\n",
       "      <td>2.000000</td>\n",
       "      <td>0.000000</td>\n",
       "    </tr>\n",
       "    <tr>\n",
       "      <th>2</th>\n",
       "      <td>2.000000</td>\n",
       "      <td>0.000000</td>\n",
       "      <td>1.000000</td>\n",
       "      <td>1.000000</td>\n",
       "      <td>2.000000</td>\n",
       "      <td>0.000000</td>\n",
       "      <td>1.000000</td>\n",
       "      <td>1.000000</td>\n",
       "      <td>2.000000</td>\n",
       "      <td>0.000000</td>\n",
       "    </tr>\n",
       "    <tr>\n",
       "      <th>3</th>\n",
       "      <td>2.000000</td>\n",
       "      <td>0.000000</td>\n",
       "      <td>1.000000</td>\n",
       "      <td>1.000000</td>\n",
       "      <td>2.000000</td>\n",
       "      <td>0.000000</td>\n",
       "      <td>1.000000</td>\n",
       "      <td>1.000000</td>\n",
       "      <td>2.000000</td>\n",
       "      <td>0.000000</td>\n",
       "    </tr>\n",
       "    <tr>\n",
       "      <th>4</th>\n",
       "      <td>2.000000</td>\n",
       "      <td>0.000000</td>\n",
       "      <td>1.000000</td>\n",
       "      <td>1.000000</td>\n",
       "      <td>2.000000</td>\n",
       "      <td>0.000000</td>\n",
       "      <td>1.000000</td>\n",
       "      <td>1.000000</td>\n",
       "      <td>2.000000</td>\n",
       "      <td>0.000000</td>\n",
       "    </tr>\n",
       "    <tr>\n",
       "      <th>...</th>\n",
       "      <td>...</td>\n",
       "      <td>...</td>\n",
       "      <td>...</td>\n",
       "      <td>...</td>\n",
       "      <td>...</td>\n",
       "      <td>...</td>\n",
       "      <td>...</td>\n",
       "      <td>...</td>\n",
       "      <td>...</td>\n",
       "      <td>...</td>\n",
       "    </tr>\n",
       "    <tr>\n",
       "      <th>995</th>\n",
       "      <td>2.000000</td>\n",
       "      <td>0.000000</td>\n",
       "      <td>1.000000</td>\n",
       "      <td>1.000000</td>\n",
       "      <td>2.000000</td>\n",
       "      <td>0.000000</td>\n",
       "      <td>1.000000</td>\n",
       "      <td>1.000000</td>\n",
       "      <td>2.000000</td>\n",
       "      <td>0.000000</td>\n",
       "    </tr>\n",
       "    <tr>\n",
       "      <th>996</th>\n",
       "      <td>2.000000</td>\n",
       "      <td>0.000000</td>\n",
       "      <td>1.000000</td>\n",
       "      <td>1.000000</td>\n",
       "      <td>2.000000</td>\n",
       "      <td>0.000000</td>\n",
       "      <td>1.000000</td>\n",
       "      <td>1.000000</td>\n",
       "      <td>2.000000</td>\n",
       "      <td>0.000000</td>\n",
       "    </tr>\n",
       "    <tr>\n",
       "      <th>997</th>\n",
       "      <td>2.000000</td>\n",
       "      <td>0.000000</td>\n",
       "      <td>1.000000</td>\n",
       "      <td>1.000000</td>\n",
       "      <td>2.000000</td>\n",
       "      <td>0.000000</td>\n",
       "      <td>1.000000</td>\n",
       "      <td>1.000000</td>\n",
       "      <td>2.000000</td>\n",
       "      <td>0.000000</td>\n",
       "    </tr>\n",
       "    <tr>\n",
       "      <th>998</th>\n",
       "      <td>2.000997</td>\n",
       "      <td>-0.000997</td>\n",
       "      <td>0.999004</td>\n",
       "      <td>1.000997</td>\n",
       "      <td>2.000997</td>\n",
       "      <td>-0.000997</td>\n",
       "      <td>0.999004</td>\n",
       "      <td>1.000997</td>\n",
       "      <td>1.999063</td>\n",
       "      <td>0.000937</td>\n",
       "    </tr>\n",
       "    <tr>\n",
       "      <th>999</th>\n",
       "      <td>2.000000</td>\n",
       "      <td>0.000000</td>\n",
       "      <td>1.000000</td>\n",
       "      <td>1.000000</td>\n",
       "      <td>2.000000</td>\n",
       "      <td>0.000000</td>\n",
       "      <td>1.000000</td>\n",
       "      <td>1.000000</td>\n",
       "      <td>2.000000</td>\n",
       "      <td>0.000000</td>\n",
       "    </tr>\n",
       "  </tbody>\n",
       "</table>\n",
       "<p>1000 rows × 10 columns</p>\n",
       "</div>"
      ],
      "text/plain": [
       "     feature_0  feature_1  feature_2  feature_3  feature_4  feature_5  \\\n",
       "0     2.001081  -0.001081   0.998920   1.001081   2.001081  -0.001081   \n",
       "1     2.000000   0.000000   1.000000   1.000000   2.000000   0.000000   \n",
       "2     2.000000   0.000000   1.000000   1.000000   2.000000   0.000000   \n",
       "3     2.000000   0.000000   1.000000   1.000000   2.000000   0.000000   \n",
       "4     2.000000   0.000000   1.000000   1.000000   2.000000   0.000000   \n",
       "..         ...        ...        ...        ...        ...        ...   \n",
       "995   2.000000   0.000000   1.000000   1.000000   2.000000   0.000000   \n",
       "996   2.000000   0.000000   1.000000   1.000000   2.000000   0.000000   \n",
       "997   2.000000   0.000000   1.000000   1.000000   2.000000   0.000000   \n",
       "998   2.000997  -0.000997   0.999004   1.000997   2.000997  -0.000997   \n",
       "999   2.000000   0.000000   1.000000   1.000000   2.000000   0.000000   \n",
       "\n",
       "     feature_6  feature_7  feature_8  feature_9  \n",
       "0     0.998920   1.001081   1.999988   0.000012  \n",
       "1     1.000000   1.000000   2.000000   0.000000  \n",
       "2     1.000000   1.000000   2.000000   0.000000  \n",
       "3     1.000000   1.000000   2.000000   0.000000  \n",
       "4     1.000000   1.000000   2.000000   0.000000  \n",
       "..         ...        ...        ...        ...  \n",
       "995   1.000000   1.000000   2.000000   0.000000  \n",
       "996   1.000000   1.000000   2.000000   0.000000  \n",
       "997   1.000000   1.000000   2.000000   0.000000  \n",
       "998   0.999004   1.000997   1.999063   0.000937  \n",
       "999   1.000000   1.000000   2.000000   0.000000  \n",
       "\n",
       "[1000 rows x 10 columns]"
      ]
     },
     "execution_count": 56,
     "metadata": {},
     "output_type": "execute_result"
    }
   ],
   "source": [
    "df_sample[features[:10]]"
   ]
  },
  {
   "cell_type": "code",
   "execution_count": 57,
   "metadata": {},
   "outputs": [
    {
     "data": {
      "text/plain": [
       "1000"
      ]
     },
     "execution_count": 57,
     "metadata": {},
     "output_type": "execute_result"
    }
   ],
   "source": [
    "len(df_sample[features].values)"
   ]
  },
  {
   "cell_type": "code",
   "execution_count": 58,
   "metadata": {},
   "outputs": [
    {
     "data": {
      "text/plain": [
       "(1000, 10)"
      ]
     },
     "execution_count": 58,
     "metadata": {},
     "output_type": "execute_result"
    }
   ],
   "source": [
    "df_sample[features[:10]].values.shape"
   ]
  },
  {
   "cell_type": "code",
   "execution_count": 93,
   "metadata": {},
   "outputs": [],
   "source": [
    "X = create_sequence(df_sample[features].values, config.block_size)\n",
    "y = create_sequence_target(df_sample[\"target_20\"].values, config.block_size)"
   ]
  },
  {
   "cell_type": "code",
   "execution_count": 94,
   "metadata": {},
   "outputs": [
    {
     "data": {
      "text/plain": [
       "torch.Size([880, 120, 10])"
      ]
     },
     "execution_count": 94,
     "metadata": {},
     "output_type": "execute_result"
    }
   ],
   "source": [
    "X.size()"
   ]
  },
  {
   "cell_type": "code",
   "execution_count": 95,
   "metadata": {},
   "outputs": [
    {
     "data": {
      "text/plain": [
       "torch.Size([880, 120])"
      ]
     },
     "execution_count": 95,
     "metadata": {},
     "output_type": "execute_result"
    }
   ],
   "source": [
    "y.size()"
   ]
  },
  {
   "cell_type": "code",
   "execution_count": 96,
   "metadata": {},
   "outputs": [
    {
     "data": {
      "text/plain": [
       "0      0.005274\n",
       "1      0.002691\n",
       "2      0.002691\n",
       "3      0.001800\n",
       "4     -0.000273\n",
       "         ...   \n",
       "995   -0.008830\n",
       "996   -0.007903\n",
       "997   -0.007309\n",
       "998   -0.006294\n",
       "999   -0.005303\n",
       "Name: target_20, Length: 1000, dtype: float64"
      ]
     },
     "execution_count": 96,
     "metadata": {},
     "output_type": "execute_result"
    }
   ],
   "source": [
    "df_sample[\"target_20\"]"
   ]
  },
  {
   "cell_type": "code",
   "execution_count": 97,
   "metadata": {},
   "outputs": [
    {
     "data": {
      "text/plain": [
       "tensor([ 0.0053,  0.0027,  0.0027,  0.0018, -0.0003,  0.0012, -0.0012, -0.0019,\n",
       "        -0.0019, -0.0019, -0.0021,  0.0004, -0.0013, -0.0022, -0.0011, -0.0012,\n",
       "        -0.0012, -0.0010, -0.0039, -0.0039, -0.0059, -0.0061, -0.0061, -0.0079,\n",
       "        -0.0082, -0.0068, -0.0051, -0.0050, -0.0084, -0.0084, -0.0093, -0.0111,\n",
       "        -0.0113, -0.0110, -0.0121, -0.0120, -0.0133, -0.0153, -0.0125, -0.0125,\n",
       "        -0.0104, -0.0094, -0.0094, -0.0055, -0.0064, -0.0072, -0.0076, -0.0067,\n",
       "        -0.0033, -0.0035, -0.0025, -0.0032, -0.0023, -0.0024, -0.0035, -0.0038,\n",
       "        -0.0025, -0.0006, -0.0040, -0.0033, -0.0086, -0.0143, -0.0160, -0.0144,\n",
       "        -0.0131, -0.0129, -0.0117, -0.0081, -0.0081, -0.0098, -0.0092, -0.0095,\n",
       "        -0.0114, -0.0108, -0.0079, -0.0076, -0.0076, -0.0076, -0.0066, -0.0073,\n",
       "        -0.0020,  0.0038,  0.0056,  0.0027,  0.0027,  0.0025,  0.0008, -0.0039,\n",
       "        -0.0054, -0.0038, -0.0047, -0.0038, -0.0019, -0.0019, -0.0049, -0.0033,\n",
       "        -0.0033, -0.0002, -0.0002, -0.0012, -0.0019, -0.0007, -0.0007, -0.0005,\n",
       "        -0.0005, -0.0006,  0.0022,  0.0029,  0.0039,  0.0038,  0.0041,  0.0035,\n",
       "         0.0026,  0.0031,  0.0042,  0.0025,  0.0025, -0.0006, -0.0006,  0.0004])"
      ]
     },
     "execution_count": 97,
     "metadata": {},
     "output_type": "execute_result"
    }
   ],
   "source": [
    "y[0]"
   ]
  },
  {
   "cell_type": "code",
   "execution_count": 40,
   "metadata": {},
   "outputs": [
    {
     "data": {
      "text/plain": [
       "torch.Size([111616, 10])"
      ]
     },
     "execution_count": 40,
     "metadata": {},
     "output_type": "execute_result"
    }
   ],
   "source": [
    "X.size()"
   ]
  },
  {
   "cell_type": "code",
   "execution_count": null,
   "metadata": {},
   "outputs": [],
   "source": [
    "# Add classification for the target\n",
    "# Generate sequences\n"
   ]
  },
  {
   "cell_type": "code",
   "execution_count": 23,
   "metadata": {},
   "outputs": [
    {
     "data": {
      "text/html": [
       "<div>\n",
       "<style scoped>\n",
       "    .dataframe tbody tr th:only-of-type {\n",
       "        vertical-align: middle;\n",
       "    }\n",
       "\n",
       "    .dataframe tbody tr th {\n",
       "        vertical-align: top;\n",
       "    }\n",
       "\n",
       "    .dataframe thead th {\n",
       "        text-align: right;\n",
       "    }\n",
       "</style>\n",
       "<table border=\"1\" class=\"dataframe\">\n",
       "  <thead>\n",
       "    <tr style=\"text-align: right;\">\n",
       "      <th></th>\n",
       "      <th>target_1</th>\n",
       "      <th>target_2</th>\n",
       "      <th>target_5</th>\n",
       "      <th>target_10</th>\n",
       "      <th>target_20</th>\n",
       "      <th>target_50</th>\n",
       "      <th>target_80</th>\n",
       "      <th>target_100</th>\n",
       "    </tr>\n",
       "  </thead>\n",
       "  <tbody>\n",
       "    <tr>\n",
       "      <th>count</th>\n",
       "      <td>1.041228e+06</td>\n",
       "      <td>1.041228e+06</td>\n",
       "      <td>1.041228e+06</td>\n",
       "      <td>1.041228e+06</td>\n",
       "      <td>1.041228e+06</td>\n",
       "      <td>1.041228e+06</td>\n",
       "      <td>1.041228e+06</td>\n",
       "      <td>1.041228e+06</td>\n",
       "    </tr>\n",
       "    <tr>\n",
       "      <th>mean</th>\n",
       "      <td>2.928518e-06</td>\n",
       "      <td>6.171693e-06</td>\n",
       "      <td>1.589453e-05</td>\n",
       "      <td>3.068566e-05</td>\n",
       "      <td>5.665001e-05</td>\n",
       "      <td>1.305043e-04</td>\n",
       "      <td>2.042885e-04</td>\n",
       "      <td>2.518083e-04</td>\n",
       "    </tr>\n",
       "    <tr>\n",
       "      <th>std</th>\n",
       "      <td>1.515701e-03</td>\n",
       "      <td>2.223968e-03</td>\n",
       "      <td>3.633917e-03</td>\n",
       "      <td>5.199060e-03</td>\n",
       "      <td>7.347861e-03</td>\n",
       "      <td>1.129701e-02</td>\n",
       "      <td>1.400645e-02</td>\n",
       "      <td>1.547982e-02</td>\n",
       "    </tr>\n",
       "    <tr>\n",
       "      <th>min</th>\n",
       "      <td>-2.267778e-01</td>\n",
       "      <td>-2.746559e-01</td>\n",
       "      <td>-3.435378e-01</td>\n",
       "      <td>-4.023360e-01</td>\n",
       "      <td>-3.992186e-01</td>\n",
       "      <td>-3.978704e-01</td>\n",
       "      <td>-3.937287e-01</td>\n",
       "      <td>-3.927895e-01</td>\n",
       "    </tr>\n",
       "    <tr>\n",
       "      <th>25%</th>\n",
       "      <td>-2.364408e-04</td>\n",
       "      <td>-5.728145e-04</td>\n",
       "      <td>-1.245675e-03</td>\n",
       "      <td>-1.919242e-03</td>\n",
       "      <td>-2.879752e-03</td>\n",
       "      <td>-4.545950e-03</td>\n",
       "      <td>-5.682377e-03</td>\n",
       "      <td>-6.296281e-03</td>\n",
       "    </tr>\n",
       "    <tr>\n",
       "      <th>50%</th>\n",
       "      <td>0.000000e+00</td>\n",
       "      <td>0.000000e+00</td>\n",
       "      <td>0.000000e+00</td>\n",
       "      <td>0.000000e+00</td>\n",
       "      <td>0.000000e+00</td>\n",
       "      <td>2.653224e-05</td>\n",
       "      <td>2.748295e-05</td>\n",
       "      <td>2.672116e-05</td>\n",
       "    </tr>\n",
       "    <tr>\n",
       "      <th>75%</th>\n",
       "      <td>2.496521e-04</td>\n",
       "      <td>5.885808e-04</td>\n",
       "      <td>1.271786e-03</td>\n",
       "      <td>1.985544e-03</td>\n",
       "      <td>2.943058e-03</td>\n",
       "      <td>4.698542e-03</td>\n",
       "      <td>5.873954e-03</td>\n",
       "      <td>6.504676e-03</td>\n",
       "    </tr>\n",
       "    <tr>\n",
       "      <th>max</th>\n",
       "      <td>1.137402e-01</td>\n",
       "      <td>1.647043e-01</td>\n",
       "      <td>2.259058e-01</td>\n",
       "      <td>3.097657e-01</td>\n",
       "      <td>3.122420e-01</td>\n",
       "      <td>4.451076e-01</td>\n",
       "      <td>4.489491e-01</td>\n",
       "      <td>4.581878e-01</td>\n",
       "    </tr>\n",
       "  </tbody>\n",
       "</table>\n",
       "</div>"
      ],
      "text/plain": [
       "           target_1      target_2      target_5     target_10     target_20  \\\n",
       "count  1.041228e+06  1.041228e+06  1.041228e+06  1.041228e+06  1.041228e+06   \n",
       "mean   2.928518e-06  6.171693e-06  1.589453e-05  3.068566e-05  5.665001e-05   \n",
       "std    1.515701e-03  2.223968e-03  3.633917e-03  5.199060e-03  7.347861e-03   \n",
       "min   -2.267778e-01 -2.746559e-01 -3.435378e-01 -4.023360e-01 -3.992186e-01   \n",
       "25%   -2.364408e-04 -5.728145e-04 -1.245675e-03 -1.919242e-03 -2.879752e-03   \n",
       "50%    0.000000e+00  0.000000e+00  0.000000e+00  0.000000e+00  0.000000e+00   \n",
       "75%    2.496521e-04  5.885808e-04  1.271786e-03  1.985544e-03  2.943058e-03   \n",
       "max    1.137402e-01  1.647043e-01  2.259058e-01  3.097657e-01  3.122420e-01   \n",
       "\n",
       "          target_50     target_80    target_100  \n",
       "count  1.041228e+06  1.041228e+06  1.041228e+06  \n",
       "mean   1.305043e-04  2.042885e-04  2.518083e-04  \n",
       "std    1.129701e-02  1.400645e-02  1.547982e-02  \n",
       "min   -3.978704e-01 -3.937287e-01 -3.927895e-01  \n",
       "25%   -4.545950e-03 -5.682377e-03 -6.296281e-03  \n",
       "50%    2.653224e-05  2.748295e-05  2.672116e-05  \n",
       "75%    4.698542e-03  5.873954e-03  6.504676e-03  \n",
       "max    4.451076e-01  4.489491e-01  4.581878e-01  "
      ]
     },
     "execution_count": 23,
     "metadata": {},
     "output_type": "execute_result"
    }
   ],
   "source": [
    "df[targets].describe()"
   ]
  },
  {
   "cell_type": "code",
   "execution_count": 21,
   "metadata": {},
   "outputs": [
    {
     "data": {
      "text/plain": [
       "array([[<AxesSubplot:title={'center':'target_1'}>,\n",
       "        <AxesSubplot:title={'center':'target_2'}>,\n",
       "        <AxesSubplot:title={'center':'target_5'}>],\n",
       "       [<AxesSubplot:title={'center':'target_10'}>,\n",
       "        <AxesSubplot:title={'center':'target_20'}>,\n",
       "        <AxesSubplot:title={'center':'target_50'}>],\n",
       "       [<AxesSubplot:title={'center':'target_80'}>,\n",
       "        <AxesSubplot:title={'center':'target_100'}>, <AxesSubplot:>]],\n",
       "      dtype=object)"
      ]
     },
     "execution_count": 21,
     "metadata": {},
     "output_type": "execute_result"
    },
    {
     "data": {
      "image/png": "[encoded data removed]",
      "text/plain": [
       "<Figure size 1440x1440 with 9 Axes>"
      ]
     },
     "metadata": {
      "needs_background": "light"
     },
     "output_type": "display_data"
    }
   ],
   "source": [
    "df[targets].hist(bins=100, figsize=(20,20))"
   ]
  }
 ],
 "metadata": {
  "kernelspec": {
   "display_name": "Python 3.9.6 ('.venv': venv)",
   "language": "python",
   "name": "python3"
  },
  "language_info": {
   "codemirror_mode": {
    "name": "ipython",
    "version": 3
   },
   "file_extension": ".py",
   "mimetype": "text/x-python",
   "name": "python",
   "nbconvert_exporter": "python",
   "pygments_lexer": "ipython3",
   "version": "3.8.5"
  },
  "orig_nbformat": 4,
  "vscode": {
   "interpreter": {
    "hash": "f3fe702c3a37098161483b3ba69a88a46c748a11aa3d2f58142da2c2137246a1"
   }
  }
 },
 "nbformat": 4,
 "nbformat_minor": 2
}
