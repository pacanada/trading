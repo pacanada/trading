{
 "cells": [
  {
   "cell_type": "markdown",
   "metadata": {},
   "source": [
    "\n",
    "function ClickConnect(){ console.log(\"Working\"); document.querySelector(\"colab-toolbar-button\").click() }setInterval(ClickConnect,60000)"
   ]
  },
  {
   "cell_type": "code",
   "execution_count": 57,
   "metadata": {},
   "outputs": [],
   "source": [
    "import gdown\n",
    "import os\n",
    "from sklearn.preprocessing import StandardScaler, FunctionTransformer\n",
    "import matplotlib.pyplot as plt\n",
    "import numpy as np\n",
    "import wandb\n",
    "import pandas as pd\n",
    "from sklearn.neural_network import MLPRegressor\n",
    "from sklearn.pipeline import Pipeline\n",
    "from typing import Union\n",
    "import copy\n",
    "import wandb\n",
    "import pickle\n",
    "import os\n",
    "import json\n",
    "\n",
    "class WandbLogger:\n",
    "    def __init__(self, project_name:str, entity_name:str, model_params:dict):\n",
    "        self.run = wandb.init(config=model_params,reinit=True, project=project_name, entity=entity_name)\n",
    "    def log(self, kwargs):\n",
    "        self.run.log(kwargs)\n",
    "    def log_artifact(self, name:str, model, metrics_dict):\n",
    "        temp_dir = Path(\"temp/\")\n",
    "        os.makedirs(temp_dir, exist_ok=True)\n",
    "        \n",
    "        pickle.dump(model, open(temp_dir / f\"{name}.pickle\", 'wb'))\n",
    "        json.dump(metrics_dict, open(temp_dir /f\"{name}.json\", 'w'))\n",
    "        self.artifact = wandb.Artifact(name=name, type='model')\n",
    "        self.artifact.add_file(temp_dir /f\"{name}.pickle\")\n",
    "        self.artifact.add_file(temp_dir /f\"{name}.json\")\n",
    "        self.run.log_artifact(self.artifact)\n",
    "\n",
    "\n",
    "class Trainer:\n",
    "    def __init__(self,\n",
    "                 model,\n",
    "                 training_data:pd.DataFrame,\n",
    "                 test_data:pd.DataFrame,\n",
    "                 validation_data:pd.DataFrame,\n",
    "                wandb_logger: WandbLogger):\n",
    "        self.model = copy.deepcopy(model)\n",
    "        self.training_data= training_data\n",
    "        self.test_data=test_data\n",
    "        self.validation_data=validation_data\n",
    "        self.score_training = []\n",
    "        self.score_test = []\n",
    "        self.score_validation = []\n",
    "        self.wandb_logger = wandb_logger\n",
    "    def get_training_info_dict(self, it):\n",
    "        training_info_dict = {\"epochs\": it,\n",
    "                     \"score_training\":self.score_training[-1:][0],\n",
    "                    \"score_test\": self.score_test[-1:][0],\n",
    "                    \"score_validation\": self.score_validation[-1:][0]}\n",
    "        return training_info_dict\n",
    "    def init_training(self, epochs, features, target, save_every=10, print_every=10):\n",
    "        threshold_val =-0.1\n",
    "        \n",
    "        for it in range(epochs):\n",
    "            self.model.fit(self.training_data[features], self.training_data[target].values.ravel())\n",
    "            if it%save_every==0:\n",
    "                self.score_training.append(self.model.score(self.training_data[features],self.training_data[target]))\n",
    "                self.score_test.append(self.model.score(self.test_data[features],self.test_data[target]))\n",
    "                self.score_validation.append(self.model.score(self.validation_data[features],self.validation_data[target]))\n",
    "            if it%print_every==0:\n",
    "                training_info_dict = self.get_training_info_dict(it=it)\n",
    "                print(training_info_dict)\n",
    "                self.wandb_logger.log(training_info_dict)\n",
    "\n",
    "            if (self.score_validation[-1:][0] > threshold_val) | (epochs==(it+1)):\n",
    "                training_info_dict = self.get_training_info_dict(it=it)\n",
    "                self.wandb_logger.log(training_info_dict)\n",
    "                print(\"Saved model\")\n",
    "                self.wandb_logger.log_artifact(model=copy.deepcopy(self.model), name=\"NeuralNetwork\", metrics_dict=training_info_dict)\n",
    "                self.best_model = copy.deepcopy(self.model)\n",
    "                threshold_val = self.score_validation[-1:][0]\n",
    "def load_model_from_artifact(entity, project, model_name, model_version, model_format):\n",
    "    run = wandb.init(entity=entity, project=project)\n",
    "    artifact = run.use_artifact(f\"{entity}/{project}/{model_name}:{model_version}\", type='model')\n",
    "    artifact_dir = artifact.download()\n",
    "    file = open(artifact_dir + f\"/{model_name}{model_format}\" ,'rb')\n",
    "    model = pickle.load(file)\n",
    "    return model\n",
    "        \n",
    "def download_training_data(id_file, output_folder, output_name):\n",
    "    url = f\"https://drive.google.com/uc?id={id_file}\"\n",
    "    os.makedirs(output_folder, exist_ok=True)\n",
    "    gdown.download(url, output_folder + output_name, quiet=False)\n",
    "    \n",
    "def score_predictions(model, df_training, df_validation, df_validation_unseen, columns_features, columns_targets):\n",
    "    training_score = model.score(df_training[columns_features], df_training[columns_target])\n",
    "    validation_score = model.score(df_validation[columns_features], df_validation[columns_target])\n",
    "    validation_unseen_score = model.score(df_validation_unseen[columns_features], df_validation_unseen[columns_target])\n",
    "    return training_score, validation_score, validation_unseen_score\n",
    "def load_data(input_folder, input_name):\n",
    "    df = pd.read_feather(input_folder + input_name)\n",
    "    df[\"target_5_multiplied\"] = df[\"target_5\"]*1000\n",
    "    # training, test, validation\n",
    "    return df[df.type==\"training\"], df[df.type==\"validation\"], df[df.type==\"validation_unseen\"]\n",
    "    "
   ]
  },
  {
   "cell_type": "code",
   "execution_count": 70,
   "metadata": {},
   "outputs": [],
   "source": [
    "file, folder = \"training_all_crypto.feather\", \"temp/\"\n",
    "project_name = \"run4\"\n",
    "entity_name = \"pab_lo4\"\n",
    "load_previous_model = True\n",
    "load_model_config = {\"entity\": \"pab_lo4\", \"project\": \"run4\", \"model_name\": \"NeuralNetwork\", \"model_version\": \"v29\", \"model_format\": \".pickle\"}"
   ]
  },
  {
   "cell_type": "code",
   "execution_count": 45,
   "metadata": {},
   "outputs": [
    {
     "name": "stderr",
     "output_type": "stream",
     "text": [
      "Downloading...\n",
      "From: https://drive.google.com/uc?id=15VkzDb8sfWTDOl44ODmkNS20KEszWUb-\n",
      "To: /Users/pablocanadapereira/Desktop/Projects/trading/trading/notebooks/temp/training_all_crypto.feather\n",
      "100%|██████████| 268M/268M [00:08<00:00, 32.9MB/s] \n"
     ]
    }
   ],
   "source": [
    "download_training_data(\"15VkzDb8sfWTDOl44ODmkNS20KEszWUb-\", folder, file)"
   ]
  },
  {
   "cell_type": "code",
   "execution_count": 46,
   "metadata": {},
   "outputs": [],
   "source": [
    "df_training, df_test, df_validation = load_data(folder, file)"
   ]
  },
  {
   "cell_type": "code",
   "execution_count": 47,
   "metadata": {},
   "outputs": [],
   "source": [
    "columns_features = [col for col in df_training.columns if col.startswith(\"feature_domain\")]\n",
    "columns_target = [col for col in df_training.columns if col.startswith(\"target\")]\n",
    "columns_target = [\"target_5_multiplied\"]"
   ]
  },
  {
   "cell_type": "code",
   "execution_count": 48,
   "metadata": {},
   "outputs": [],
   "source": [
    "hidden_layer_sizes_list = [(10,10)]#, (20,20), (10,10,10)]"
   ]
  },
  {
   "cell_type": "code",
   "execution_count": null,
   "metadata": {},
   "outputs": [
    {
     "data": {
      "text/html": [
       "Finishing last run (ID:2t6wxgui) before initializing another..."
      ],
      "text/plain": [
       "<IPython.core.display.HTML object>"
      ]
     },
     "metadata": {},
     "output_type": "display_data"
    },
    {
     "data": {
      "text/html": [
       "<br/>Waiting for W&B process to finish, PID 1925... <strong style=\"color:green\">(success).</strong>"
      ],
      "text/plain": [
       "<IPython.core.display.HTML object>"
      ]
     },
     "metadata": {},
     "output_type": "display_data"
    },
    {
     "data": {
      "application/vnd.jupyter.widget-view+json": {
       "model_id": "",
       "version_major": 2,
       "version_minor": 0
      },
      "text/plain": [
       "VBox(children=(Label(value=' 0.44MB of 0.44MB uploaded (0.00MB deduped)\\r'), FloatProgress(value=1.0, max=1.0)…"
      ]
     },
     "metadata": {},
     "output_type": "display_data"
    },
    {
     "data": {
      "text/html": [
       "<style>\n",
       "    table.wandb td:nth-child(1) { padding: 0 10px; text-align: right }\n",
       "    .wandb-row { display: flex; flex-direction: row; flex-wrap: wrap; width: 100% }\n",
       "    .wandb-col { display: flex; flex-direction: column; flex-basis: 100%; flex: 1; padding: 10px; }\n",
       "    </style>\n",
       "<div class=\"wandb-row\"><div class=\"wandb-col\">\n",
       "<h3>Run history:</h3><br/><table class=\"wandb\"><tr><td>epochs</td><td>▁▁▁▂▂▂▂▂▂▂▂▂▂▃▃▃▃▃▄▄▄▄▄▅▅▅▅▆▆▆▇▇▇▇██</td></tr><tr><td>score_test</td><td>▄▄▄▄▄▄▄▄▄▄▄▄▃▄▄▁▁▄▃▇█▄▅▆▆▆▇▆▆▇▇▆▆█▆▇</td></tr><tr><td>score_training</td><td>▃▃▃▃▃▃▃▂▃▃▃▃▁▂▃▂▁▃▄▆▆▄▄▄▇▃▄▅▅▆▄▇▆▄██</td></tr><tr><td>score_validation</td><td>▅▅▄▅▅▅▅▆▆▆▆▆▆▆▆▇▇▄▆██▄▁▁▅▁▁▁▂▂▂▃▃▃▂▂</td></tr></table><br/></div><div class=\"wandb-col\">\n",
       "<h3>Run summary:</h3><br/><table class=\"wandb\"><tr><td>epochs</td><td>499</td></tr><tr><td>score_test</td><td>-0.01058</td></tr><tr><td>score_training</td><td>0.04775</td></tr><tr><td>score_validation</td><td>-0.00325</td></tr></table>\n",
       "</div></div>\n",
       "Synced 5 W&B file(s), 0 media file(s), 22 artifact file(s) and 0 other file(s)\n",
       "<br/>Synced <strong style=\"color:#cdcd00\">mild-firefly-30</strong>: <a href=\"https://wandb.ai/pab_lo4/run4/runs/2t6wxgui\" target=\"_blank\">https://wandb.ai/pab_lo4/run4/runs/2t6wxgui</a><br/>\n",
       "Find logs at: <code>./wandb/run-20211026_201421-2t6wxgui/logs</code><br/>\n"
      ],
      "text/plain": [
       "<IPython.core.display.HTML object>"
      ]
     },
     "metadata": {},
     "output_type": "display_data"
    },
    {
     "data": {
      "text/html": [
       "Successfully finished last run (ID:2t6wxgui). Initializing new run:<br/>"
      ],
      "text/plain": [
       "<IPython.core.display.HTML object>"
      ]
     },
     "metadata": {},
     "output_type": "display_data"
    },
    {
     "data": {
      "text/html": [
       "\n",
       "                    Syncing run <strong><a href=\"https://wandb.ai/pab_lo4/run4/runs/1xz4qiku\" target=\"_blank\">mild-thunder-31</a></strong> to <a href=\"https://wandb.ai/pab_lo4/run4\" target=\"_blank\">Weights & Biases</a> (<a href=\"https://docs.wandb.com/integrations/jupyter.html\" target=\"_blank\">docs</a>).<br/>\n",
       "\n",
       "                "
      ],
      "text/plain": [
       "<IPython.core.display.HTML object>"
      ]
     },
     "metadata": {},
     "output_type": "display_data"
    },
    {
     "name": "stdout",
     "output_type": "stream",
     "text": [
      "loaded model:  Pipeline(steps=[('std_scaler', StandardScaler()),\n",
      "                ('to_float16',\n",
      "                 FunctionTransformer(func=<class 'numpy.float16'>)),\n",
      "                ('nn',\n",
      "                 MLPRegressor(hidden_layer_sizes=(10, 10), max_iter=5,\n",
      "                              random_state=1, tol=1e-08, warm_start=True))])\n"
     ]
    },
    {
     "data": {
      "text/html": [
       "Finishing last run (ID:1xz4qiku) before initializing another..."
      ],
      "text/plain": [
       "<IPython.core.display.HTML object>"
      ]
     },
     "metadata": {},
     "output_type": "display_data"
    },
    {
     "data": {
      "text/html": [
       "<br/>Waiting for W&B process to finish, PID 2176... <strong style=\"color:green\">(success).</strong>"
      ],
      "text/plain": [
       "<IPython.core.display.HTML object>"
      ]
     },
     "metadata": {},
     "output_type": "display_data"
    },
    {
     "data": {
      "application/vnd.jupyter.widget-view+json": {
       "model_id": "",
       "version_major": 2,
       "version_minor": 0
      },
      "text/plain": [
       "VBox(children=(Label(value=' 0.00MB of 0.00MB uploaded (0.00MB deduped)\\r'), FloatProgress(value=1.0, max=1.0)…"
      ]
     },
     "metadata": {},
     "output_type": "display_data"
    },
    {
     "data": {
      "text/html": [
       "<style>\n",
       "    table.wandb td:nth-child(1) { padding: 0 10px; text-align: right }\n",
       "    .wandb-row { display: flex; flex-direction: row; flex-wrap: wrap; width: 100% }\n",
       "    .wandb-col { display: flex; flex-direction: column; flex-basis: 100%; flex: 1; padding: 10px; }\n",
       "    </style>\n",
       "<div class=\"wandb-row\"><div class=\"wandb-col\">\n",
       "</div><div class=\"wandb-col\">\n",
       "</div></div>\n",
       "Synced 5 W&B file(s), 0 media file(s), 0 artifact file(s) and 0 other file(s)\n",
       "<br/>Synced <strong style=\"color:#cdcd00\">mild-thunder-31</strong>: <a href=\"https://wandb.ai/pab_lo4/run4/runs/1xz4qiku\" target=\"_blank\">https://wandb.ai/pab_lo4/run4/runs/1xz4qiku</a><br/>\n",
       "Find logs at: <code>./wandb/run-20211026_203647-1xz4qiku/logs</code><br/>\n"
      ],
      "text/plain": [
       "<IPython.core.display.HTML object>"
      ]
     },
     "metadata": {},
     "output_type": "display_data"
    },
    {
     "data": {
      "text/html": [
       "Successfully finished last run (ID:1xz4qiku). Initializing new run:<br/>"
      ],
      "text/plain": [
       "<IPython.core.display.HTML object>"
      ]
     },
     "metadata": {},
     "output_type": "display_data"
    },
    {
     "data": {
      "text/html": [
       "\n",
       "                    Syncing run <strong><a href=\"https://wandb.ai/pab_lo4/run4/runs/n6lomt3r\" target=\"_blank\">faithful-spaceship-32</a></strong> to <a href=\"https://wandb.ai/pab_lo4/run4\" target=\"_blank\">Weights & Biases</a> (<a href=\"https://docs.wandb.com/integrations/jupyter.html\" target=\"_blank\">docs</a>).<br/>\n",
       "\n",
       "                "
      ],
      "text/plain": [
       "<IPython.core.display.HTML object>"
      ]
     },
     "metadata": {},
     "output_type": "display_data"
    },
    {
     "name": "stdout",
     "output_type": "stream",
     "text": [
      "{'epochs': 0, 'score_training': 0.04793641828052708, 'score_test': -0.009871208899012274, 'score_validation': -0.0035503067356470464}\n",
      "Saved model\n",
      "Saved model\n",
      "{'epochs': 20, 'score_training': 0.04768493860418943, 'score_test': -0.010802790833911002, 'score_validation': -0.0048026324115195695}\n",
      "{'epochs': 40, 'score_training': 0.047500893485344364, 'score_test': -0.01062570945223884, 'score_validation': -0.004868744078545317}\n"
     ]
    }
   ],
   "source": [
    "if load_previous_model:\n",
    "    pipe = load_model_from_artifact(**load_model_config)\n",
    "    print(\"loaded model: \", pipe)\n",
    "else:\n",
    "    for hidden_layer_sizes in hidden_layer_sizes_list:\n",
    "        nn = MLPRegressor(\n",
    "            hidden_layer_sizes=hidden_layer_sizes,\n",
    "            learning_rate_init=0.001,\n",
    "            warm_start=True,\n",
    "            random_state=1,\n",
    "            max_iter=5,\n",
    "            verbose=False,\n",
    "            tol=1e-8)\n",
    "        pipe = Pipeline([(\"std_scaler\", StandardScaler()),\n",
    "                         (\"to_float16\",FunctionTransformer(np.float16)),\n",
    "                         (\"nn\", nn)]\n",
    "                       )\n",
    "try:\n",
    "    wandb_logger = WandbLogger(project_name=project_name, entity_name=entity_name, model_params=pipe[2].get_params())\n",
    "except:   \n",
    "    wandb_logger = WandbLogger(project_name=project_name, entity_name=entity_name, model_params=pipe[2].get_params())\n",
    "trainer = Trainer(pipe, df_training, df_test, df_validation, wandb_logger)\n",
    "\n",
    "trainer.init_training(500, columns_features, columns_target, 5, 20)"
   ]
  },
  {
   "cell_type": "code",
   "execution_count": null,
   "metadata": {},
   "outputs": [],
   "source": []
  },
  {
   "cell_type": "code",
   "execution_count": null,
   "metadata": {},
   "outputs": [],
   "source": []
  }
 ],
 "metadata": {
  "kernelspec": {
   "display_name": "Python 3",
   "language": "python",
   "name": "python3"
  },
  "language_info": {
   "codemirror_mode": {
    "name": "ipython",
    "version": 3
   },
   "file_extension": ".py",
   "mimetype": "text/x-python",
   "name": "python",
   "nbconvert_exporter": "python",
   "pygments_lexer": "ipython3",
   "version": "3.8.5"
  }
 },
 "nbformat": 4,
 "nbformat_minor": 4
}
