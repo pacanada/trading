{
 "cells": [
  {
   "cell_type": "markdown",
   "metadata": {},
   "source": [
    "# Description\n",
    "The idea is to use previous observation to identify trends, patterns (maybe shape of indicators) when users want to sell or buy"
   ]
  },
  {
   "cell_type": "code",
   "execution_count": 1,
   "metadata": {},
   "outputs": [],
   "source": [
    "import pandas as pd\n",
    "import seaborn as sns\n",
    "import numpy as np\n",
    "import matplotlib.pyplot as plt\n",
    "import torch"
   ]
  },
  {
   "cell_type": "code",
   "execution_count": 2,
   "metadata": {},
   "outputs": [],
   "source": [
    "\n",
    "\n",
    "df_all = pd.read_feather(\"../data/training/training_all_crypto_14_12_2021.feather\")\n",
    "df = df_all[df_all.pair_name==\"xlmeur\"].copy()"
   ]
  },
  {
   "cell_type": "code",
   "execution_count": 3,
   "metadata": {},
   "outputs": [],
   "source": [
    "features = [col for col in df.columns if col.startswith(\"feature_domain\")]\n",
    "targets = [col for col in df.columns if col.startswith(\"target\")]"
   ]
  },
  {
   "cell_type": "code",
   "execution_count": 4,
   "metadata": {},
   "outputs": [
    {
     "data": {
      "text/plain": [
       "['target_1',\n",
       " 'target_2',\n",
       " 'target_5',\n",
       " 'target_10',\n",
       " 'target_20',\n",
       " 'target_50',\n",
       " 'target_80',\n",
       " 'target_100']"
      ]
     },
     "execution_count": 4,
     "metadata": {},
     "output_type": "execute_result"
    }
   ],
   "source": [
    "targets"
   ]
  },
  {
   "cell_type": "markdown",
   "metadata": {},
   "source": [
    "The idea is to create a datframe with sequences that can be converted into image"
   ]
  },
  {
   "cell_type": "code",
   "execution_count": 5,
   "metadata": {},
   "outputs": [
    {
     "data": {
      "text/plain": [
       "(38, 8)"
      ]
     },
     "execution_count": 5,
     "metadata": {},
     "output_type": "execute_result"
    }
   ],
   "source": [
    "len(features), len(targets)"
   ]
  },
  {
   "cell_type": "code",
   "execution_count": 6,
   "metadata": {},
   "outputs": [],
   "source": [
    "def create_sequence(X, y, sequence_length=10):\n",
    "    m, n = X.shape\n",
    "    #y_shape = 1 if len(y.shape) ==1 else y.shape[1]\n",
    "    targets = np.zeros((m-sequence_length, y.shape[1]))\n",
    "    out = np.zeros((m-sequence_length, sequence_length, n))\n",
    "    for i in range(m-sequence_length):        \n",
    "        out[i, :,:] = X[i:i+sequence_length, : ] \n",
    "        targets[i, :] = y[i+sequence_length,:]\n",
    "        \n",
    "        \n",
    "    return out, targets"
   ]
  },
  {
   "cell_type": "code",
   "execution_count": 7,
   "metadata": {},
   "outputs": [],
   "source": [
    "# we have to use std-scalar!!\n",
    "X_out, target = create_sequence(X=df[features].values, y=df[targets].values, sequence_length=10)"
   ]
  },
  {
   "cell_type": "code",
   "execution_count": 8,
   "metadata": {},
   "outputs": [
    {
     "name": "stdout",
     "output_type": "stream",
     "text": [
      "[ 0.00096785  0.0010965   0.0010965   0.00254612  0.00039334 -0.01289099\n",
      " -0.02331532 -0.02700603]\n"
     ]
    },
    {
     "data": {
      "text/plain": [
       "<matplotlib.image.AxesImage at 0x7f8df067dca0>"
      ]
     },
     "execution_count": 8,
     "metadata": {},
     "output_type": "execute_result"
    },
    {
     "data": {
      "image/png": "[encoded data removed]",
      "text/plain": [
       "<Figure size 432x288 with 1 Axes>"
      ]
     },
     "metadata": {
      "needs_background": "light"
     },
     "output_type": "display_data"
    }
   ],
   "source": [
    "print(target[1])\n",
    "plt.imshow(X_out[1,:,:])"
   ]
  },
  {
   "cell_type": "code",
   "execution_count": 9,
   "metadata": {},
   "outputs": [],
   "source": [
    "class NN(torch.nn.Module):\n",
    "    def __init__(self, dim_in, dim_out):\n",
    "        super(NN, self).__init__()\n",
    "        self.l1 = torch.nn.Linear(dim_in, 100)\n",
    "        self.l2 = torch.nn.Linear(100, dim_out)\n",
    "    def forward(self, x):\n",
    "        x = torch.nn.functional.relu(self.l1(x))\n",
    "        x = self.l2(x)\n",
    "        return x   \n",
    "        "
   ]
  },
  {
   "cell_type": "code",
   "execution_count": 10,
   "metadata": {},
   "outputs": [],
   "source": [
    "batch_size = 15\n",
    "sequence = 10\n",
    "features = 38\n",
    "targets = 8\n",
    "epochs = 10\n",
    "model = NN(dim_in=10*38, dim_out=8)"
   ]
  },
  {
   "cell_type": "code",
   "execution_count": 11,
   "metadata": {},
   "outputs": [],
   "source": [
    "optim = torch.optim.Adam(params=model.parameters())\n",
    "criterion = torch.nn.MSELoss()"
   ]
  },
  {
   "cell_type": "code",
   "execution_count": null,
   "metadata": {},
   "outputs": [],
   "source": [
    "for n in range(epochs):\n",
    "    print(n)\n",
    "    X = torch.Tensor(X_out[n*batch_size:(n+1)*batch_size, :,:].reshape(batch_size, -1))\n",
    "    y = torch.Tensor(target[n*batch_size:(n+1)*batch_size,:].reshape(batch_size, -1))\n",
    "    #X = torch.Tensor(X_out[n*batch_size:(n+1)*batch_size, :,:])\n",
    "    #y = torch.Tensor(target[n*batch_size:(n+1)*batch_size,:]) \n",
    "    print(X.shape)\n",
    "    optim.zero_grad()\n",
    "    output = model(X)\n",
    "    loss = criterion(output, y)\n",
    "    loss.backward()\n",
    "    optim.step()\n",
    "    \n",
    "    \n",
    "    "
   ]
  },
  {
   "cell_type": "code",
   "execution_count": 2,
   "metadata": {},
   "outputs": [
    {
     "ename": "NameError",
     "evalue": "name 'X' is not defined",
     "output_type": "error",
     "traceback": [
      "\u001b[0;31m---------------------------------------------------------------------------\u001b[0m",
      "\u001b[0;31mNameError\u001b[0m                                 Traceback (most recent call last)",
      "\u001b[0;32m<ipython-input-2-b5fec669aca1>\u001b[0m in \u001b[0;36m<module>\u001b[0;34m\u001b[0m\n\u001b[0;32m----> 1\u001b[0;31m \u001b[0mX\u001b[0m\u001b[0;34m\u001b[0m\u001b[0;34m\u001b[0m\u001b[0m\n\u001b[0m",
      "\u001b[0;31mNameError\u001b[0m: name 'X' is not defined"
     ]
    }
   ],
   "source": [
    "X"
   ]
  },
  {
   "cell_type": "code",
   "execution_count": null,
   "metadata": {},
   "outputs": [],
   "source": []
  },
  {
   "cell_type": "code",
   "execution_count": 56,
   "metadata": {},
   "outputs": [
    {
     "data": {
      "text/plain": [
       "(117948, 38)"
      ]
     },
     "execution_count": 56,
     "metadata": {},
     "output_type": "execute_result"
    }
   ],
   "source": [
    "df[features].values[]"
   ]
  },
  {
   "cell_type": "code",
   "execution_count": null,
   "metadata": {},
   "outputs": [],
   "source": []
  },
  {
   "cell_type": "code",
   "execution_count": null,
   "metadata": {},
   "outputs": [],
   "source": []
  },
  {
   "cell_type": "code",
   "execution_count": null,
   "metadata": {},
   "outputs": [],
   "source": []
  },
  {
   "cell_type": "code",
   "execution_count": null,
   "metadata": {},
   "outputs": [],
   "source": []
  },
  {
   "cell_type": "code",
   "execution_count": null,
   "metadata": {},
   "outputs": [],
   "source": []
  },
  {
   "cell_type": "code",
   "execution_count": 21,
   "metadata": {},
   "outputs": [
    {
     "data": {
      "text/plain": [
       "Index(['index', 'Unnamed: 0', 'date', 'time', 'open', 'high', 'low', 'close',\n",
       "       'vwap', 'volume',\n",
       "       ...\n",
       "       'feature_domain_30', 'feature_domain_31', 'feature_domain_32',\n",
       "       'feature_domain_33', 'feature_domain_34', 'feature_domain_35',\n",
       "       'feature_domain_36', 'feature_domain_37', 'type', 'pair_name'],\n",
       "      dtype='object', length=143)"
      ]
     },
     "execution_count": 21,
     "metadata": {},
     "output_type": "execute_result"
    }
   ],
   "source": [
    "df.columns"
   ]
  },
  {
   "cell_type": "code",
   "execution_count": 26,
   "metadata": {},
   "outputs": [
    {
     "data": {
      "text/plain": [
       "<AxesSubplot:xlabel='feature_domain_13', ylabel='Count'>"
      ]
     },
     "execution_count": 26,
     "metadata": {},
     "output_type": "execute_result"
    },
    {
     "data": {
      "image/png": "[encoded data removed]",
      "text/plain": [
       "<Figure size 432x288 with 1 Axes>"
      ]
     },
     "metadata": {
      "needs_background": "light"
     },
     "output_type": "display_data"
    }
   ],
   "source": [
    "sns.histplot(data=df, x=\"feature_domain_13\", hue=\"pair_name\")"
   ]
  },
  {
   "cell_type": "code",
   "execution_count": 32,
   "metadata": {},
   "outputs": [
    {
     "data": {
      "text/plain": [
       "array([0.00073525])"
      ]
     },
     "execution_count": 32,
     "metadata": {},
     "output_type": "execute_result"
    }
   ],
   "source": []
  },
  {
   "cell_type": "code",
   "execution_count": 34,
   "metadata": {},
   "outputs": [
    {
     "name": "stdout",
     "output_type": "stream",
     "text": [
      "feature_domain_0    0.000735\n",
      "dtype: float64\n",
      "feature_domain_1    0.001044\n",
      "dtype: float64\n",
      "feature_domain_2    0.001262\n",
      "dtype: float64\n",
      "feature_domain_3    0.00144\n",
      "dtype: float64\n",
      "feature_domain_4    0.001964\n",
      "dtype: float64\n",
      "feature_domain_5    0.002357\n",
      "dtype: float64\n",
      "feature_domain_6    0.002695\n",
      "dtype: float64\n",
      "feature_domain_7    0.003001\n",
      "dtype: float64\n",
      "feature_domain_8    0.003285\n",
      "dtype: float64\n",
      "feature_domain_9    0.00355\n",
      "dtype: float64\n",
      "feature_domain_10    0.00425\n",
      "dtype: float64\n",
      "feature_domain_11    0.004741\n",
      "dtype: float64\n",
      "feature_domain_12    0.005166\n",
      "dtype: float64\n",
      "feature_domain_13    6.842973\n",
      "dtype: float64\n",
      "           feature_domain_13\n",
      "pair_name                   \n",
      "adaeur             17.074042\n",
      "algoeur            22.214237\n",
      "bateur             29.227444\n",
      "bcheur             23.662634\n",
      "compeur            37.143334\n",
      "etheur             16.844191\n",
      "xdgeur             18.773776\n",
      "xlmeur             21.478258\n",
      "xrpeur             16.405344\n",
      "feature_domain_14    6.18821\n",
      "dtype: float64\n",
      "           feature_domain_14\n",
      "pair_name                   \n",
      "adaeur             13.874314\n",
      "algoeur            17.962152\n",
      "bateur             24.484065\n",
      "bcheur             19.246124\n",
      "compeur            32.055453\n",
      "etheur             13.564597\n",
      "xdgeur             15.128865\n",
      "xlmeur             17.519791\n",
      "xrpeur             13.217983\n",
      "feature_domain_15    5.096946\n",
      "dtype: float64\n",
      "           feature_domain_15\n",
      "pair_name                   \n",
      "adaeur             10.570330\n",
      "algoeur            13.498945\n",
      "bateur             19.112751\n",
      "bcheur             14.525646\n",
      "compeur            25.526210\n",
      "etheur             10.390444\n",
      "xdgeur             11.201910\n",
      "xlmeur             13.373663\n",
      "xrpeur             10.019553\n",
      "feature_domain_16    4.324543\n",
      "dtype: float64\n",
      "           feature_domain_16\n",
      "pair_name                   \n",
      "adaeur              8.796618\n",
      "algoeur            11.131405\n",
      "bateur             15.894645\n",
      "bcheur             12.041899\n",
      "compeur            21.493012\n",
      "etheur              8.675542\n",
      "xdgeur              9.141383\n",
      "xlmeur             11.133667\n",
      "xrpeur              8.319661\n",
      "feature_domain_17    3.549067\n",
      "dtype: float64\n",
      "           feature_domain_17\n",
      "pair_name                   \n",
      "adaeur              7.217710\n",
      "algoeur             9.075155\n",
      "bateur             13.068706\n",
      "bcheur              9.973228\n",
      "compeur            17.656745\n",
      "etheur              7.243788\n",
      "xdgeur              7.454450\n",
      "xlmeur              9.159708\n",
      "xrpeur              6.848262\n",
      "feature_domain_18    2.197756\n",
      "dtype: float64\n",
      "           feature_domain_18\n",
      "pair_name                   \n",
      "adaeur              4.984237\n",
      "algoeur             6.246707\n",
      "bateur              8.911329\n",
      "bcheur              6.991109\n",
      "compeur            11.331469\n",
      "etheur              5.148688\n",
      "xdgeur              5.033477\n",
      "xlmeur              6.383514\n",
      "xrpeur              4.747366\n",
      "feature_domain_19    1.730646\n",
      "dtype: float64\n",
      "           feature_domain_19\n",
      "pair_name                   \n",
      "adaeur              4.086747\n",
      "algoeur             4.971924\n",
      "bateur              7.176038\n",
      "bcheur              5.690325\n",
      "compeur             9.032704\n",
      "etheur              4.290715\n",
      "xdgeur              4.002755\n",
      "xlmeur              5.225979\n",
      "xrpeur              3.846462\n",
      "feature_domain_20    1.459235\n",
      "dtype: float64\n",
      "           feature_domain_20\n",
      "pair_name                   \n",
      "adaeur              3.538498\n",
      "algoeur             4.237106\n",
      "bateur              6.064557\n",
      "bcheur              4.842148\n",
      "compeur             7.713197\n",
      "etheur              3.747833\n",
      "xdgeur              3.371330\n",
      "xlmeur              4.550726\n",
      "xrpeur              3.318332\n",
      "feature_domain_21    2.037384\n",
      "dtype: float64\n",
      "           feature_domain_21\n",
      "pair_name                   \n",
      "adaeur              0.003375\n",
      "algoeur             0.005134\n",
      "bateur              0.003988\n",
      "bcheur              0.981765\n",
      "compeur             0.700821\n",
      "etheur              6.222858\n",
      "xdgeur              0.000595\n",
      "xlmeur              0.000631\n",
      "xrpeur              0.001941\n",
      "feature_domain_22    2.900053\n",
      "dtype: float64\n",
      "           feature_domain_22\n",
      "pair_name                   \n",
      "adaeur              0.004641\n",
      "algoeur             0.006764\n",
      "bateur              0.005558\n",
      "bcheur              1.363040\n",
      "compeur             0.931259\n",
      "etheur              8.855737\n",
      "xdgeur              0.000809\n",
      "xlmeur              0.000913\n",
      "xrpeur              0.002741\n",
      "feature_domain_23    1.442692\n",
      "dtype: float64\n",
      "           feature_domain_23\n",
      "pair_name                   \n",
      "adaeur              0.002495\n",
      "algoeur             0.003909\n",
      "bateur              0.002908\n",
      "bcheur              0.709063\n",
      "compeur             0.531143\n",
      "etheur              4.407307\n",
      "xdgeur              0.000430\n",
      "xlmeur              0.000454\n",
      "xrpeur              0.001393\n",
      "feature_domain_24    2.457741\n",
      "dtype: float64\n",
      "           feature_domain_24\n",
      "pair_name                   \n",
      "adaeur              0.003907\n",
      "algoeur             0.005585\n",
      "bateur              0.004719\n",
      "bcheur              1.143949\n",
      "compeur             0.772979\n",
      "etheur              7.504537\n",
      "xdgeur              0.000668\n",
      "xlmeur              0.000784\n",
      "xrpeur              0.002316\n",
      "feature_domain_25    1.064883\n",
      "dtype: float64\n",
      "           feature_domain_25\n",
      "pair_name                   \n",
      "adaeur              0.001875\n",
      "algoeur             0.003118\n",
      "bateur              0.002167\n",
      "bcheur              0.527091\n",
      "compeur             0.403876\n",
      "etheur              3.253386\n",
      "xdgeur              0.000323\n",
      "xlmeur              0.000341\n",
      "xrpeur              0.001044\n",
      "feature_domain_26    0.000419\n",
      "dtype: float64\n",
      "feature_domain_27    0.000619\n",
      "dtype: float64\n",
      "feature_domain_28    0.00077\n",
      "dtype: float64\n",
      "feature_domain_29    0.001027\n",
      "dtype: float64\n",
      "feature_domain_30    0.001516\n",
      "dtype: float64\n",
      "feature_domain_31    0.002125\n",
      "dtype: float64\n",
      "feature_domain_32    0.002725\n",
      "dtype: float64\n",
      "feature_domain_33    0.003289\n",
      "dtype: float64\n",
      "feature_domain_34    0.004141\n",
      "dtype: float64\n",
      "feature_domain_35    0.005703\n",
      "dtype: float64\n",
      "feature_domain_36    0.007009\n",
      "dtype: float64\n",
      "feature_domain_37    0.008326\n",
      "dtype: float64\n"
     ]
    }
   ],
   "source": [
    "for feature in features:\n",
    "    std = df[[feature, \"pair_name\"]].groupby(\"pair_name\").std().std()\n",
    "    print(std )\n",
    "    if std.values[0]>1:\n",
    "        print(df[[feature, \"pair_name\"]].groupby(\"pair_name\").std())"
   ]
  }
 ],
 "metadata": {
  "kernelspec": {
   "display_name": "Python 3",
   "language": "python",
   "name": "python3"
  },
  "language_info": {
   "codemirror_mode": {
    "name": "ipython",
    "version": 3
   },
   "file_extension": ".py",
   "mimetype": "text/x-python",
   "name": "python",
   "nbconvert_exporter": "python",
   "pygments_lexer": "ipython3",
   "version": "3.8.5"
  }
 },
 "nbformat": 4,
 "nbformat_minor": 4
}
