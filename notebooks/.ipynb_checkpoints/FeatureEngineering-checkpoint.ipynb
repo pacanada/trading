{
 "cells": [
  {
   "cell_type": "code",
   "execution_count": 1,
   "metadata": {},
   "outputs": [],
   "source": [
    "from src.modules.paths import get_project_root\n",
    "import pandas as pd\n",
    "from itertools import permutations"
   ]
  },
  {
   "cell_type": "code",
   "execution_count": 40,
   "metadata": {},
   "outputs": [],
   "source": [
    "df = pd.read_csv(get_project_root() / \"data\" / \"historical\" / \"xlmeur.csv\")"
   ]
  },
  {
   "cell_type": "code",
   "execution_count": 3,
   "metadata": {},
   "outputs": [],
   "source": [
    "base_columns = [\"open\", \"close\", \"volume\"]"
   ]
  },
  {
   "cell_type": "code",
   "execution_count": 4,
   "metadata": {},
   "outputs": [],
   "source": [
    "operations = [\"sum\", \"substract\", \"divide\", \"multiply\"]"
   ]
  },
  {
   "cell_type": "code",
   "execution_count": 41,
   "metadata": {},
   "outputs": [],
   "source": [
    "list_permutations_columns = list(permutations(base_columns, 2))"
   ]
  },
  {
   "cell_type": "code",
   "execution_count": 6,
   "metadata": {},
   "outputs": [
    {
     "data": {
      "text/plain": [
       "[('open', 'close'),\n",
       " ('open', 'volume'),\n",
       " ('close', 'open'),\n",
       " ('close', 'volume'),\n",
       " ('volume', 'open'),\n",
       " ('volume', 'close')]"
      ]
     },
     "execution_count": 6,
     "metadata": {},
     "output_type": "execute_result"
    }
   ],
   "source": [
    "list_permutations_columns"
   ]
  },
  {
   "cell_type": "code",
   "execution_count": 395,
   "metadata": {},
   "outputs": [],
   "source": [
    "import numpy as np\n",
    "from sklearn.model_selection import train_test_split\n",
    "\n",
    "def perform_operation(df, columns, operation):\n",
    "    df = df.copy()\n",
    "    if operation==\"sum\":\n",
    "        out = df[columns[0]] + df[columns[1]]\n",
    "    elif operation==\"substract\":\n",
    "        out = df[columns[0]] - df[columns[1]]\n",
    "    elif operation==\"divide\":\n",
    "        out = df[columns[0]] / df[columns[1]]\n",
    "    elif operation==\"multiply\":\n",
    "        out = df[columns[0]] * df[columns[1]]\n",
    "    return out\n",
    "\n",
    "def fill_na(df):\n",
    "    df = df.copy()\n",
    "    df.replace([np.inf, -np.inf], np.nan, inplace=True)\n",
    "    return df.fillna(0)\n",
    "\n",
    "def generate_features(df):\n",
    "    cont = 0\n",
    "    list_feature_recipe = []\n",
    "    base_columns = [\"open\", \"close\", \"volume\"]\n",
    "    operations = [\"sum\", \"substract\", \"divide\", \"multiply\"]\n",
    "    list_permutations_columns = list(permutations(base_columns, 2))\n",
    "    # First level\n",
    "    for columns in list_permutations_columns:\n",
    "        for operation in operations:\n",
    "            df[f\"feature_{cont}\"] = perform_operation(df, columns, operation)\n",
    "            list_feature_recipe.append((cont, columns ,operation))\n",
    "            cont +=1\n",
    "    # second level\n",
    "    #list_permutations_second_columns = list(permutations([col for col in df.columns if col.startswith(\"feature\")],2))\n",
    "    #for columns in list_permutations_second_columns:\n",
    "    #    for operation in operations:\n",
    "    #        #print(cont, columns, operations)\n",
    "    #        df[f\"feature_{cont}\"] = perform_operation(df, columns, operation)\n",
    "    #        cont +=1\n",
    "                                       \n",
    "    return df, list_feature_recipe\n",
    "\n",
    "def to_float32(df):\n",
    "    df = df.copy()\n",
    "    feature_columns = [col for col in df.columns if col.startswith(\"feature\")]\n",
    "    df[feature_columns] = df[feature_columns].astype(\"float32\")\n",
    "    return df\n",
    "\n",
    "def add_target(df):\n",
    "    df[\"target_1\"] = df[\"open\"].pct_change(1)\n",
    "    df[\"target_2\"] = df[\"open\"].pct_change(2)\n",
    "    df[\"target_5\"] = df[\"open\"].pct_change(5)\n",
    "    return df\n",
    "\n",
    "def pipeline():\n",
    "    df = pd.read_csv(get_project_root() / \"data\" / \"historical\" / \"xlmeur.csv\")\n",
    "    df, list_feature_recipe = generate_features(df)\n",
    "    df = fill_na(df)\n",
    "    df = to_float32(df)\n",
    "    df = add_target(df)\n",
    "    return df, list_feature_recipe\n",
    "    \n",
    "def get_training_df(df):\n",
    "    return df.dropna()\n",
    "\n",
    "def get_df_info(run_info):\n",
    "    # process run_info\n",
    "    scores = [score for (score,_,_) in run_info]\n",
    "    features = [features for (_,features,_) in run_info]\n",
    "    importance = [importance for (_,_,importance) in run_info]\n",
    "    pass\n",
    "\n",
    "def update_info(run_info, df_info):\n",
    "    scores = [score for (score,_,_) in run_info]\n",
    "    features = [features for (_,features,_) in run_info]\n",
    "    importance = [importance for (_,_,importance) in run_info]\n",
    "    idx = scores.index(max(scores))\n",
    "    df_info[features[idx]] += importance[idx]\n",
    "    \n",
    "    return df_info\n",
    "            \n",
    "def split_train_test(X, y):\n",
    "    \n",
    "    X_train, X_test, y_train, y_test = train_test_split(X, y, test_size=0.33, random_state=42)\n",
    "    return X_train, X_test, y_train, y_test \n",
    "\n",
    "def get_best_columns(df_info, n):\n",
    "    sorted_array=np.array(df_info.T.values).reshape(-1)\n",
    "    df_info.T.iloc[sorted_array.argsort()[-n::]].T.columns\n",
    "    return df_info.T.iloc[sorted_array.argsort()[-n::]].T.columns\n",
    "\n",
    "def compute_RSI_oop(data: pd.DataFrame, column_name:str, column_to_apply: str, interval_type=\"100s\"):\n",
    "    delta = data[column_to_apply].diff(1)\n",
    "    delta.dropna(inplace=True)\n",
    "    positive = delta.copy()\n",
    "    negative = delta.copy()\n",
    "    positive[positive<0] = 0\n",
    "    negative[negative>0] = 0\n",
    "    average_gain = positive.rolling(interval_type).mean()\n",
    "    average_loss = abs(negative.rolling(interval_type).mean())\n",
    "    relative_strength = average_gain /average_loss\n",
    "    RSI = 100.0-(100.0/(1.0+relative_strength))\n",
    "    #data[column_name] = RSI.copy()\n",
    "    return RSI.copy()\n",
    "def compute_MACD_oop(data: pd.DataFrame, column_name:str, column_to_apply: str, min_half_life: str, max_half_life: str, mid_half_life:str):\n",
    "    df = data[column_to_apply].copy()\n",
    "    exp1 = df[column_to_apply].ewm(halflife=min_half_life).mean()\n",
    "    exp2 = df[column_to_apply].ewm(halflife=max_half_life).mean()\n",
    "    macd = exp1-exp2\n",
    "    exp3 = macd.ewm(halflife=mid_half_life).mean()\n",
    "    df[f\"macd\"] = macd\n",
    "    df[f\"signal\"] = exp3\n",
    "    df[column_name] = macd-exp3\n",
    "    #df[\"dummy_sign\"]= df[\"macd_minus_signal\"].apply(lambda x: 1 if x>0 else -1)\n",
    "    #df[f\"macd_minus_signal_diff_{min_half_life}_{max_half_life}_{mid_half_life}\"] = df[\"dummy_sign\"].diff(1)\n",
    "    return df[column_name]\n",
    "\n",
    "def preprocess(df):\n",
    "    ewm_list=[20,40,100]\n",
    "    rsi_list=[200,400,1000,2000]\n",
    "    bb_period = 100\n",
    "    df = df.copy()\n",
    "    df[\"vwap\"] = df[\"vwap\"].replace(0, None)\n",
    "    # compute exponential moving average\n",
    "    df = compute_ewm(df, ewm_list=ewm_list, column_to_apply=\"close\")\n",
    "    # compute macd\n",
    "    df = compute_MACD_oop(df, \"close\", 20,40,100)\n",
    "    df = compute_MACD_oop(df, \"close\", 40,80,200)\n",
    "    df = compute_MACD_oop(df, \"close\", 10,20,50)\n",
    "    # compute bollinger\n",
    "    df = compute_bollinger_bands(df, bb_period, \"close\")\n",
    "    # compute RSI\n",
    "    for rsi in rsi_list:\n",
    "        df =compute_RSI_oop(df,f\"rsi_{rsi}s\", \"close\", interval_type=f\"{rsi}s\")\n",
    "    column_list = df.columns\n",
    "    # get rest for the different features\n",
    "    for feature in column_list[df.columns.str.startswith(\"bb\")|df.columns.str.startswith(\"ewm\")|df.columns.str.startswith(\"close\")|df.columns.str.startswith(\"vwap\")]:\n",
    "        df[f\"{feature}_rest_close\"] = df[feature]-df[\"close\"]\n",
    "    # get percentage with respect to column\n",
    "    column_list = df.columns\n",
    "    pct_apply_columns = column_list[df.columns.str.startswith(\"bb\")|\n",
    "                df.columns.str.startswith(\"macd\") |\n",
    "               df.columns.str.startswith(\"ewm\") |\n",
    "                df.columns.str.startswith(\"close\")|\n",
    "                df.columns.str.startswith(\"vwap\")]\n",
    "    for feature in pct_apply_columns:\n",
    "        df[f\"pct_{feature}\"] = df[feature]/df[\"close\"]\n",
    "    # get rest for the different features\n",
    "    \n",
    "        \n",
    "    # get_target\n",
    "    period_list = [10,30,60,120]\n",
    "    for period in period_list:\n",
    "        df[f\"target_{period}\"] = df[\"close\"].pct_change(freq=f\"{period}T\").shift(-period)\n",
    "    return df\n",
    "\n",
    "\n",
    "def compute_ewm(df, ewm_list, column_to_apply):\n",
    "    df = df.copy()\n",
    "    for period in ewm_list:\n",
    "        df[f\"ewm_{period}\"] = df[column_to_apply].ewm(halflife=period,min_periods=0,adjust=False,ignore_na=False).mean()\n",
    "    return df\n",
    "\n",
    "\n",
    "\n",
    "\n",
    "def domain_features(df, column_to_apply):\n",
    "    # Compute RSI\n",
    "    \n",
    "    # Compute MACD\n",
    "    \n",
    "    # Compute\n",
    "    \n",
    "    pass"
   ]
  },
  {
   "cell_type": "code",
   "execution_count": 75,
   "metadata": {},
   "outputs": [],
   "source": [
    "df, list_feature_recipe = pipeline()"
   ]
  },
  {
   "cell_type": "code",
   "execution_count": 139,
   "metadata": {},
   "outputs": [],
   "source": [
    "from sklearn.ensemble import RandomForestRegressor\n",
    "from sklearn.metrics import r2_score\n",
    "import matplotlib.pyplot as plt\n",
    "import random"
   ]
  },
  {
   "cell_type": "code",
   "execution_count": 341,
   "metadata": {},
   "outputs": [],
   "source": [
    "\n"
   ]
  },
  {
   "cell_type": "code",
   "execution_count": 146,
   "metadata": {},
   "outputs": [],
   "source": [
    "feature_columns = [col for col in df.columns if col.startswith(\"feature\")] \n",
    "target_column=\"target_5\""
   ]
  },
  {
   "cell_type": "markdown",
   "metadata": {},
   "source": [
    "What is the idea? Have 2000 or so features, select random set of lets say 100 and save the results of score and the list of features that made it possible"
   ]
  },
  {
   "cell_type": "code",
   "execution_count": 142,
   "metadata": {},
   "outputs": [],
   "source": [
    "df_train = get_training_df(df)"
   ]
  },
  {
   "cell_type": "code",
   "execution_count": 422,
   "metadata": {},
   "outputs": [],
   "source": [
    "rfr = RandomForestRegressor(n_estimators=50, max_depth=5)\n",
    "df_info = pd.DataFrame(0, index=[0],columns=feature_columns)\n",
    "run_info_total = []\n",
    "#weights = [1/len(feature_columns) for col in range(len(feature_columns))]\n",
    "for _ in range(30):\n",
    "    run_info = []\n",
    "    for _ in range(10):\n",
    "        selected_features = random.choices(feature_columns, k=10)#, weights=weights)\n",
    "        X_train, X_test, y_train, y_test = split_train_test(df_train[selected_features], df_train[target_column])\n",
    "        rfr.fit(X_train, y_train)\n",
    "        run_info.append((rfr.score(X_test, y_test), selected_features, rfr.feature_importances_) )\n",
    "    #weights = get_next_weights(run_info)\n",
    "    \n",
    "    df_info = update_info(run_info, df_info)\n",
    "    run_info_total.append(run_info)\n",
    "    #df_info = get_df_info(run_info)"
   ]
  },
  {
   "cell_type": "code",
   "execution_count": 350,
   "metadata": {},
   "outputs": [
    {
     "data": {
      "text/plain": [
       "array([2.77104131, 3.21747528, 2.68340275, 1.97722665, 0.52328356,\n",
       "       0.39804703, 0.06702211, 0.25841268, 2.83539947, 4.10607321,\n",
       "       2.63370452, 3.18519726, 0.4263788 , 0.22493871, 0.3475981 ,\n",
       "       0.44389006, 0.20346054, 0.36252972, 0.63058417, 0.32875507,\n",
       "       0.28172429, 0.35324824, 0.41639512, 0.2288325 ])"
      ]
     },
     "execution_count": 350,
     "metadata": {},
     "output_type": "execute_result"
    }
   ],
   "source": [
    "np.array(df_info.T.values).reshape(-1)"
   ]
  },
  {
   "cell_type": "code",
   "execution_count": 349,
   "metadata": {},
   "outputs": [
    {
     "data": {
      "text/html": [
       "<div>\n",
       "<style scoped>\n",
       "    .dataframe tbody tr th:only-of-type {\n",
       "        vertical-align: middle;\n",
       "    }\n",
       "\n",
       "    .dataframe tbody tr th {\n",
       "        vertical-align: top;\n",
       "    }\n",
       "\n",
       "    .dataframe thead th {\n",
       "        text-align: right;\n",
       "    }\n",
       "</style>\n",
       "<table border=\"1\" class=\"dataframe\">\n",
       "  <thead>\n",
       "    <tr style=\"text-align: right;\">\n",
       "      <th></th>\n",
       "      <th>0</th>\n",
       "    </tr>\n",
       "  </thead>\n",
       "  <tbody>\n",
       "    <tr>\n",
       "      <th>feature_0</th>\n",
       "      <td>2.771041</td>\n",
       "    </tr>\n",
       "    <tr>\n",
       "      <th>feature_1</th>\n",
       "      <td>3.217475</td>\n",
       "    </tr>\n",
       "    <tr>\n",
       "      <th>feature_2</th>\n",
       "      <td>2.683403</td>\n",
       "    </tr>\n",
       "    <tr>\n",
       "      <th>feature_3</th>\n",
       "      <td>1.977227</td>\n",
       "    </tr>\n",
       "    <tr>\n",
       "      <th>feature_4</th>\n",
       "      <td>0.523284</td>\n",
       "    </tr>\n",
       "    <tr>\n",
       "      <th>feature_5</th>\n",
       "      <td>0.398047</td>\n",
       "    </tr>\n",
       "    <tr>\n",
       "      <th>feature_6</th>\n",
       "      <td>0.067022</td>\n",
       "    </tr>\n",
       "    <tr>\n",
       "      <th>feature_7</th>\n",
       "      <td>0.258413</td>\n",
       "    </tr>\n",
       "    <tr>\n",
       "      <th>feature_8</th>\n",
       "      <td>2.835399</td>\n",
       "    </tr>\n",
       "    <tr>\n",
       "      <th>feature_9</th>\n",
       "      <td>4.106073</td>\n",
       "    </tr>\n",
       "    <tr>\n",
       "      <th>feature_10</th>\n",
       "      <td>2.633705</td>\n",
       "    </tr>\n",
       "    <tr>\n",
       "      <th>feature_11</th>\n",
       "      <td>3.185197</td>\n",
       "    </tr>\n",
       "    <tr>\n",
       "      <th>feature_12</th>\n",
       "      <td>0.426379</td>\n",
       "    </tr>\n",
       "    <tr>\n",
       "      <th>feature_13</th>\n",
       "      <td>0.224939</td>\n",
       "    </tr>\n",
       "    <tr>\n",
       "      <th>feature_14</th>\n",
       "      <td>0.347598</td>\n",
       "    </tr>\n",
       "    <tr>\n",
       "      <th>feature_15</th>\n",
       "      <td>0.443890</td>\n",
       "    </tr>\n",
       "    <tr>\n",
       "      <th>feature_16</th>\n",
       "      <td>0.203461</td>\n",
       "    </tr>\n",
       "    <tr>\n",
       "      <th>feature_17</th>\n",
       "      <td>0.362530</td>\n",
       "    </tr>\n",
       "    <tr>\n",
       "      <th>feature_18</th>\n",
       "      <td>0.630584</td>\n",
       "    </tr>\n",
       "    <tr>\n",
       "      <th>feature_19</th>\n",
       "      <td>0.328755</td>\n",
       "    </tr>\n",
       "    <tr>\n",
       "      <th>feature_20</th>\n",
       "      <td>0.281724</td>\n",
       "    </tr>\n",
       "    <tr>\n",
       "      <th>feature_21</th>\n",
       "      <td>0.353248</td>\n",
       "    </tr>\n",
       "    <tr>\n",
       "      <th>feature_22</th>\n",
       "      <td>0.416395</td>\n",
       "    </tr>\n",
       "    <tr>\n",
       "      <th>feature_23</th>\n",
       "      <td>0.228833</td>\n",
       "    </tr>\n",
       "  </tbody>\n",
       "</table>\n",
       "</div>"
      ],
      "text/plain": [
       "                   0\n",
       "feature_0   2.771041\n",
       "feature_1   3.217475\n",
       "feature_2   2.683403\n",
       "feature_3   1.977227\n",
       "feature_4   0.523284\n",
       "feature_5   0.398047\n",
       "feature_6   0.067022\n",
       "feature_7   0.258413\n",
       "feature_8   2.835399\n",
       "feature_9   4.106073\n",
       "feature_10  2.633705\n",
       "feature_11  3.185197\n",
       "feature_12  0.426379\n",
       "feature_13  0.224939\n",
       "feature_14  0.347598\n",
       "feature_15  0.443890\n",
       "feature_16  0.203461\n",
       "feature_17  0.362530\n",
       "feature_18  0.630584\n",
       "feature_19  0.328755\n",
       "feature_20  0.281724\n",
       "feature_21  0.353248\n",
       "feature_22  0.416395\n",
       "feature_23  0.228833"
      ]
     },
     "execution_count": 349,
     "metadata": {},
     "output_type": "execute_result"
    }
   ],
   "source": [
    "df_info.T"
   ]
  },
  {
   "cell_type": "code",
   "execution_count": 424,
   "metadata": {},
   "outputs": [
    {
     "data": {
      "text/plain": [
       "Index(['feature_15', 'feature_17', 'feature_10', 'feature_11', 'feature_3',\n",
       "       'feature_8', 'feature_1', 'feature_0', 'feature_2', 'feature_9'],\n",
       "      dtype='object')"
      ]
     },
     "execution_count": 424,
     "metadata": {},
     "output_type": "execute_result"
    }
   ],
   "source": [
    "get_best_columns(df_info,10)"
   ]
  },
  {
   "cell_type": "code",
   "execution_count": 425,
   "metadata": {},
   "outputs": [],
   "source": [
    "chosen_columns =['feature_15', 'feature_17', 'feature_10', 'feature_11', 'feature_3',\n",
    "       'feature_8', 'feature_1', 'feature_0', 'feature_2', 'feature_9']"
   ]
  },
  {
   "cell_type": "code",
   "execution_count": 432,
   "metadata": {},
   "outputs": [],
   "source": [
    "rfr = RandomForestRegressor(n_estimators=300, max_depth=10)"
   ]
  },
  {
   "cell_type": "code",
   "execution_count": 433,
   "metadata": {},
   "outputs": [
    {
     "data": {
      "text/plain": [
       "RandomForestRegressor(max_depth=10, n_estimators=300)"
      ]
     },
     "execution_count": 433,
     "metadata": {},
     "output_type": "execute_result"
    }
   ],
   "source": [
    "X_train, X_test, y_train, y_test = split_train_test(df_train[feature_columns], df_train[target_column])\n",
    "rfr.fit(X_train, y_train)"
   ]
  },
  {
   "cell_type": "markdown",
   "metadata": {},
   "source": [
    "Conclusions: if we set to a minimum of 5 features, then if we add new features to the final model does not necessarily mean it will perform better. Do not undertsand why"
   ]
  },
  {
   "cell_type": "code",
   "execution_count": 434,
   "metadata": {},
   "outputs": [
    {
     "data": {
      "text/plain": [
       "0.04797540357361785"
      ]
     },
     "execution_count": 434,
     "metadata": {},
     "output_type": "execute_result"
    }
   ],
   "source": [
    "rfr.score(X_test, y_test)"
   ]
  },
  {
   "cell_type": "code",
   "execution_count": 329,
   "metadata": {},
   "outputs": [],
   "source": [
    "y_pred = rfr.predict(X_test)"
   ]
  },
  {
   "cell_type": "code",
   "execution_count": 292,
   "metadata": {},
   "outputs": [
    {
     "data": {
      "text/plain": [
       "array([[0],\n",
       "       [0]])"
      ]
     },
     "execution_count": 292,
     "metadata": {},
     "output_type": "execute_result"
    }
   ],
   "source": [
    "(np.array(df_info.T.values)).argsort()[:2]"
   ]
  },
  {
   "cell_type": "code",
   "execution_count": 306,
   "metadata": {},
   "outputs": [],
   "source": [
    "sorted_array = np.array(df_info.T.values).reshape(-1)"
   ]
  },
  {
   "cell_type": "code",
   "execution_count": 313,
   "metadata": {},
   "outputs": [
    {
     "data": {
      "text/plain": [
       "array([ 1, 11,  8, 10,  3])"
      ]
     },
     "execution_count": 313,
     "metadata": {},
     "output_type": "execute_result"
    }
   ],
   "source": [
    "sorted_array.argsort()[-5::]"
   ]
  },
  {
   "cell_type": "code",
   "execution_count": 318,
   "metadata": {},
   "outputs": [
    {
     "data": {
      "text/plain": [
       "Index(['feature_1', 'feature_11', 'feature_8', 'feature_10', 'feature_3'], dtype='object')"
      ]
     },
     "execution_count": 318,
     "metadata": {},
     "output_type": "execute_result"
    }
   ],
   "source": [
    "df_info.T.iloc[sorted_array.argsort()[-5::]].T.columns"
   ]
  },
  {
   "cell_type": "code",
   "execution_count": 330,
   "metadata": {},
   "outputs": [],
   "source": [
    "#run_info_total"
   ]
  },
  {
   "cell_type": "code",
   "execution_count": 167,
   "metadata": {},
   "outputs": [],
   "source": [
    "# process run_info\n",
    "scores = [score for (score,_,_) in run_info]\n",
    "features = [features for (_,features,_) in run_info]\n",
    "importance = [importance for (_,_,importance) in run_info]"
   ]
  },
  {
   "cell_type": "code",
   "execution_count": 174,
   "metadata": {},
   "outputs": [
    {
     "data": {
      "text/plain": [
       "[0.0321698486673202,\n",
       " 0.05181579371566536,\n",
       " 0.05048388671007498,\n",
       " 0.0315507817134284,\n",
       " 0.017098640678906873,\n",
       " 0.0389182277192206,\n",
       " 0.026479860550390755,\n",
       " 0.025826796116679818,\n",
       " 0.04404454634221022,\n",
       " 0.01968281618071943,\n",
       " 0.012637330856720919,\n",
       " 0.030503513643136193,\n",
       " 0.016568799374785503,\n",
       " 0.040069707653790365,\n",
       " 0.032590199838066325,\n",
       " 0.046589900554721675,\n",
       " 0.03379566237729237,\n",
       " 0.01651390759898086,\n",
       " 0.030186129573443465,\n",
       " 0.02633218486971267]"
      ]
     },
     "execution_count": 174,
     "metadata": {},
     "output_type": "execute_result"
    }
   ],
   "source": [
    "scores"
   ]
  },
  {
   "cell_type": "code",
   "execution_count": 195,
   "metadata": {},
   "outputs": [],
   "source": [
    "df_info = pd.DataFrame(0, index=[0],columns=feature_columns)"
   ]
  },
  {
   "cell_type": "code",
   "execution_count": 196,
   "metadata": {},
   "outputs": [
    {
     "data": {
      "text/plain": [
       "['feature_8', 'feature_1', 'feature_15', 'feature_15', 'feature_1']"
      ]
     },
     "execution_count": 196,
     "metadata": {},
     "output_type": "execute_result"
    }
   ],
   "source": [
    "features[idx]"
   ]
  },
  {
   "cell_type": "code",
   "execution_count": 197,
   "metadata": {},
   "outputs": [
    {
     "data": {
      "text/plain": [
       "array([0.43555955, 0.15326518, 0.12629361, 0.13462824, 0.15025342])"
      ]
     },
     "execution_count": 197,
     "metadata": {},
     "output_type": "execute_result"
    }
   ],
   "source": [
    "importance[idx]"
   ]
  },
  {
   "cell_type": "code",
   "execution_count": 198,
   "metadata": {},
   "outputs": [],
   "source": [
    "\n",
    "df_info[features[idx]] += importance[idx]"
   ]
  },
  {
   "cell_type": "code",
   "execution_count": 214,
   "metadata": {},
   "outputs": [
    {
     "data": {
      "text/plain": [
       "array([[0.        , 0.15326518, 0.        , 0.        , 0.        ,\n",
       "        0.        , 0.        , 0.        , 0.43555955, 0.        ,\n",
       "        0.        , 0.        , 0.        , 0.        , 0.        ,\n",
       "        0.12629361, 0.        , 0.        , 0.        , 0.        ,\n",
       "        0.        , 0.        , 0.        , 0.        ]])"
      ]
     },
     "execution_count": 214,
     "metadata": {},
     "output_type": "execute_result"
    }
   ],
   "source": [
    "df_info.values.reshape(-1)"
   ]
  },
  {
   "cell_type": "code",
   "execution_count": 180,
   "metadata": {},
   "outputs": [
    {
     "ename": "TypeError",
     "evalue": "'>' not supported between instances of 'int' and 'list'",
     "output_type": "error",
     "traceback": [
      "\u001b[0;31m---------------------------------------------------------------------------\u001b[0m",
      "\u001b[0;31mTypeError\u001b[0m                                 Traceback (most recent call last)",
      "\u001b[0;32m<ipython-input-180-7495705e0800>\u001b[0m in \u001b[0;36m<module>\u001b[0;34m\u001b[0m\n\u001b[0;32m----> 1\u001b[0;31m \u001b[0midx\u001b[0m \u001b[0;34m=\u001b[0m \u001b[0mscores\u001b[0m\u001b[0;34m.\u001b[0m\u001b[0mindex\u001b[0m\u001b[0;34m(\u001b[0m\u001b[0mmax\u001b[0m\u001b[0;34m(\u001b[0m\u001b[0mscores\u001b[0m\u001b[0;34m,\u001b[0m\u001b[0;36m2\u001b[0m\u001b[0;34m)\u001b[0m\u001b[0;34m)\u001b[0m\u001b[0;34m\u001b[0m\u001b[0;34m\u001b[0m\u001b[0m\n\u001b[0m\u001b[1;32m      2\u001b[0m \u001b[0;31m#print(features[idx])\u001b[0m\u001b[0;34m\u001b[0m\u001b[0;34m\u001b[0m\u001b[0;34m\u001b[0m\u001b[0m\n\u001b[1;32m      3\u001b[0m \u001b[0;31m#print(importance[idx])\u001b[0m\u001b[0;34m\u001b[0m\u001b[0;34m\u001b[0m\u001b[0;34m\u001b[0m\u001b[0m\n",
      "\u001b[0;31mTypeError\u001b[0m: '>' not supported between instances of 'int' and 'list'"
     ]
    }
   ],
   "source": [
    "idx = scores.index(max(scores))\n",
    "#print(features[idx])\n",
    "#print(importance[idx])"
   ]
  },
  {
   "cell_type": "code",
   "execution_count": 137,
   "metadata": {},
   "outputs": [
    {
     "data": {
      "text/plain": [
       "0.0730242116636356"
      ]
     },
     "execution_count": 137,
     "metadata": {},
     "output_type": "execute_result"
    }
   ],
   "source": [
    "rfr.score(X_test, y_test)"
   ]
  },
  {
   "cell_type": "code",
   "execution_count": 138,
   "metadata": {},
   "outputs": [
    {
     "data": {
      "text/plain": [
       "0.0730242116636356"
      ]
     },
     "execution_count": 138,
     "metadata": {},
     "output_type": "execute_result"
    }
   ],
   "source": [
    "r2_score(y_test, y_pred)"
   ]
  },
  {
   "cell_type": "code",
   "execution_count": 131,
   "metadata": {},
   "outputs": [
    {
     "data": {
      "text/plain": [
       "array([0.08729591, 0.03184621, 0.04010901, 0.08734565, 0.04488176,\n",
       "       0.04215766, 0.02496298, 0.01839712, 0.08692908, 0.0309505 ,\n",
       "       0.04054204, 0.08836643, 0.04492392, 0.04476215, 0.02558023,\n",
       "       0.01713656, 0.04378081, 0.04257374, 0.01705536, 0.01735022,\n",
       "       0.0439005 , 0.04215868, 0.01839283, 0.01860064])"
      ]
     },
     "execution_count": 131,
     "metadata": {},
     "output_type": "execute_result"
    }
   ],
   "source": [
    "rfr.feature_importances_"
   ]
  },
  {
   "cell_type": "code",
   "execution_count": 331,
   "metadata": {},
   "outputs": [
    {
     "data": {
      "text/plain": [
       "[<matplotlib.lines.Line2D at 0x7fa9ae6ceb20>]"
      ]
     },
     "execution_count": 331,
     "metadata": {},
     "output_type": "execute_result"
    },
    {
     "data": {
      "image/png": "[encoded data removed]",
      "text/plain": [
       "<Figure size 432x288 with 1 Axes>"
      ]
     },
     "metadata": {
      "needs_background": "light"
     },
     "output_type": "display_data"
    }
   ],
   "source": [
    "plt.plot(y_test, y_pred, \".\")"
   ]
  }
 ],
 "metadata": {
  "kernelspec": {
   "display_name": "trading-bot",
   "language": "python",
   "name": "trading-bot"
  },
  "language_info": {
   "codemirror_mode": {
    "name": "ipython",
    "version": 3
   },
   "file_extension": ".py",
   "mimetype": "text/x-python",
   "name": "python",
   "nbconvert_exporter": "python",
   "pygments_lexer": "ipython3",
   "version": "3.8.5"
  }
 },
 "nbformat": 4,
 "nbformat_minor": 4
}
