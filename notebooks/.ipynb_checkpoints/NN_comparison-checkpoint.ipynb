{
 "cells": [
  {
   "cell_type": "markdown",
   "metadata": {},
   "source": [
    "In this notebook we are going to compare a normal scikit NN regressor with its implementation on pytorch. Something is off so lets figure it out"
   ]
  },
  {
   "cell_type": "code",
   "execution_count": 8,
   "metadata": {},
   "outputs": [],
   "source": [
    "import pandas as pd\n",
    "import numpy as np\n",
    "from sklearn.neural_network import MLPRegressor"
   ]
  },
  {
   "cell_type": "code",
   "execution_count": 43,
   "metadata": {},
   "outputs": [],
   "source": [
    "df_train = pd.DataFrame(\n",
    "    data={\"x\": np.linspace(1,10,10),\n",
    "          \"y\": np.linspace(1,10,10), \"target\": np.linspace(1,10,10)+np.linspace(1,10,10)\n",
    "         })"
   ]
  },
  {
   "cell_type": "code",
   "execution_count": 56,
   "metadata": {},
   "outputs": [],
   "source": [
    "model = MLPRegressor(hidden_layer_sizes=(10,5), random_state=1, verbose=False, max_iter=1000, tol=1e-10)"
   ]
  },
  {
   "cell_type": "code",
   "execution_count": 59,
   "metadata": {},
   "outputs": [
    {
     "name": "stderr",
     "output_type": "stream",
     "text": [
      "/Users/pablocanadapereira/opt/anaconda3/envs/trading-bot/lib/python3.8/site-packages/sklearn/neural_network/_multilayer_perceptron.py:582: ConvergenceWarning: Stochastic Optimizer: Maximum iterations (1000) reached and the optimization hasn't converged yet.\n",
      "  warnings.warn(\n"
     ]
    },
    {
     "data": {
      "text/plain": [
       "MLPRegressor(hidden_layer_sizes=(10, 5), max_iter=1000, random_state=1,\n",
       "             tol=1e-10)"
      ]
     },
     "execution_count": 59,
     "metadata": {},
     "output_type": "execute_result"
    }
   ],
   "source": [
    "model.fit(X=df_train[[\"x\",\"y\"]], y=df_train[\"target\"])"
   ]
  },
  {
   "cell_type": "code",
   "execution_count": 60,
   "metadata": {},
   "outputs": [
    {
     "data": {
      "text/plain": [
       "array([ 2.00712429,  4.00578522,  6.00444616,  8.0031071 , 10.00176803,\n",
       "       12.00042897, 13.99908991, 15.99775084, 17.99641178, 19.99367695])"
      ]
     },
     "execution_count": 60,
     "metadata": {},
     "output_type": "execute_result"
    }
   ],
   "source": [
    "model.predict(df_train[[\"x\", \"y\"]])"
   ]
  },
  {
   "cell_type": "code",
   "execution_count": 61,
   "metadata": {},
   "outputs": [],
   "source": [
    "# pytorch\n",
    "from __future__ import print_function\n",
    "import argparse\n",
    "import torch\n",
    "import torch.nn as nn\n",
    "import torch.nn.functional as F\n",
    "import torch.optim as optim\n",
    "from torchvision import datasets, transforms\n",
    "from torch.optim.lr_scheduler import StepLR\n",
    "import numpy as np\n",
    "\n",
    "\n",
    "class Net(nn.Module):\n",
    "    def __init__(self):\n",
    "        super(Net, self).__init__()\n",
    "        self.fc1 = nn.Linear(2, 10)\n",
    "        self.fc2 = nn.Linear(10, 5)\n",
    "        self.fc3 = nn.Linear(5, 1)\n",
    "\n",
    "    def forward(self, x):\n",
    "        x = self.fc1(x)\n",
    "        x = F.relu(x)\n",
    "        x = self.fc2(x)\n",
    "        x = F.relu(x)\n",
    "        x = self.fc3(x)\n",
    "        #output = F.relu(x)\n",
    "        return x\n",
    "    def predict(self, df, feature_columns):\n",
    "        m, n = df[feature_columns].shape\n",
    "        x = torch.Tensor(df[feature_columns].values)\n",
    "        output = self.forward(x)\n",
    "        return output.detach().numpy()\n",
    "    \n",
    "def get_tensors(df, feature_columns, target_name, BS):\n",
    "    m, n = df[feature_columns].shape\n",
    "    x_all = torch.Tensor(df[feature_columns].values)\n",
    "    y_all = torch.Tensor(df[target_name].values)\n",
    "    x = x_all.reshape([-1, BS, n] )\n",
    "    y = y_all.reshape([-1, BS, 1] )\n",
    "    return x, y\n",
    "    "
   ]
  },
  {
   "cell_type": "code",
   "execution_count": 62,
   "metadata": {},
   "outputs": [],
   "source": [
    "BS = 2\n",
    "x, y = get_tensors(df_train,[\"x\", \"y\"], \"target\", BS )"
   ]
  },
  {
   "cell_type": "code",
   "execution_count": 63,
   "metadata": {},
   "outputs": [],
   "source": [
    "from torch.optim import Adam\n",
    "model = Net()\n",
    "criterion = nn.MSELoss()\n",
    "EPOCHS = 1000"
   ]
  },
  {
   "cell_type": "code",
   "execution_count": 64,
   "metadata": {},
   "outputs": [],
   "source": [
    "\n",
    "\n",
    "lr=0.001\n",
    "optm = Adam(model.parameters(), lr = lr)\n",
    "\n",
    "\n",
    "for i in range(EPOCHS):\n",
    "    \n",
    "    optm.zero_grad()\n",
    "    output = model(x)\n",
    "    #print(output.shape)\n",
    "    #print(y.shape)\n",
    "    loss = criterion(output,y)\n",
    "    loss.backward()\n",
    "    optm.step()\n",
    "    # lr\n",
    "    #if i%10==0:\n",
    "    #    lr = lr * (0.75 ** (i // 10))\n",
    "    #print(lr)\n",
    "    #optm = Adam(model.parameters(), lr = lr)\n",
    "\n",
    "\n",
    "    #print(loss)"
   ]
  },
  {
   "cell_type": "code",
   "execution_count": 65,
   "metadata": {},
   "outputs": [
    {
     "data": {
      "text/plain": [
       "array([[ 2.0004706],\n",
       "       [ 4.000385 ],\n",
       "       [ 6.000299 ],\n",
       "       [ 8.000214 ],\n",
       "       [10.000128 ],\n",
       "       [12.000042 ],\n",
       "       [13.999956 ],\n",
       "       [15.999868 ],\n",
       "       [17.999783 ],\n",
       "       [19.999697 ]], dtype=float32)"
      ]
     },
     "execution_count": 65,
     "metadata": {},
     "output_type": "execute_result"
    }
   ],
   "source": [
    "model.predict(df_train, [\"x\", \"y\"])"
   ]
  },
  {
   "cell_type": "code",
   "execution_count": 55,
   "metadata": {},
   "outputs": [
    {
     "data": {
      "text/plain": [
       "0     2.0\n",
       "1     4.0\n",
       "2     6.0\n",
       "3     8.0\n",
       "4    10.0\n",
       "5    12.0\n",
       "6    14.0\n",
       "7    16.0\n",
       "8    18.0\n",
       "9    20.0\n",
       "Name: target, dtype: float64"
      ]
     },
     "execution_count": 55,
     "metadata": {},
     "output_type": "execute_result"
    }
   ],
   "source": [
    "df_train[\"target\"]"
   ]
  }
 ],
 "metadata": {
  "kernelspec": {
   "display_name": "trading-bot",
   "language": "python",
   "name": "trading-bot"
  },
  "language_info": {
   "codemirror_mode": {
    "name": "ipython",
    "version": 3
   },
   "file_extension": ".py",
   "mimetype": "text/x-python",
   "name": "python",
   "nbconvert_exporter": "python",
   "pygments_lexer": "ipython3",
   "version": "3.8.5"
  }
 },
 "nbformat": 4,
 "nbformat_minor": 4
}
