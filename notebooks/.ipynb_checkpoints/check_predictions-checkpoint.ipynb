{
 "cells": [
  {
   "cell_type": "code",
   "execution_count": 47,
   "metadata": {},
   "outputs": [],
   "source": [
    "import yfinance as yf\n",
    "import pandas as pd\n",
    "from datetime import date, timedelta"
   ]
  },
  {
   "cell_type": "code",
   "execution_count": 84,
   "metadata": {},
   "outputs": [],
   "source": [
    "class DownloaderHistoricalData:\n",
    "    int_days = 7\n",
    "    interval = \"1m\"\n",
    "    def __init__(self, ticker, start_date):\n",
    "        self.ticker=ticker\n",
    "        self.start_date=start_date\n",
    "        self.df = pd.DataFrame()\n",
    "    def download_batch(self, start, end):\n",
    "        df = yf.download(self.ticker, start=start, end=end, interval=self.interval)\n",
    "        self.df = pd.concat([self.df, df])\n",
    "        \n",
    "    def download(self):\n",
    "        start = self.start_date\n",
    "        for _ in range(4):\n",
    "            end = self.get_next_date(start)\n",
    "            self.download_batch(start, end)\n",
    "            start = end\n",
    "    def get_next_date(self, date_0):\n",
    "        final_date = date.fromisoformat(date_0)+timedelta(days=self.int_days)\n",
    "        return final_date.strftime(format=\"%Y-%m-%d\")\n",
    "        \n",
    "        \n",
    "        \n",
    "        \n",
    "    \n",
    "        \n",
    "        "
   ]
  },
  {
   "cell_type": "code",
   "execution_count": 85,
   "metadata": {},
   "outputs": [],
   "source": [
    "dhd = DownloaderHistoricalData(\"AAPL\", \"2021-06-01\")"
   ]
  },
  {
   "cell_type": "code",
   "execution_count": 86,
   "metadata": {},
   "outputs": [
    {
     "name": "stdout",
     "output_type": "stream",
     "text": [
      "[*********************100%***********************]  1 of 1 completed\n",
      "\n",
      "1 Failed download:\n",
      "- AAPL: 1m data not available for startTime=1622498400 and endTime=1623103200. The requested range must be within the last 30 days.\n",
      "[*********************100%***********************]  1 of 1 completed\n",
      "\n",
      "1 Failed download:\n",
      "- AAPL: 1m data not available for startTime=1623103200 and endTime=1623708000. The requested range must be within the last 30 days.\n",
      "[*********************100%***********************]  1 of 1 completed\n",
      "\n",
      "1 Failed download:\n",
      "- AAPL: 1m data not available for startTime=1623708000 and endTime=1624312800. The requested range must be within the last 30 days.\n",
      "[*********************100%***********************]  1 of 1 completed\n",
      "\n",
      "1 Failed download:\n",
      "- AAPL: 1m data not available for startTime=1624312800 and endTime=1624917600. The requested range must be within the last 30 days.\n"
     ]
    }
   ],
   "source": [
    "dhd.download()"
   ]
  },
  {
   "cell_type": "code",
   "execution_count": 82,
   "metadata": {},
   "outputs": [
    {
     "data": {
      "text/plain": [
       "<AxesSubplot:>"
      ]
     },
     "execution_count": 82,
     "metadata": {},
     "output_type": "execute_result"
    },
    {
     "data": {
      "image/png": "[encoded data removed]",
      "text/plain": [
       "<Figure size 432x288 with 1 Axes>"
      ]
     },
     "metadata": {
      "needs_background": "light"
     },
     "output_type": "display_data"
    }
   ],
   "source": [
    "dhd.df.plot(y=\"Close\")"
   ]
  },
  {
   "cell_type": "code",
   "execution_count": 87,
   "metadata": {},
   "outputs": [
    {
     "name": "stdout",
     "output_type": "stream",
     "text": [
      "[*********************100%***********************]  1 of 1 completed\n"
     ]
    }
   ],
   "source": [
    "data = yf.download(\"AAPL\", start=\"2021-09-01\", end=\"2021-09-08\", interval=\"1d\")"
   ]
  },
  {
   "cell_type": "code",
   "execution_count": 88,
   "metadata": {},
   "outputs": [
    {
     "data": {
      "text/html": [
       "<div>\n",
       "<style scoped>\n",
       "    .dataframe tbody tr th:only-of-type {\n",
       "        vertical-align: middle;\n",
       "    }\n",
       "\n",
       "    .dataframe tbody tr th {\n",
       "        vertical-align: top;\n",
       "    }\n",
       "\n",
       "    .dataframe thead th {\n",
       "        text-align: right;\n",
       "    }\n",
       "</style>\n",
       "<table border=\"1\" class=\"dataframe\">\n",
       "  <thead>\n",
       "    <tr style=\"text-align: right;\">\n",
       "      <th></th>\n",
       "      <th>Open</th>\n",
       "      <th>High</th>\n",
       "      <th>Low</th>\n",
       "      <th>Close</th>\n",
       "      <th>Adj Close</th>\n",
       "      <th>Volume</th>\n",
       "    </tr>\n",
       "    <tr>\n",
       "      <th>Date</th>\n",
       "      <th></th>\n",
       "      <th></th>\n",
       "      <th></th>\n",
       "      <th></th>\n",
       "      <th></th>\n",
       "      <th></th>\n",
       "    </tr>\n",
       "  </thead>\n",
       "  <tbody>\n",
       "    <tr>\n",
       "      <th>2021-08-31</th>\n",
       "      <td>152.660004</td>\n",
       "      <td>152.800003</td>\n",
       "      <td>151.289993</td>\n",
       "      <td>151.830002</td>\n",
       "      <td>151.830002</td>\n",
       "      <td>86453100</td>\n",
       "    </tr>\n",
       "    <tr>\n",
       "      <th>2021-09-01</th>\n",
       "      <td>152.830002</td>\n",
       "      <td>154.979996</td>\n",
       "      <td>152.339996</td>\n",
       "      <td>152.509995</td>\n",
       "      <td>152.509995</td>\n",
       "      <td>80313700</td>\n",
       "    </tr>\n",
       "    <tr>\n",
       "      <th>2021-09-02</th>\n",
       "      <td>153.869995</td>\n",
       "      <td>154.720001</td>\n",
       "      <td>152.399994</td>\n",
       "      <td>153.649994</td>\n",
       "      <td>153.649994</td>\n",
       "      <td>71115500</td>\n",
       "    </tr>\n",
       "    <tr>\n",
       "      <th>2021-09-03</th>\n",
       "      <td>153.759995</td>\n",
       "      <td>154.630005</td>\n",
       "      <td>153.089996</td>\n",
       "      <td>154.300003</td>\n",
       "      <td>154.300003</td>\n",
       "      <td>57808700</td>\n",
       "    </tr>\n",
       "    <tr>\n",
       "      <th>2021-09-07</th>\n",
       "      <td>154.970001</td>\n",
       "      <td>157.259995</td>\n",
       "      <td>154.389999</td>\n",
       "      <td>156.690002</td>\n",
       "      <td>156.690002</td>\n",
       "      <td>82278300</td>\n",
       "    </tr>\n",
       "  </tbody>\n",
       "</table>\n",
       "</div>"
      ],
      "text/plain": [
       "                  Open        High         Low       Close   Adj Close  \\\n",
       "Date                                                                     \n",
       "2021-08-31  152.660004  152.800003  151.289993  151.830002  151.830002   \n",
       "2021-09-01  152.830002  154.979996  152.339996  152.509995  152.509995   \n",
       "2021-09-02  153.869995  154.720001  152.399994  153.649994  153.649994   \n",
       "2021-09-03  153.759995  154.630005  153.089996  154.300003  154.300003   \n",
       "2021-09-07  154.970001  157.259995  154.389999  156.690002  156.690002   \n",
       "\n",
       "              Volume  \n",
       "Date                  \n",
       "2021-08-31  86453100  \n",
       "2021-09-01  80313700  \n",
       "2021-09-02  71115500  \n",
       "2021-09-03  57808700  \n",
       "2021-09-07  82278300  "
      ]
     },
     "execution_count": 88,
     "metadata": {},
     "output_type": "execute_result"
    }
   ],
   "source": [
    "data"
   ]
  },
  {
   "cell_type": "code",
   "execution_count": 58,
   "metadata": {},
   "outputs": [],
   "source": [
    "from datetime import date, timedelta"
   ]
  },
  {
   "cell_type": "code",
   "execution_count": 60,
   "metadata": {},
   "outputs": [],
   "source": [
    "final_date = date.fromisoformat(\"2020-01-31\")+timedelta(days=7)"
   ]
  },
  {
   "cell_type": "code",
   "execution_count": 67,
   "metadata": {},
   "outputs": [
    {
     "data": {
      "text/plain": [
       "'2020-02-07'"
      ]
     },
     "execution_count": 67,
     "metadata": {},
     "output_type": "execute_result"
    }
   ],
   "source": [
    "final_date.strftime(format=\"%Y-%m-%d\")"
   ]
  },
  {
   "cell_type": "code",
   "execution_count": 39,
   "metadata": {},
   "outputs": [
    {
     "data": {
      "text/plain": [
       "<AxesSubplot:xlabel='Datetime'>"
      ]
     },
     "execution_count": 39,
     "metadata": {},
     "output_type": "execute_result"
    },
    {
     "data": {
      "image/png": "[encoded data removed]",
      "text/plain": [
       "<Figure size 432x288 with 1 Axes>"
      ]
     },
     "metadata": {
      "needs_background": "light"
     },
     "output_type": "display_data"
    }
   ],
   "source": [
    "data.plot(y=\"Open\")"
   ]
  },
  {
   "cell_type": "code",
   "execution_count": 10,
   "metadata": {},
   "outputs": [],
   "source": [
    "msft = yf.Ticker(\"MSFT\")"
   ]
  },
  {
   "cell_type": "code",
   "execution_count": 16,
   "metadata": {},
   "outputs": [
    {
     "data": {
      "text/html": [
       "<div>\n",
       "<style scoped>\n",
       "    .dataframe tbody tr th:only-of-type {\n",
       "        vertical-align: middle;\n",
       "    }\n",
       "\n",
       "    .dataframe tbody tr th {\n",
       "        vertical-align: top;\n",
       "    }\n",
       "\n",
       "    .dataframe thead th {\n",
       "        text-align: right;\n",
       "    }\n",
       "</style>\n",
       "<table border=\"1\" class=\"dataframe\">\n",
       "  <thead>\n",
       "    <tr style=\"text-align: right;\">\n",
       "      <th></th>\n",
       "      <th>2021-06-30</th>\n",
       "      <th>2021-03-31</th>\n",
       "      <th>2020-12-31</th>\n",
       "      <th>2020-09-30</th>\n",
       "    </tr>\n",
       "  </thead>\n",
       "  <tbody>\n",
       "    <tr>\n",
       "      <th>Research Development</th>\n",
       "      <td>5.687e+09</td>\n",
       "      <td>5.204e+09</td>\n",
       "      <td>4.899e+09</td>\n",
       "      <td>4.926e+09</td>\n",
       "    </tr>\n",
       "    <tr>\n",
       "      <th>Effect Of Accounting Charges</th>\n",
       "      <td>None</td>\n",
       "      <td>None</td>\n",
       "      <td>None</td>\n",
       "      <td>None</td>\n",
       "    </tr>\n",
       "    <tr>\n",
       "      <th>Income Before Tax</th>\n",
       "      <td>1.9405e+10</td>\n",
       "      <td>1.7236e+10</td>\n",
       "      <td>1.8337e+10</td>\n",
       "      <td>1.6124e+10</td>\n",
       "    </tr>\n",
       "    <tr>\n",
       "      <th>Minority Interest</th>\n",
       "      <td>None</td>\n",
       "      <td>None</td>\n",
       "      <td>None</td>\n",
       "      <td>None</td>\n",
       "    </tr>\n",
       "    <tr>\n",
       "      <th>Net Income</th>\n",
       "      <td>1.6458e+10</td>\n",
       "      <td>1.5457e+10</td>\n",
       "      <td>1.5463e+10</td>\n",
       "      <td>1.3893e+10</td>\n",
       "    </tr>\n",
       "    <tr>\n",
       "      <th>Selling General Administrative</th>\n",
       "      <td>7.379e+09</td>\n",
       "      <td>6.409e+09</td>\n",
       "      <td>6.086e+09</td>\n",
       "      <td>5.35e+09</td>\n",
       "    </tr>\n",
       "    <tr>\n",
       "      <th>Gross Profit</th>\n",
       "      <td>3.2161e+10</td>\n",
       "      <td>2.8661e+10</td>\n",
       "      <td>2.8882e+10</td>\n",
       "      <td>2.6152e+10</td>\n",
       "    </tr>\n",
       "    <tr>\n",
       "      <th>Ebit</th>\n",
       "      <td>1.9095e+10</td>\n",
       "      <td>1.7048e+10</td>\n",
       "      <td>1.7897e+10</td>\n",
       "      <td>1.5876e+10</td>\n",
       "    </tr>\n",
       "    <tr>\n",
       "      <th>Operating Income</th>\n",
       "      <td>1.9095e+10</td>\n",
       "      <td>1.7048e+10</td>\n",
       "      <td>1.7897e+10</td>\n",
       "      <td>1.5876e+10</td>\n",
       "    </tr>\n",
       "    <tr>\n",
       "      <th>Other Operating Expenses</th>\n",
       "      <td>None</td>\n",
       "      <td>None</td>\n",
       "      <td>None</td>\n",
       "      <td>None</td>\n",
       "    </tr>\n",
       "    <tr>\n",
       "      <th>Interest Expense</th>\n",
       "      <td>-5.49e+08</td>\n",
       "      <td>-6.28e+08</td>\n",
       "      <td>-5.68e+08</td>\n",
       "      <td>-5.85e+08</td>\n",
       "    </tr>\n",
       "    <tr>\n",
       "      <th>Extraordinary Items</th>\n",
       "      <td>None</td>\n",
       "      <td>None</td>\n",
       "      <td>None</td>\n",
       "      <td>None</td>\n",
       "    </tr>\n",
       "    <tr>\n",
       "      <th>Non Recurring</th>\n",
       "      <td>None</td>\n",
       "      <td>None</td>\n",
       "      <td>None</td>\n",
       "      <td>None</td>\n",
       "    </tr>\n",
       "    <tr>\n",
       "      <th>Other Items</th>\n",
       "      <td>None</td>\n",
       "      <td>None</td>\n",
       "      <td>None</td>\n",
       "      <td>None</td>\n",
       "    </tr>\n",
       "    <tr>\n",
       "      <th>Income Tax Expense</th>\n",
       "      <td>2.947e+09</td>\n",
       "      <td>1.779e+09</td>\n",
       "      <td>2.874e+09</td>\n",
       "      <td>2.231e+09</td>\n",
       "    </tr>\n",
       "    <tr>\n",
       "      <th>Total Revenue</th>\n",
       "      <td>4.6152e+10</td>\n",
       "      <td>4.1706e+10</td>\n",
       "      <td>4.3076e+10</td>\n",
       "      <td>3.7154e+10</td>\n",
       "    </tr>\n",
       "    <tr>\n",
       "      <th>Total Operating Expenses</th>\n",
       "      <td>2.7057e+10</td>\n",
       "      <td>2.4658e+10</td>\n",
       "      <td>2.5179e+10</td>\n",
       "      <td>2.1278e+10</td>\n",
       "    </tr>\n",
       "    <tr>\n",
       "      <th>Cost Of Revenue</th>\n",
       "      <td>1.3991e+10</td>\n",
       "      <td>1.3045e+10</td>\n",
       "      <td>1.4194e+10</td>\n",
       "      <td>1.1002e+10</td>\n",
       "    </tr>\n",
       "    <tr>\n",
       "      <th>Total Other Income Expense Net</th>\n",
       "      <td>3.1e+08</td>\n",
       "      <td>1.88e+08</td>\n",
       "      <td>4.4e+08</td>\n",
       "      <td>2.48e+08</td>\n",
       "    </tr>\n",
       "    <tr>\n",
       "      <th>Discontinued Operations</th>\n",
       "      <td>None</td>\n",
       "      <td>None</td>\n",
       "      <td>None</td>\n",
       "      <td>None</td>\n",
       "    </tr>\n",
       "    <tr>\n",
       "      <th>Net Income From Continuing Ops</th>\n",
       "      <td>1.6458e+10</td>\n",
       "      <td>1.5457e+10</td>\n",
       "      <td>1.5463e+10</td>\n",
       "      <td>1.3893e+10</td>\n",
       "    </tr>\n",
       "    <tr>\n",
       "      <th>Net Income Applicable To Common Shares</th>\n",
       "      <td>1.6458e+10</td>\n",
       "      <td>1.5457e+10</td>\n",
       "      <td>1.5463e+10</td>\n",
       "      <td>1.3893e+10</td>\n",
       "    </tr>\n",
       "  </tbody>\n",
       "</table>\n",
       "</div>"
      ],
      "text/plain": [
       "                                        2021-06-30  2021-03-31  2020-12-31  \\\n",
       "Research Development                     5.687e+09   5.204e+09   4.899e+09   \n",
       "Effect Of Accounting Charges                  None        None        None   \n",
       "Income Before Tax                       1.9405e+10  1.7236e+10  1.8337e+10   \n",
       "Minority Interest                             None        None        None   \n",
       "Net Income                              1.6458e+10  1.5457e+10  1.5463e+10   \n",
       "Selling General Administrative           7.379e+09   6.409e+09   6.086e+09   \n",
       "Gross Profit                            3.2161e+10  2.8661e+10  2.8882e+10   \n",
       "Ebit                                    1.9095e+10  1.7048e+10  1.7897e+10   \n",
       "Operating Income                        1.9095e+10  1.7048e+10  1.7897e+10   \n",
       "Other Operating Expenses                      None        None        None   \n",
       "Interest Expense                         -5.49e+08   -6.28e+08   -5.68e+08   \n",
       "Extraordinary Items                           None        None        None   \n",
       "Non Recurring                                 None        None        None   \n",
       "Other Items                                   None        None        None   \n",
       "Income Tax Expense                       2.947e+09   1.779e+09   2.874e+09   \n",
       "Total Revenue                           4.6152e+10  4.1706e+10  4.3076e+10   \n",
       "Total Operating Expenses                2.7057e+10  2.4658e+10  2.5179e+10   \n",
       "Cost Of Revenue                         1.3991e+10  1.3045e+10  1.4194e+10   \n",
       "Total Other Income Expense Net             3.1e+08    1.88e+08     4.4e+08   \n",
       "Discontinued Operations                       None        None        None   \n",
       "Net Income From Continuing Ops          1.6458e+10  1.5457e+10  1.5463e+10   \n",
       "Net Income Applicable To Common Shares  1.6458e+10  1.5457e+10  1.5463e+10   \n",
       "\n",
       "                                        2020-09-30  \n",
       "Research Development                     4.926e+09  \n",
       "Effect Of Accounting Charges                  None  \n",
       "Income Before Tax                       1.6124e+10  \n",
       "Minority Interest                             None  \n",
       "Net Income                              1.3893e+10  \n",
       "Selling General Administrative            5.35e+09  \n",
       "Gross Profit                            2.6152e+10  \n",
       "Ebit                                    1.5876e+10  \n",
       "Operating Income                        1.5876e+10  \n",
       "Other Operating Expenses                      None  \n",
       "Interest Expense                         -5.85e+08  \n",
       "Extraordinary Items                           None  \n",
       "Non Recurring                                 None  \n",
       "Other Items                                   None  \n",
       "Income Tax Expense                       2.231e+09  \n",
       "Total Revenue                           3.7154e+10  \n",
       "Total Operating Expenses                2.1278e+10  \n",
       "Cost Of Revenue                         1.1002e+10  \n",
       "Total Other Income Expense Net            2.48e+08  \n",
       "Discontinued Operations                       None  \n",
       "Net Income From Continuing Ops          1.3893e+10  \n",
       "Net Income Applicable To Common Shares  1.3893e+10  "
      ]
     },
     "execution_count": 16,
     "metadata": {},
     "output_type": "execute_result"
    }
   ],
   "source": [
    "msft.quarterly_financials"
   ]
  }
 ],
 "metadata": {
  "kernelspec": {
   "display_name": "trading-bot",
   "language": "python",
   "name": "trading-bot"
  },
  "language_info": {
   "codemirror_mode": {
    "name": "ipython",
    "version": 3
   },
   "file_extension": ".py",
   "mimetype": "text/x-python",
   "name": "python",
   "nbconvert_exporter": "python",
   "pygments_lexer": "ipython3",
   "version": "3.8.5"
  }
 },
 "nbformat": 4,
 "nbformat_minor": 4
}
