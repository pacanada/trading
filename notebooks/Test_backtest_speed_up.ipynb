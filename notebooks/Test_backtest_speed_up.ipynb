{
 "cells": [
  {
   "cell_type": "markdown",
   "metadata": {},
   "source": [
    "We are going to implement the backtest function with numba and extension in cpp using cython\n",
    "\n",
    "Numby way faster, there must be some implementations details that are making the code slow. probably using lists and append?"
   ]
  },
  {
   "cell_type": "code",
   "execution_count": 1,
   "metadata": {},
   "outputs": [],
   "source": [
    "from src.core.backtest.backtesting import backtest_numba, backtest_pure_python\n",
    "from src.core.backtest.backtesting_cpp import backtest_cpp, backtest_cpp_no_list"
   ]
  },
  {
   "cell_type": "code",
   "execution_count": null,
   "metadata": {},
   "outputs": [],
   "source": []
  },
  {
   "cell_type": "code",
   "execution_count": 2,
   "metadata": {},
   "outputs": [],
   "source": [
    "#Deserialize\n",
    "import pickle\n",
    "import pandas as pd\n",
    "from src.modules.paths import get_project_root\n",
    "from src.core.features.utils import feature_pipeline, add_domain_features\n",
    "from sklearn.metrics import r2_score\n",
    "import matplotlib.pyplot as plt\n",
    "with open(\"wow_20.pickle\" ,'rb') as f:\n",
    "    model = pickle.load(f)\n",
    "import optuna\n",
    "import numpy as np"
   ]
  },
  {
   "cell_type": "code",
   "execution_count": 3,
   "metadata": {},
   "outputs": [],
   "source": [
    "cut_off_date =\"2021-11-07 21:28:00\"\n",
    "#cut_off_date =\"2021-09-07 21:28:00\"\n",
    "#cut_off_date =\"2021-10-23 21:28:00\"\n",
    "crypto_to_optimize=[\"bcheur\",\"compeur\",\"xdgeur\",\"xlmeur\"]\n",
    "crypto_to_evaluate = [\"etheur\", \"algoeur\", \"bateur\", \"adaeur\",\"xrpeur\"]\n",
    "columns_features = [col for col in feature_pipeline(pd.read_csv(get_project_root() / \"data\" / \"historical\" / \"etheur.csv\"), include_target=False)[0].columns if col.startswith(\"feature\")]"
   ]
  },
  {
   "cell_type": "code",
   "execution_count": 4,
   "metadata": {},
   "outputs": [],
   "source": [
    "\n",
    "\n",
    "\n",
    "df_all = pd.read_feather(get_project_root() / \"data\" / \"training\" / \"training_all_crypto_28_11_2021.feather\")\n",
    "df = df_all[df_all.date>cut_off_date].copy()"
   ]
  },
  {
   "cell_type": "code",
   "execution_count": 5,
   "metadata": {},
   "outputs": [],
   "source": [
    "df[\"preds\"] = model.predict(df[columns_features])"
   ]
  },
  {
   "cell_type": "code",
   "execution_count": 6,
   "metadata": {},
   "outputs": [],
   "source": [
    "df_backtest = df.copy()#[df.pair_name==\"xlmeur\"]"
   ]
  },
  {
   "cell_type": "code",
   "execution_count": 7,
   "metadata": {},
   "outputs": [],
   "source": [
    "params = {'take_profit_pct': 0.049103743582114695,\n",
    "  'stop_loss_pct': 0.18220384882120128,\n",
    "  'lim_pred_buy': -1,\n",
    "\"fee\": 0.0016,\n",
    "\n",
    "\"security_factor\": 0.0024,\n",
    "\n",
    "\"shift\": 1\n",
    "}"
   ]
  },
  {
   "cell_type": "code",
   "execution_count": 13,
   "metadata": {},
   "outputs": [
    {
     "name": "stdout",
     "output_type": "stream",
     "text": [
      "CPU times: user 1.44 ms, sys: 84 µs, total: 1.52 ms\n",
      "Wall time: 1.57 ms\n"
     ]
    }
   ],
   "source": [
    "%time actions = backtest_numba(indexes= df_backtest.time.values, open_values=df_backtest.open.values, preds_values=df_backtest.preds.values,  **params)"
   ]
  },
  {
   "cell_type": "code",
   "execution_count": 9,
   "metadata": {},
   "outputs": [
    {
     "name": "stdout",
     "output_type": "stream",
     "text": [
      "CPU times: user 529 ms, sys: 1.61 ms, total: 531 ms\n",
      "Wall time: 530 ms\n"
     ]
    }
   ],
   "source": [
    "%time actions = backtest_pure_python(indexes= df_backtest.time.values, open_values=df_backtest.open.values, preds_values=df_backtest.preds.values,  **params)"
   ]
  },
  {
   "cell_type": "code",
   "execution_count": 10,
   "metadata": {},
   "outputs": [
    {
     "name": "stdout",
     "output_type": "stream",
     "text": [
      "CPU times: user 75.6 ms, sys: 10.1 ms, total: 85.7 ms\n",
      "Wall time: 85.6 ms\n"
     ]
    }
   ],
   "source": [
    "%time actions = backtest_cpp(indexes= df_backtest.time.values, open_values=df_backtest.open.values, preds_values=df_backtest.preds.values,  **params)"
   ]
  },
  {
   "cell_type": "code",
   "execution_count": 11,
   "metadata": {},
   "outputs": [
    {
     "name": "stdout",
     "output_type": "stream",
     "text": [
      "CPU times: user 86.6 ms, sys: 3.73 ms, total: 90.3 ms\n",
      "Wall time: 97 ms\n"
     ]
    }
   ],
   "source": [
    "%time actions = backtest_cpp_no_list(indexes= df_backtest.time.values, open_values=df_backtest.open.values, preds_values=df_backtest.preds.values,  **params)"
   ]
  }
 ],
 "metadata": {
  "kernelspec": {
   "display_name": "trading-bot",
   "language": "python",
   "name": "trading-bot"
  },
  "language_info": {
   "codemirror_mode": {
    "name": "ipython",
    "version": 3
   },
   "file_extension": ".py",
   "mimetype": "text/x-python",
   "name": "python",
   "nbconvert_exporter": "python",
   "pygments_lexer": "ipython3",
   "version": "3.8.5"
  }
 },
 "nbformat": 4,
 "nbformat_minor": 4
}
